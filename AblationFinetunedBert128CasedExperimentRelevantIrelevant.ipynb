{
  "cells": [
    {
      "cell_type": "code",
      "execution_count": null,
      "metadata": {
        "id": "nLMC4Ma1A0WB"
      },
      "outputs": [],
      "source": [
        "import pandas as pd\n",
        "import seaborn as sns\n",
        "import matplotlib.pyplot as pl\n",
        "import re\n",
        "from sklearn.metrics import classification_report\n",
        "import bs4\n",
        "from collections import defaultdict\n",
        "\n",
        "WORKING_DIR='.'\n",
        "DEVICE = 'cuda'"
      ]
    },
    {
      "cell_type": "code",
      "execution_count": null,
      "metadata": {
        "colab": {
          "base_uri": "https://localhost:8080/"
        },
        "id": "6_qOeq6mA0WD",
        "outputId": "3b45fc60-3038-4252-e46a-00bb0896f3ee"
      },
      "outputs": [],
      "source": [
        "dataset_educ = pd.read_json(f'{WORKING_DIR}/Dataset_educ_1.1.json', orient = 'index')\n",
        "dataset_div = pd.read_json(f'{WORKING_DIR}/Dataset_div2_final.json', orient = 'index')"
      ]
    },
    {
      "cell_type": "code",
      "execution_count": null,
      "metadata": {},
      "outputs": [],
      "source": [
        "regex_link_ful = re.compile('<a href.*\\/contest/.*/submission/.*<\\/a>')\n",
        "code_regex = re.compile('<code>(\\s|.)*?<\\/code>')\n",
        "def preprocess_for_transfomers(texts, problems):\n",
        "  preprocessed_texts = []\n",
        "  for t, p in zip(texts, problems):\n",
        "    t_codes = code_regex.sub(' (code) ', t)\n",
        "    t_link = regex_link_ful.sub(f' (link to problem {p}) ', t_codes)\n",
        "    bs = bs4.BeautifulSoup(t_link)\n",
        "    preprocessed_texts.append(bs.text)\n",
        "  \n",
        "  return preprocessed_texts\n",
        "\n",
        "dataset_educ.loc[~(dataset_educ['label'] == 'Irrelevant'), 'label'] = 'Relevant'\n",
        "preprocessed_text = preprocess_for_transfomers(dataset_educ['text'], dataset_educ['problem'])\n",
        "dataset_educ[\"preprocessed_text\"] = preprocessed_text\n",
        "\n",
        "dataset_div.loc[~(dataset_div['label'] == 'Irrelevant'), 'label'] = 'Relevant'\n",
        "preprocessed_text = preprocess_for_transfomers(dataset_div['text'], dataset_div['problem'])\n",
        "dataset_div[\"preprocessed_text\"] = preprocessed_text"
      ]
    },
    {
      "cell_type": "code",
      "execution_count": null,
      "metadata": {
        "id": "dEOMDxDycWP9"
      },
      "outputs": [],
      "source": [
        "TREE_FATHER_PATH_LENGTH = 3\n",
        "\n",
        "def compute_father_indices_pd(df):\n",
        "  father_tree = {}\n",
        "\n",
        "  for _,com in df.iterrows():\n",
        "    father_tree[com.id] = com.father_id\n",
        "\n",
        "  comment_father_indices = {}\n",
        "\n",
        "  for df_index,com in df.iterrows():\n",
        "      indices = []\n",
        "      last_ind = com.id\n",
        "      for i in range(TREE_FATHER_PATH_LENGTH):\n",
        "        if(father_tree[last_ind] not in father_tree):\n",
        "          indices.append(-1)\n",
        "          continue\n",
        "        if(last_ind != -1):\n",
        "          last_ind = father_tree[last_ind]\n",
        "        \n",
        "        if(last_ind != -1):\n",
        "          indices.append(df[df.id == last_ind].index.values[0])\n",
        "        else:\n",
        "          indices.append(last_ind)\n",
        "      indices.reverse()\n",
        "      comment_father_indices[df_index] = indices\n",
        "  return comment_father_indices\n",
        "\n",
        "father_indices_educ = compute_father_indices_pd(dataset_educ)\n",
        "father_indices_div = compute_father_indices_pd(dataset_div)"
      ]
    },
    {
      "cell_type": "code",
      "execution_count": null,
      "metadata": {},
      "outputs": [
        {
          "name": "stderr",
          "output_type": "stream",
          "text": [
            "d:\\Work\\Machine learning stuff\\Doctorat\\Statement2CodeExplanation\\Statement2Code2Explanation\\venv\\lib\\site-packages\\tqdm\\auto.py:21: TqdmWarning: IProgress not found. Please update jupyter and ipywidgets. See https://ipywidgets.readthedocs.io/en/stable/user_install.html\n",
            "  from .autonotebook import tqdm as notebook_tqdm\n"
          ]
        }
      ],
      "source": [
        "from embeddings_generation import TokenizedDataset, LayerEMBTokenEmbeddingGeneration\n",
        "from embeddings_generation.utils import *\n",
        "\n",
        "huggingface_model_name = \"finetuned-128bert-base\"\n",
        "huggingface_model_name_alias = huggingface_model_name.split(\"/\")[-1] + \"_educ\"\n",
        "\n",
        "if(not embedding_already_persisted(huggingface_model_name_alias)):\n",
        "    persist_embeddings(dataset_educ[\"preprocessed_text\"], huggingface_model_name, huggingface_model_name_alias, dataset_educ.index)\n",
        "    \n",
        "embeddings_educ = load_embeddings(huggingface_model_name_alias)\n",
        "\n",
        "huggingface_model_name_alias_div = huggingface_model_name.split(\"/\")[-1] +'_div'\n",
        "if(not embedding_already_persisted(huggingface_model_name_alias_div)):\n",
        "    persist_embeddings(dataset_div[\"preprocessed_text\"], huggingface_model_name, huggingface_model_name_alias_div, dataset_div.index)\n",
        "embeddings_div = load_embeddings(huggingface_model_name_alias_div)"
      ]
    },
    {
      "cell_type": "code",
      "execution_count": null,
      "metadata": {},
      "outputs": [
        {
          "data": {
            "text/html": [
              "<div>\n",
              "<style scoped>\n",
              "    .dataframe tbody tr th:only-of-type {\n",
              "        vertical-align: middle;\n",
              "    }\n",
              "\n",
              "    .dataframe tbody tr th {\n",
              "        vertical-align: top;\n",
              "    }\n",
              "\n",
              "    .dataframe thead th {\n",
              "        text-align: right;\n",
              "    }\n",
              "</style>\n",
              "<table border=\"1\" class=\"dataframe\">\n",
              "  <thead>\n",
              "    <tr style=\"text-align: right;\">\n",
              "      <th></th>\n",
              "      <th>nrTokens</th>\n",
              "      <th>nrWholeWords</th>\n",
              "      <th>maxWordSplit</th>\n",
              "      <th>nrWordsSplitAtleastTwice</th>\n",
              "      <th>ratioNotWholeWords</th>\n",
              "    </tr>\n",
              "  </thead>\n",
              "  <tbody>\n",
              "    <tr>\n",
              "      <th>count</th>\n",
              "      <td>937.000000</td>\n",
              "      <td>937.000000</td>\n",
              "      <td>937.000000</td>\n",
              "      <td>937.000000</td>\n",
              "      <td>937.000000</td>\n",
              "    </tr>\n",
              "    <tr>\n",
              "      <th>mean</th>\n",
              "      <td>74.668090</td>\n",
              "      <td>70.043757</td>\n",
              "      <td>1.469584</td>\n",
              "      <td>3.155816</td>\n",
              "      <td>0.056390</td>\n",
              "    </tr>\n",
              "    <tr>\n",
              "      <th>std</th>\n",
              "      <td>129.464346</td>\n",
              "      <td>122.614020</td>\n",
              "      <td>1.337087</td>\n",
              "      <td>6.083399</td>\n",
              "      <td>0.071372</td>\n",
              "    </tr>\n",
              "    <tr>\n",
              "      <th>min</th>\n",
              "      <td>3.000000</td>\n",
              "      <td>3.000000</td>\n",
              "      <td>0.000000</td>\n",
              "      <td>0.000000</td>\n",
              "      <td>0.000000</td>\n",
              "    </tr>\n",
              "    <tr>\n",
              "      <th>25%</th>\n",
              "      <td>17.000000</td>\n",
              "      <td>16.000000</td>\n",
              "      <td>0.000000</td>\n",
              "      <td>0.000000</td>\n",
              "      <td>0.000000</td>\n",
              "    </tr>\n",
              "    <tr>\n",
              "      <th>50%</th>\n",
              "      <td>32.000000</td>\n",
              "      <td>30.000000</td>\n",
              "      <td>1.000000</td>\n",
              "      <td>1.000000</td>\n",
              "      <td>0.041667</td>\n",
              "    </tr>\n",
              "    <tr>\n",
              "      <th>75%</th>\n",
              "      <td>74.000000</td>\n",
              "      <td>68.000000</td>\n",
              "      <td>2.000000</td>\n",
              "      <td>4.000000</td>\n",
              "      <td>0.075758</td>\n",
              "    </tr>\n",
              "    <tr>\n",
              "      <th>max</th>\n",
              "      <td>1424.000000</td>\n",
              "      <td>1373.000000</td>\n",
              "      <td>11.000000</td>\n",
              "      <td>93.000000</td>\n",
              "      <td>0.571429</td>\n",
              "    </tr>\n",
              "  </tbody>\n",
              "</table>\n",
              "</div>"
            ],
            "text/plain": [
              "          nrTokens  nrWholeWords  maxWordSplit  nrWordsSplitAtleastTwice  \\\n",
              "count   937.000000    937.000000    937.000000                937.000000   \n",
              "mean     74.668090     70.043757      1.469584                  3.155816   \n",
              "std     129.464346    122.614020      1.337087                  6.083399   \n",
              "min       3.000000      3.000000      0.000000                  0.000000   \n",
              "25%      17.000000     16.000000      0.000000                  0.000000   \n",
              "50%      32.000000     30.000000      1.000000                  1.000000   \n",
              "75%      74.000000     68.000000      2.000000                  4.000000   \n",
              "max    1424.000000   1373.000000     11.000000                 93.000000   \n",
              "\n",
              "       ratioNotWholeWords  \n",
              "count          937.000000  \n",
              "mean             0.056390  \n",
              "std              0.071372  \n",
              "min              0.000000  \n",
              "25%              0.000000  \n",
              "50%              0.041667  \n",
              "75%              0.075758  \n",
              "max              0.571429  "
            ]
          },
          "execution_count": 6,
          "metadata": {},
          "output_type": "execute_result"
        }
      ],
      "source": [
        "statistics = determine_tokens_statistics(dataset_educ[\"preprocessed_text\"], huggingface_model_name)\n",
        "\n",
        "statistics[\"ratioNotWholeWords\"] = statistics[\"nrWordsSplitAtleastTwice\"] / statistics[\"nrWholeWords\"]\n",
        "\n",
        "statistics.describe()"
      ]
    },
    {
      "cell_type": "code",
      "execution_count": null,
      "metadata": {},
      "outputs": [],
      "source": [
        "import torch\n",
        "from torch.utils.data.dataset import Dataset\n",
        "from torch.utils.data.dataloader import DataLoader\n",
        "import numpy as np\n",
        "import random\n",
        "RANDOM_SEED = 443\n",
        "DEVICE = \"cuda\"\n",
        "\n",
        "torch.manual_seed(RANDOM_SEED)\n",
        "np.random.seed(RANDOM_SEED)\n",
        "random.seed(RANDOM_SEED)\n",
        "\n",
        "groups = list(dataset_educ.groupby(lambda k : k.split(\"?\")[0]))\n",
        "random.shuffle(groups)\n",
        "\n",
        "train_groups = groups[:10]\n",
        "validation_groups = groups[10:13]\n",
        "test_groups = groups[13:]\n",
        "\n",
        "train_educ_dataset = dataset_educ.loc[[idx for _, g in train_groups for idx in g.index.tolist()]]\n",
        "val_educ_dataset = dataset_educ.loc[[idx for _, g in validation_groups for idx in g.index.tolist()]]\n",
        "test_educ_dataset = dataset_educ.loc[[idx for _, g in test_groups for idx in g.index.tolist()]]\n",
        "\n",
        "from sklearn.preprocessing import LabelEncoder\n",
        "labelEncoder = LabelEncoder()\n",
        "train_encoded_labels = labelEncoder.fit_transform(train_educ_dataset[\"label\"])\n",
        "val_encoded_labels = labelEncoder.fit_transform(val_educ_dataset[\"label\"])\n",
        "test_encoded_labels = labelEncoder.fit_transform(test_educ_dataset[\"label\"])\n",
        "\n",
        "div_encoded_labels = labelEncoder.fit_transform(dataset_div[\"label\"])"
      ]
    },
    {
      "cell_type": "code",
      "execution_count": null,
      "metadata": {},
      "outputs": [],
      "source": [
        "class BlogCommentDataset(Dataset):\n",
        "    def __init__(self, dataset:pd.DataFrame, embeddings:dict, father_indices:dict, num_last_layers_embeddings_agg ,labels):\n",
        "        self.dataset = dataset\n",
        "        self.embeddings = embeddings\n",
        "        self.father_indices = father_indices\n",
        "        self.num_last_layers_embeddings_agg = num_last_layers_embeddings_agg\n",
        "        self.labels = labels\n",
        "    def __len__(self):\n",
        "        return len(self.dataset)\n",
        "    def __getitem__(self, index):\n",
        "        df_index = self.dataset.index[index]\n",
        "        embedding = self._agg_emb(self.embeddings[df_index])\n",
        "        fathers = self.father_indices[df_index]\n",
        "\n",
        "        embedding_fathers = []\n",
        "        masks = []\n",
        "        for f_idx in fathers:\n",
        "            if(f_idx == -1):\n",
        "                embedding_fathers.append(torch.zeros(embedding.shape[0]))\n",
        "                masks.append(1)\n",
        "            else:\n",
        "                embedding_fathers.append(self._agg_emb(self.embeddings[f_idx]))\n",
        "                masks.append(0)\n",
        "\n",
        "        embedding_fathers = torch.stack(embedding_fathers)\n",
        "        return embedding.to(DEVICE), embedding_fathers.to(DEVICE), torch.tensor(masks, dtype = torch.float32).to(DEVICE), torch.tensor(self.labels[index], dtype = torch.long).to(DEVICE)\n",
        "    \n",
        "    def _agg_emb(self, embedding):\n",
        "        embedding = np.array(embedding, dtype=np.float32)\n",
        "        embedding = embedding[0, -self.num_last_layers_embeddings_agg:, :].mean(0)\n",
        "        return torch.from_numpy(embedding)\n",
        "\n",
        "train_torch_dataset = BlogCommentDataset(train_educ_dataset, embeddings_educ, father_indices_educ, 3, train_encoded_labels)\n",
        "train_torch_dataloader = DataLoader(train_torch_dataset, 2, shuffle=True)\n",
        "\n",
        "val_torch_dataset = BlogCommentDataset(val_educ_dataset, embeddings_educ, father_indices_educ, 3, val_encoded_labels)\n",
        "val_torch_dataloader = DataLoader(val_torch_dataset, 2, shuffle=False)\n",
        "\n",
        "test_torch_dataset = BlogCommentDataset(test_educ_dataset, embeddings_educ, father_indices_educ, 3, test_encoded_labels)\n",
        "test_torch_dataloader = DataLoader(test_torch_dataset, 2, shuffle=False)\n",
        "\n",
        "div_dataset_torch = BlogCommentDataset(dataset_div, embeddings_div, father_indices_div, 3, div_encoded_labels)\n",
        "div_dataloader_torch = DataLoader(div_dataset_torch, 2, shuffle=False)"
      ]
    },
    {
      "cell_type": "code",
      "execution_count": null,
      "metadata": {
        "id": "emMX_hw3eXfn",
        "scrolled": true
      },
      "outputs": [
        {
          "name": "stderr",
          "output_type": "stream",
          "text": [
            "  0%|          | 0/296 [00:00<?, ?it/s]C:\\Users\\Xzzyaa23\\AppData\\Local\\Temp\\ipykernel_22480\\41261872.py:27: UserWarning: Implicit dimension choice for softmax has been deprecated. Change the call to include dim=X as an argument.\n",
            "  a_t = torch.nn.Softmax()(e_t)\n",
            "100%|██████████| 296/296 [00:03<00:00, 74.97it/s, loss=0.16136043] \n",
            "100%|██████████| 93/93 [00:00<00:00, 200.42it/s, loss=0.6379756] \n"
          ]
        },
        {
          "name": "stdout",
          "output_type": "stream",
          "text": [
            "Epoch 1 has training loss: 0.7129244081474639\n",
            "Epoch 1 has validation loss: 0.616388282147787\n",
            "Best loss at epoch 0\n"
          ]
        },
        {
          "name": "stderr",
          "output_type": "stream",
          "text": [
            "100%|██████████| 296/296 [00:02<00:00, 138.38it/s, loss=0.48703867] \n",
            "100%|██████████| 93/93 [00:00<00:00, 203.50it/s, loss=0.77701664]\n"
          ]
        },
        {
          "name": "stdout",
          "output_type": "stream",
          "text": [
            "Epoch 2 has training loss: 0.6573054569244787\n",
            "Epoch 2 has validation loss: 0.6109093831431481\n",
            "Best loss at epoch 1\n"
          ]
        },
        {
          "name": "stderr",
          "output_type": "stream",
          "text": [
            "100%|██████████| 296/296 [00:02<00:00, 120.47it/s, loss=0.701263]   \n",
            "100%|██████████| 93/93 [00:00<00:00, 200.86it/s, loss=0.59386444]\n"
          ]
        },
        {
          "name": "stdout",
          "output_type": "stream",
          "text": [
            "Epoch 3 has training loss: 0.602256837351298\n",
            "Epoch 3 has validation loss: 0.5340876534420956\n",
            "Best loss at epoch 2\n"
          ]
        },
        {
          "name": "stderr",
          "output_type": "stream",
          "text": [
            "100%|██████████| 296/296 [00:02<00:00, 113.37it/s, loss=0.84810317]\n",
            "100%|██████████| 93/93 [00:00<00:00, 202.17it/s, loss=0.634805]  \n"
          ]
        },
        {
          "name": "stdout",
          "output_type": "stream",
          "text": [
            "Epoch 4 has training loss: 0.5918350840943891\n",
            "Epoch 4 has validation loss: 0.5242083274549053\n",
            "Best loss at epoch 3\n"
          ]
        },
        {
          "name": "stderr",
          "output_type": "stream",
          "text": [
            "100%|██████████| 296/296 [00:02<00:00, 121.46it/s, loss=0.8874818]  \n",
            "100%|██████████| 93/93 [00:00<00:00, 202.17it/s, loss=0.63926435]\n"
          ]
        },
        {
          "name": "stdout",
          "output_type": "stream",
          "text": [
            "Epoch 5 has training loss: 0.5685229100337302\n",
            "Epoch 5 has validation loss: 0.5200555369418155\n",
            "Best loss at epoch 4\n"
          ]
        },
        {
          "name": "stderr",
          "output_type": "stream",
          "text": [
            "100%|██████████| 296/296 [00:02<00:00, 124.11it/s, loss=0.8431307]  \n",
            "100%|██████████| 93/93 [00:00<00:00, 197.03it/s, loss=0.538495]  \n"
          ]
        },
        {
          "name": "stdout",
          "output_type": "stream",
          "text": [
            "Epoch 6 has training loss: 0.6040347217192018\n",
            "Epoch 6 has validation loss: 0.5176892847784104\n",
            "Best loss at epoch 5\n"
          ]
        },
        {
          "name": "stderr",
          "output_type": "stream",
          "text": [
            "100%|██████████| 296/296 [00:02<00:00, 122.36it/s, loss=0.13906695]  \n",
            "100%|██████████| 93/93 [00:00<00:00, 198.71it/s, loss=0.74723834] \n"
          ]
        },
        {
          "name": "stdout",
          "output_type": "stream",
          "text": [
            "Epoch 7 has training loss: 0.5707789430264195\n",
            "Epoch 7 has validation loss: 0.4509643023853661\n",
            "Best loss at epoch 6\n"
          ]
        },
        {
          "name": "stderr",
          "output_type": "stream",
          "text": [
            "100%|██████████| 296/296 [00:02<00:00, 122.16it/s, loss=0.62805194] \n",
            "100%|██████████| 93/93 [00:00<00:00, 199.14it/s, loss=0.6836497] \n"
          ]
        },
        {
          "name": "stdout",
          "output_type": "stream",
          "text": [
            "Epoch 8 has training loss: 0.5646916485479655\n",
            "Epoch 8 has validation loss: 0.5141978893549212\n"
          ]
        },
        {
          "name": "stderr",
          "output_type": "stream",
          "text": [
            "100%|██████████| 296/296 [00:02<00:00, 122.82it/s, loss=0.40034238] \n",
            "100%|██████████| 93/93 [00:00<00:00, 206.67it/s, loss=0.5863392] \n"
          ]
        },
        {
          "name": "stdout",
          "output_type": "stream",
          "text": [
            "Epoch 9 has training loss: 0.5670455340673594\n",
            "Epoch 9 has validation loss: 0.49649675182437386\n"
          ]
        },
        {
          "name": "stderr",
          "output_type": "stream",
          "text": [
            "100%|██████████| 296/296 [00:02<00:00, 124.32it/s, loss=0.31354624] \n",
            "100%|██████████| 93/93 [00:00<00:00, 205.30it/s, loss=0.6199184] \n"
          ]
        },
        {
          "name": "stdout",
          "output_type": "stream",
          "text": [
            "Epoch 10 has training loss: 0.5435639200197231\n",
            "Epoch 10 has validation loss: 0.4774146297125406\n"
          ]
        },
        {
          "name": "stderr",
          "output_type": "stream",
          "text": [
            "100%|██████████| 296/296 [00:02<00:00, 123.75it/s, loss=0.007888355] \n",
            "100%|██████████| 93/93 [00:00<00:00, 197.45it/s, loss=0.69775236]\n"
          ]
        },
        {
          "name": "stdout",
          "output_type": "stream",
          "text": [
            "Epoch 11 has training loss: 0.5342384137534159\n",
            "Epoch 11 has validation loss: 0.44088948638208453\n",
            "Best loss at epoch 10\n"
          ]
        },
        {
          "name": "stderr",
          "output_type": "stream",
          "text": [
            "100%|██████████| 296/296 [00:02<00:00, 122.06it/s, loss=0.029951625]  \n",
            "100%|██████████| 93/93 [00:00<00:00, 199.14it/s, loss=0.83406675]\n"
          ]
        },
        {
          "name": "stdout",
          "output_type": "stream",
          "text": [
            "Epoch 12 has training loss: 0.5035232466799318\n",
            "Epoch 12 has validation loss: 0.4484683096769356\n"
          ]
        },
        {
          "name": "stderr",
          "output_type": "stream",
          "text": [
            "100%|██████████| 296/296 [00:02<00:00, 124.42it/s, loss=0.9245161]  \n",
            "100%|██████████| 93/93 [00:00<00:00, 190.57it/s, loss=0.6351869]  \n"
          ]
        },
        {
          "name": "stdout",
          "output_type": "stream",
          "text": [
            "Epoch 13 has training loss: 0.5143658429151401\n",
            "Epoch 13 has validation loss: 0.43645868781873937\n",
            "Best loss at epoch 12\n"
          ]
        },
        {
          "name": "stderr",
          "output_type": "stream",
          "text": [
            "100%|██████████| 296/296 [00:02<00:00, 123.95it/s, loss=0.6576016]   \n",
            "100%|██████████| 93/93 [00:00<00:00, 188.64it/s, loss=0.6537262]  \n"
          ]
        },
        {
          "name": "stdout",
          "output_type": "stream",
          "text": [
            "Epoch 14 has training loss: 0.4878033442923019\n",
            "Epoch 14 has validation loss: 0.43452975852915676\n",
            "Best loss at epoch 13\n"
          ]
        },
        {
          "name": "stderr",
          "output_type": "stream",
          "text": [
            "100%|██████████| 296/296 [00:02<00:00, 122.62it/s, loss=0.8009503]  \n",
            "100%|██████████| 93/93 [00:00<00:00, 204.40it/s, loss=0.6713809] \n"
          ]
        },
        {
          "name": "stdout",
          "output_type": "stream",
          "text": [
            "Epoch 15 has training loss: 0.4983060519286507\n",
            "Epoch 15 has validation loss: 0.43591125634929506\n"
          ]
        },
        {
          "name": "stderr",
          "output_type": "stream",
          "text": [
            "100%|██████████| 296/296 [00:02<00:00, 122.26it/s, loss=0.79454494]  \n",
            "100%|██████████| 93/93 [00:00<00:00, 202.17it/s, loss=0.67480826]\n"
          ]
        },
        {
          "name": "stdout",
          "output_type": "stream",
          "text": [
            "Epoch 16 has training loss: 0.5635260124108754\n",
            "Epoch 16 has validation loss: 0.47103411007312035\n"
          ]
        },
        {
          "name": "stderr",
          "output_type": "stream",
          "text": [
            "100%|██████████| 296/296 [00:02<00:00, 124.32it/s, loss=2.0864234]   \n",
            "100%|██████████| 93/93 [00:00<00:00, 192.54it/s, loss=0.4885684]  \n"
          ]
        },
        {
          "name": "stdout",
          "output_type": "stream",
          "text": [
            "Epoch 17 has training loss: 0.5377939944942104\n",
            "Epoch 17 has validation loss: 0.4387263123907389\n"
          ]
        },
        {
          "name": "stderr",
          "output_type": "stream",
          "text": [
            "100%|██████████| 296/296 [00:02<00:00, 124.37it/s, loss=0.5753339]   \n",
            "100%|██████████| 93/93 [00:00<00:00, 199.57it/s, loss=0.6411978] \n"
          ]
        },
        {
          "name": "stdout",
          "output_type": "stream",
          "text": [
            "Epoch 18 has training loss: 0.5251717880526338\n",
            "Epoch 18 has validation loss: 0.4591797011834319\n"
          ]
        },
        {
          "name": "stderr",
          "output_type": "stream",
          "text": [
            "100%|██████████| 296/296 [00:02<00:00, 119.35it/s, loss=0.7282157]   \n",
            "100%|██████████| 93/93 [00:00<00:00, 202.62it/s, loss=0.84062123] \n"
          ]
        },
        {
          "name": "stdout",
          "output_type": "stream",
          "text": [
            "Epoch 19 has training loss: 0.5107808005521637\n",
            "Epoch 19 has validation loss: 0.4903022026022275\n"
          ]
        },
        {
          "name": "stderr",
          "output_type": "stream",
          "text": [
            "100%|██████████| 296/296 [00:02<00:00, 118.26it/s, loss=4.502722]     \n",
            "100%|██████████| 93/93 [00:00<00:00, 194.56it/s, loss=0.6871644]  \n"
          ]
        },
        {
          "name": "stdout",
          "output_type": "stream",
          "text": [
            "Epoch 20 has training loss: 0.5341974216264773\n",
            "Epoch 20 has validation loss: 0.47373382651036783\n"
          ]
        },
        {
          "name": "stderr",
          "output_type": "stream",
          "text": [
            "100%|██████████| 296/296 [00:02<00:00, 121.51it/s, loss=0.3882738]   \n",
            "100%|██████████| 93/93 [00:00<00:00, 179.88it/s, loss=0.627047]   \n"
          ]
        },
        {
          "name": "stdout",
          "output_type": "stream",
          "text": [
            "Epoch 21 has training loss: 0.5033630016102532\n",
            "Epoch 21 has validation loss: 0.4212962298313536\n",
            "Best loss at epoch 20\n"
          ]
        },
        {
          "name": "stderr",
          "output_type": "stream",
          "text": [
            "100%|██████████| 296/296 [00:02<00:00, 122.65it/s, loss=0.49324962]   \n",
            "100%|██████████| 93/93 [00:00<00:00, 200.00it/s, loss=0.6197128]  \n"
          ]
        },
        {
          "name": "stdout",
          "output_type": "stream",
          "text": [
            "Epoch 22 has training loss: 0.5087090613149645\n",
            "Epoch 22 has validation loss: 0.4470537984042719\n"
          ]
        },
        {
          "name": "stderr",
          "output_type": "stream",
          "text": [
            "100%|██████████| 296/296 [00:02<00:00, 122.52it/s, loss=0.63047916]  \n",
            "100%|██████████| 93/93 [00:00<00:00, 200.43it/s, loss=0.59379774]\n"
          ]
        },
        {
          "name": "stdout",
          "output_type": "stream",
          "text": [
            "Epoch 23 has training loss: 0.5385091681598148\n",
            "Epoch 23 has validation loss: 0.4540363877450907\n"
          ]
        },
        {
          "name": "stderr",
          "output_type": "stream",
          "text": [
            "100%|██████████| 296/296 [00:02<00:00, 121.91it/s, loss=0.2437502]    \n",
            "100%|██████████| 93/93 [00:00<00:00, 200.43it/s, loss=0.43057477] \n"
          ]
        },
        {
          "name": "stdout",
          "output_type": "stream",
          "text": [
            "Epoch 24 has training loss: 0.4968085501152165\n",
            "Epoch 24 has validation loss: 0.423267616039162\n"
          ]
        },
        {
          "name": "stderr",
          "output_type": "stream",
          "text": [
            "100%|██████████| 296/296 [00:02<00:00, 123.54it/s, loss=0.51071566]   \n",
            "100%|██████████| 93/93 [00:00<00:00, 190.19it/s, loss=0.6190388]  \n"
          ]
        },
        {
          "name": "stdout",
          "output_type": "stream",
          "text": [
            "Epoch 25 has training loss: 0.4981799095402666\n",
            "Epoch 25 has validation loss: 0.4728039571795092\n"
          ]
        },
        {
          "name": "stderr",
          "output_type": "stream",
          "text": [
            "100%|██████████| 296/296 [00:02<00:00, 122.31it/s, loss=1.0728779e-05]\n",
            "100%|██████████| 93/93 [00:00<00:00, 199.15it/s, loss=0.5496459]  \n"
          ]
        },
        {
          "name": "stdout",
          "output_type": "stream",
          "text": [
            "Epoch 26 has training loss: 0.49870737136410065\n",
            "Epoch 26 has validation loss: 0.42794349185761904\n"
          ]
        },
        {
          "name": "stderr",
          "output_type": "stream",
          "text": [
            "100%|██████████| 296/296 [00:02<00:00, 122.67it/s, loss=0.08170515]  \n",
            "100%|██████████| 93/93 [00:00<00:00, 202.17it/s, loss=0.45068032] \n"
          ]
        },
        {
          "name": "stdout",
          "output_type": "stream",
          "text": [
            "Epoch 27 has training loss: 0.44235562237323345\n",
            "Epoch 27 has validation loss: 0.41693240055884484\n",
            "Best loss at epoch 26\n"
          ]
        },
        {
          "name": "stderr",
          "output_type": "stream",
          "text": [
            "100%|██████████| 296/296 [00:02<00:00, 122.62it/s, loss=0.60849774]  \n",
            "100%|██████████| 93/93 [00:00<00:00, 196.62it/s, loss=0.5016738]  \n"
          ]
        },
        {
          "name": "stdout",
          "output_type": "stream",
          "text": [
            "Epoch 28 has training loss: 0.48349729365164984\n",
            "Epoch 28 has validation loss: 0.42824238292392225\n"
          ]
        },
        {
          "name": "stderr",
          "output_type": "stream",
          "text": [
            "100%|██████████| 296/296 [00:02<00:00, 124.42it/s, loss=1.2673901]    \n",
            "100%|██████████| 93/93 [00:00<00:00, 188.26it/s, loss=0.49754113] \n"
          ]
        },
        {
          "name": "stdout",
          "output_type": "stream",
          "text": [
            "Epoch 29 has training loss: 0.4832983433548579\n",
            "Epoch 29 has validation loss: 0.41805956718481835\n"
          ]
        },
        {
          "name": "stderr",
          "output_type": "stream",
          "text": [
            "100%|██████████| 296/296 [00:02<00:00, 122.97it/s, loss=0.11206427]  \n",
            "100%|██████████| 93/93 [00:00<00:00, 197.45it/s, loss=0.54388595] \n"
          ]
        },
        {
          "name": "stdout",
          "output_type": "stream",
          "text": [
            "Epoch 30 has training loss: 0.4623532970624699\n",
            "Epoch 30 has validation loss: 0.4342615607304759\n"
          ]
        },
        {
          "name": "stderr",
          "output_type": "stream",
          "text": [
            "100%|██████████| 296/296 [00:02<00:00, 120.87it/s, loss=0.4637677]   \n",
            "100%|██████████| 93/93 [00:00<00:00, 199.14it/s, loss=0.45993406] \n"
          ]
        },
        {
          "name": "stdout",
          "output_type": "stream",
          "text": [
            "Epoch 31 has training loss: 0.46078895602432884\n",
            "Epoch 31 has validation loss: 0.41685383551083105\n",
            "Best loss at epoch 30\n"
          ]
        },
        {
          "name": "stderr",
          "output_type": "stream",
          "text": [
            "100%|██████████| 296/296 [00:02<00:00, 121.91it/s, loss=0.0145609835] \n",
            "100%|██████████| 93/93 [00:00<00:00, 200.86it/s, loss=0.45294595] \n"
          ]
        },
        {
          "name": "stdout",
          "output_type": "stream",
          "text": [
            "Epoch 32 has training loss: 0.4276265939743344\n",
            "Epoch 32 has validation loss: 0.4115544624316196\n",
            "Best loss at epoch 31\n"
          ]
        },
        {
          "name": "stderr",
          "output_type": "stream",
          "text": [
            "100%|██████████| 296/296 [00:02<00:00, 124.11it/s, loss=0.8227696]   \n",
            "100%|██████████| 93/93 [00:00<00:00, 188.64it/s, loss=0.48424733] \n"
          ]
        },
        {
          "name": "stdout",
          "output_type": "stream",
          "text": [
            "Epoch 33 has training loss: 0.4393736409328011\n",
            "Epoch 33 has validation loss: 0.4114850720225443\n",
            "Best loss at epoch 32\n"
          ]
        },
        {
          "name": "stderr",
          "output_type": "stream",
          "text": [
            "100%|██████████| 296/296 [00:02<00:00, 123.38it/s, loss=0.49951786]   \n",
            "100%|██████████| 93/93 [00:00<00:00, 193.75it/s, loss=0.4810291]  \n"
          ]
        },
        {
          "name": "stdout",
          "output_type": "stream",
          "text": [
            "Epoch 34 has training loss: 0.44392485877442256\n",
            "Epoch 34 has validation loss: 0.4113704930009541\n",
            "Best loss at epoch 33\n"
          ]
        },
        {
          "name": "stderr",
          "output_type": "stream",
          "text": [
            "100%|██████████| 296/296 [00:02<00:00, 117.79it/s, loss=0.12463202]   \n",
            "100%|██████████| 93/93 [00:00<00:00, 203.50it/s, loss=0.47965524] \n"
          ]
        },
        {
          "name": "stdout",
          "output_type": "stream",
          "text": [
            "Epoch 35 has training loss: 0.4458312856119134\n",
            "Epoch 35 has validation loss: 0.4113894531313049\n"
          ]
        },
        {
          "name": "stderr",
          "output_type": "stream",
          "text": [
            "100%|██████████| 296/296 [00:02<00:00, 121.36it/s, loss=0.5004114]    \n",
            "100%|██████████| 93/93 [00:00<00:00, 199.14it/s, loss=0.62824875] \n"
          ]
        },
        {
          "name": "stdout",
          "output_type": "stream",
          "text": [
            "Epoch 36 has training loss: 0.5330674478513223\n",
            "Epoch 36 has validation loss: 0.4612580488526052\n"
          ]
        },
        {
          "name": "stderr",
          "output_type": "stream",
          "text": [
            "100%|██████████| 296/296 [00:02<00:00, 124.21it/s, loss=0.02859723]   \n",
            "100%|██████████| 93/93 [00:00<00:00, 193.35it/s, loss=0.7884525]   \n"
          ]
        },
        {
          "name": "stdout",
          "output_type": "stream",
          "text": [
            "Epoch 37 has training loss: 0.47775722686057287\n",
            "Epoch 37 has validation loss: 0.46314946294171355\n"
          ]
        },
        {
          "name": "stderr",
          "output_type": "stream",
          "text": [
            "100%|██████████| 296/296 [00:02<00:00, 124.79it/s, loss=0.7630646]   \n",
            "100%|██████████| 93/93 [00:00<00:00, 202.61it/s, loss=0.45623365] \n"
          ]
        },
        {
          "name": "stdout",
          "output_type": "stream",
          "text": [
            "Epoch 38 has training loss: 0.4819221347579376\n",
            "Epoch 38 has validation loss: 0.40888891404404515\n",
            "Best loss at epoch 37\n"
          ]
        },
        {
          "name": "stderr",
          "output_type": "stream",
          "text": [
            "100%|██████████| 296/296 [00:02<00:00, 122.01it/s, loss=0.5134822]   \n",
            "100%|██████████| 93/93 [00:00<00:00, 197.04it/s, loss=0.42129767] \n"
          ]
        },
        {
          "name": "stdout",
          "output_type": "stream",
          "text": [
            "Epoch 39 has training loss: 0.518354371450629\n",
            "Epoch 39 has validation loss: 0.43851412038859583\n"
          ]
        },
        {
          "name": "stderr",
          "output_type": "stream",
          "text": [
            "100%|██████████| 296/296 [00:02<00:00, 120.92it/s, loss=0.6966687]    \n",
            "100%|██████████| 93/93 [00:00<00:00, 198.30it/s, loss=0.60919464]\n"
          ]
        },
        {
          "name": "stdout",
          "output_type": "stream",
          "text": [
            "Epoch 40 has training loss: 0.4709827327412476\n",
            "Epoch 40 has validation loss: 0.4583144347203435\n"
          ]
        },
        {
          "name": "stderr",
          "output_type": "stream",
          "text": [
            "100%|██████████| 296/296 [00:02<00:00, 121.41it/s, loss=0.3085317]    \n",
            "100%|██████████| 93/93 [00:00<00:00, 202.61it/s, loss=0.5325262]  \n"
          ]
        },
        {
          "name": "stdout",
          "output_type": "stream",
          "text": [
            "Epoch 41 has training loss: 0.5118408859572896\n",
            "Epoch 41 has validation loss: 0.4207180068147198\n"
          ]
        },
        {
          "name": "stderr",
          "output_type": "stream",
          "text": [
            "100%|██████████| 296/296 [00:02<00:00, 125.00it/s, loss=0.83194745]   \n",
            "100%|██████████| 93/93 [00:00<00:00, 196.63it/s, loss=0.6346029]  \n"
          ]
        },
        {
          "name": "stdout",
          "output_type": "stream",
          "text": [
            "Epoch 42 has training loss: 0.5473365575568891\n",
            "Epoch 42 has validation loss: 0.47956803953775795\n"
          ]
        },
        {
          "name": "stderr",
          "output_type": "stream",
          "text": [
            "100%|██████████| 296/296 [00:02<00:00, 119.60it/s, loss=0.1996479]    \n",
            "100%|██████████| 93/93 [00:00<00:00, 200.43it/s, loss=0.6600434]  \n"
          ]
        },
        {
          "name": "stdout",
          "output_type": "stream",
          "text": [
            "Epoch 43 has training loss: 0.5179986253987028\n",
            "Epoch 43 has validation loss: 0.45353065660443675\n"
          ]
        },
        {
          "name": "stderr",
          "output_type": "stream",
          "text": [
            "100%|██████████| 296/296 [00:02<00:00, 117.79it/s, loss=0.004525064]  \n",
            "100%|██████████| 93/93 [00:00<00:00, 205.30it/s, loss=0.7615627]  \n"
          ]
        },
        {
          "name": "stdout",
          "output_type": "stream",
          "text": [
            "Epoch 44 has training loss: 0.5090126870797355\n",
            "Epoch 44 has validation loss: 0.48803672434822204\n"
          ]
        },
        {
          "name": "stderr",
          "output_type": "stream",
          "text": [
            "100%|██████████| 296/296 [00:02<00:00, 121.56it/s, loss=0.503354]     \n",
            "100%|██████████| 93/93 [00:00<00:00, 199.14it/s, loss=0.6099763]  \n"
          ]
        },
        {
          "name": "stdout",
          "output_type": "stream",
          "text": [
            "Epoch 45 has training loss: 0.5054213696233066\n",
            "Epoch 45 has validation loss: 0.4809672383050765\n"
          ]
        },
        {
          "name": "stderr",
          "output_type": "stream",
          "text": [
            "100%|██████████| 296/296 [00:02<00:00, 123.44it/s, loss=0.049730636] \n",
            "100%|██████████| 93/93 [00:00<00:00, 197.45it/s, loss=0.6533344]  \n"
          ]
        },
        {
          "name": "stdout",
          "output_type": "stream",
          "text": [
            "Epoch 46 has training loss: 0.5041291241204079\n",
            "Epoch 46 has validation loss: 0.506791624771331\n"
          ]
        },
        {
          "name": "stderr",
          "output_type": "stream",
          "text": [
            "100%|██████████| 296/296 [00:02<00:00, 122.21it/s, loss=0.0011261319] \n",
            "100%|██████████| 93/93 [00:00<00:00, 199.13it/s, loss=0.59380245]  \n"
          ]
        },
        {
          "name": "stdout",
          "output_type": "stream",
          "text": [
            "Epoch 47 has training loss: 0.47922457850969247\n",
            "Epoch 47 has validation loss: 0.43850011553525203\n"
          ]
        },
        {
          "name": "stderr",
          "output_type": "stream",
          "text": [
            "100%|██████████| 296/296 [00:02<00:00, 121.21it/s, loss=0.11231053]   \n",
            "100%|██████████| 93/93 [00:00<00:00, 197.03it/s, loss=0.5847374] \n"
          ]
        },
        {
          "name": "stdout",
          "output_type": "stream",
          "text": [
            "Epoch 48 has training loss: 0.5230285808831423\n",
            "Epoch 48 has validation loss: 0.46063615554463\n"
          ]
        },
        {
          "name": "stderr",
          "output_type": "stream",
          "text": [
            "100%|██████████| 296/296 [00:02<00:00, 122.26it/s, loss=0.44470772]   \n",
            "100%|██████████| 93/93 [00:00<00:00, 198.29it/s, loss=0.58110005] \n"
          ]
        },
        {
          "name": "stdout",
          "output_type": "stream",
          "text": [
            "Epoch 49 has training loss: 0.512807426970441\n",
            "Epoch 49 has validation loss: 0.4430687071465116\n"
          ]
        },
        {
          "name": "stderr",
          "output_type": "stream",
          "text": [
            "100%|██████████| 296/296 [00:02<00:00, 123.33it/s, loss=0.08091102]   \n",
            "100%|██████████| 93/93 [00:00<00:00, 195.38it/s, loss=0.48066282] "
          ]
        },
        {
          "name": "stdout",
          "output_type": "stream",
          "text": [
            "Epoch 50 has training loss: 0.5151622776345963\n",
            "Epoch 50 has validation loss: 0.4429555295250549\n"
          ]
        },
        {
          "name": "stderr",
          "output_type": "stream",
          "text": [
            "\n"
          ]
        }
      ],
      "source": [
        "from tqdm import tqdm\n",
        "import math\n",
        "class CommentClassificationModel(torch.nn.Module):\n",
        "    def __init__(self, nrLabels):\n",
        "        super(CommentClassificationModel, self).__init__()\n",
        "\n",
        "        self.comment_proj = torch.nn.Linear(768, 128) \n",
        "        self.relu = torch.nn.ReLU()\n",
        "        self.output = torch.nn.Linear(128, nrLabels) \n",
        "        self.dropout = torch.nn.Dropout(0.7)  \n",
        "\n",
        "    def forward(self, x, fathers_x, mask):\n",
        "        com_proj = self.dropout(self.relu(self.comment_proj(x)))\n",
        "\n",
        "        return self.output(com_proj)\n",
        "\n",
        "\n",
        "comment_classification_Model = CommentClassificationModel(len(labelEncoder.classes_))\n",
        "comment_classification_Model.to(DEVICE)\n",
        "\n",
        "criterion = torch.nn.CrossEntropyLoss()\n",
        "optimizer = torch.optim.AdamW(comment_classification_Model.parameters())\n",
        "scheduler = torch.optim.lr_scheduler.CosineAnnealingWarmRestarts(optimizer,len(train_torch_dataloader) * 5, 2)\n",
        "\n",
        "nr_epochs = 50\n",
        "current_step = 0\n",
        "best_model_loss = 1e9\n",
        "\n",
        "for epoch in range(nr_epochs):\n",
        "  pbar_training = tqdm(train_torch_dataloader)\n",
        "  training_average_loss = 0\n",
        "  training_nr_batches = 0\n",
        "  comment_classification_Model.train()\n",
        "  iters = len(pbar_training)\n",
        "  \n",
        "  for embeddings_batch, embedding_fathers, mask_batch, labels_batch in pbar_training:\n",
        "    optimizer.zero_grad()\n",
        "    yhat = comment_classification_Model(embeddings_batch, embedding_fathers, mask_batch)\n",
        "    loss = criterion(yhat, labels_batch)\n",
        "    loss.backward()\n",
        "    optimizer.step()\n",
        "    pbar_training.set_postfix({'loss': loss.cpu().detach().numpy()})\n",
        "\n",
        "    training_average_loss += loss.cpu().detach().numpy()\n",
        "    training_nr_batches+=1\n",
        "    current_step+=1\n",
        "    scheduler.step()\n",
        "\n",
        "  pbar_validation = tqdm(val_torch_dataloader)\n",
        "\n",
        "  validation_average_loss = 0\n",
        "  validation_nr_batches = 0\n",
        "  comment_classification_Model.eval()\n",
        "  for embeddings_batch, embedding_fathers, mask_batch, labels_batch in pbar_validation:\n",
        "    with torch.no_grad():\n",
        "      yhat = comment_classification_Model(embeddings_batch, embedding_fathers, mask_batch)\n",
        "      loss = criterion(yhat, labels_batch)\n",
        "\n",
        "      validation_average_loss += loss.cpu().detach().numpy()\n",
        "      validation_nr_batches+=1\n",
        "\n",
        "      pbar_validation.set_postfix({'loss': loss.cpu().detach().numpy()})\n",
        "      \n",
        "  print(f'Epoch {epoch + 1} has training loss: {training_average_loss / training_nr_batches}')\n",
        "  print(f'Epoch {epoch + 1} has validation loss: {validation_average_loss / validation_nr_batches}')\n",
        "\n",
        "  if(validation_average_loss / validation_nr_batches < best_model_loss):\n",
        "     best_model_loss = validation_average_loss / validation_nr_batches\n",
        "     print(f'Best loss at epoch {epoch}')\n",
        "     torch.save(comment_classification_Model, f'best_models/{huggingface_model_name_alias}.pkl')\n"
      ]
    },
    {
      "cell_type": "code",
      "execution_count": null,
      "metadata": {
        "id": "GwAhp7BAwjfG"
      },
      "outputs": [
        {
          "name": "stderr",
          "output_type": "stream",
          "text": [
            "  0%|          | 0/93 [00:00<?, ?it/s]"
          ]
        },
        {
          "name": "stderr",
          "output_type": "stream",
          "text": [
            "C:\\Users\\Xzzyaa23\\AppData\\Local\\Temp\\ipykernel_22480\\41261872.py:27: UserWarning: Implicit dimension choice for softmax has been deprecated. Change the call to include dim=X as an argument.\n",
            "  a_t = torch.nn.Softmax()(e_t)\n",
            "100%|██████████| 93/93 [00:00<00:00, 319.59it/s]\n"
          ]
        }
      ],
      "source": [
        "comment_classification_Model= torch.load(f'best_models/{huggingface_model_name_alias}.pkl')\n",
        "comment_classification_Model.to(DEVICE)\n",
        "comment_classification_Model.eval()\n",
        "\n",
        "predictions = []\n",
        "pbar_validation = tqdm(val_torch_dataloader)\n",
        "for embeddings_batch, embedding_fathers, mask_batch, labels_batch in pbar_validation:\n",
        "  predictions.append(comment_classification_Model(embeddings_batch, embedding_fathers, mask_batch))\n",
        "\n",
        "predictions = np.stack([e for b in predictions for e in b.cpu().detach().numpy()])"
      ]
    },
    {
      "cell_type": "code",
      "execution_count": null,
      "metadata": {
        "id": "PgbM5DfFxWfd"
      },
      "outputs": [
        {
          "name": "stdout",
          "output_type": "stream",
          "text": [
            "              precision    recall  f1-score   support\n",
            "\n",
            "  Irrelevant       0.88      0.62      0.73        74\n",
            "    Relevant       0.79      0.95      0.86       112\n",
            "\n",
            "    accuracy                           0.82       186\n",
            "   macro avg       0.84      0.78      0.80       186\n",
            "weighted avg       0.83      0.82      0.81       186\n",
            "\n"
          ]
        }
      ],
      "source": [
        "predictions_softmax = torch.nn.Softmax(dim=1)(torch.from_numpy(predictions)).detach().numpy()\n",
        "\n",
        "predictions_indices = np.argmax(predictions_softmax, axis = 1)\n",
        "predicted_normal_labels = labelEncoder.inverse_transform(predictions_indices.ravel())\n",
        "\n",
        "from sklearn.metrics import classification_report\n",
        "\n",
        "print(classification_report(val_educ_dataset[\"label\"], predicted_normal_labels))"
      ]
    },
    {
      "cell_type": "code",
      "execution_count": null,
      "metadata": {},
      "outputs": [
        {
          "name": "stderr",
          "output_type": "stream",
          "text": [
            "  0%|          | 0/80 [00:00<?, ?it/s]C:\\Users\\Xzzyaa23\\AppData\\Local\\Temp\\ipykernel_22480\\41261872.py:27: UserWarning: Implicit dimension choice for softmax has been deprecated. Change the call to include dim=X as an argument.\n",
            "  a_t = torch.nn.Softmax()(e_t)\n",
            "100%|██████████| 80/80 [00:00<00:00, 284.70it/s]\n"
          ]
        }
      ],
      "source": [
        "predictions = []\n",
        "pbar_test = tqdm(test_torch_dataloader)\n",
        "for embeddings_batch, embedding_fathers, mask_batch, labels_batch in pbar_test:\n",
        "  predictions.append(comment_classification_Model(embeddings_batch, embedding_fathers, mask_batch))\n",
        "\n",
        "predictions = np.stack([e for b in predictions for e in b.cpu().detach().numpy()])"
      ]
    },
    {
      "cell_type": "code",
      "execution_count": null,
      "metadata": {
        "id": "N7Hjy5FAkioO",
        "scrolled": true
      },
      "outputs": [
        {
          "name": "stdout",
          "output_type": "stream",
          "text": [
            "              precision    recall  f1-score   support\n",
            "\n",
            "  Irrelevant       0.91      0.72      0.80        74\n",
            "    Relevant       0.79      0.94      0.86        86\n",
            "\n",
            "    accuracy                           0.84       160\n",
            "   macro avg       0.85      0.83      0.83       160\n",
            "weighted avg       0.85      0.84      0.83       160\n",
            "\n"
          ]
        }
      ],
      "source": [
        "predictions_softmax = torch.nn.Softmax(dim=1)(torch.from_numpy(predictions)).detach().numpy()\n",
        "\n",
        "predictions_indices = np.argmax(predictions_softmax, axis = 1)\n",
        "predicted_normal_labels = labelEncoder.inverse_transform(predictions_indices.ravel())\n",
        "\n",
        "from sklearn.metrics import classification_report\n",
        "\n",
        "print(classification_report(test_educ_dataset[\"label\"], predicted_normal_labels))"
      ]
    },
    {
      "cell_type": "code",
      "execution_count": null,
      "metadata": {},
      "outputs": [
        {
          "name": "stderr",
          "output_type": "stream",
          "text": [
            "  0%|          | 0/252 [00:00<?, ?it/s]C:\\Users\\Xzzyaa23\\AppData\\Local\\Temp\\ipykernel_22480\\41261872.py:27: UserWarning: Implicit dimension choice for softmax has been deprecated. Change the call to include dim=X as an argument.\n",
            "  a_t = torch.nn.Softmax()(e_t)\n",
            "100%|██████████| 252/252 [00:00<00:00, 285.07it/s]\n"
          ]
        }
      ],
      "source": [
        "predictions = []\n",
        "pbar_div = tqdm(div_dataloader_torch)\n",
        "for embeddings_batch, embedding_fathers, mask_batch, labels_batch in pbar_div:\n",
        "  predictions.append(comment_classification_Model(embeddings_batch, embedding_fathers, mask_batch))\n",
        "\n",
        "predictions = np.stack([e for b in predictions for e in b.cpu().detach().numpy()])"
      ]
    },
    {
      "cell_type": "code",
      "execution_count": null,
      "metadata": {},
      "outputs": [
        {
          "name": "stdout",
          "output_type": "stream",
          "text": [
            "              precision    recall  f1-score   support\n",
            "\n",
            "  Irrelevant       0.96      0.60      0.74       393\n",
            "    Relevant       0.39      0.92      0.55       111\n",
            "\n",
            "    accuracy                           0.67       504\n",
            "   macro avg       0.68      0.76      0.65       504\n",
            "weighted avg       0.84      0.67      0.70       504\n",
            "\n"
          ]
        }
      ],
      "source": [
        "predictions_softmax = torch.nn.Softmax(dim=1)(torch.from_numpy(predictions)).detach().numpy()\n",
        "\n",
        "predictions_indices = np.argmax(predictions_softmax, axis = 1)\n",
        "predicted_normal_labels = labelEncoder.inverse_transform(predictions_indices.ravel())\n",
        "\n",
        "from sklearn.metrics import classification_report\n",
        "\n",
        "print(classification_report(dataset_div[\"label\"], predicted_normal_labels))"
      ]
    }
  ],
  "metadata": {
    "colab": {
      "provenance": []
    },
    "gpuClass": "standard",
    "kernelspec": {
      "display_name": "Python 3 (ipykernel)",
      "language": "python",
      "name": "python3"
    },
    "language_info": {
      "codemirror_mode": {
        "name": "ipython",
        "version": 3
      },
      "file_extension": ".py",
      "mimetype": "text/x-python",
      "name": "python",
      "nbconvert_exporter": "python",
      "pygments_lexer": "ipython3",
      "version": "3.9.7"
    },
    "vscode": {
      "interpreter": {
        "hash": "259697ca15dba3bdee1251769ee50403cdc14449d4679f1ae234c213280e302b"
      }
    },
    "widgets": {
      "application/vnd.jupyter.widget-state+json": {
        "0ac9dfc2fce94fb182224705902fa400": {
          "model_module": "@jupyter-widgets/base",
          "model_module_version": "1.2.0",
          "model_name": "LayoutModel",
          "state": {
            "_model_module": "@jupyter-widgets/base",
            "_model_module_version": "1.2.0",
            "_model_name": "LayoutModel",
            "_view_count": null,
            "_view_module": "@jupyter-widgets/base",
            "_view_module_version": "1.2.0",
            "_view_name": "LayoutView",
            "align_content": null,
            "align_items": null,
            "align_self": null,
            "border": null,
            "bottom": null,
            "display": null,
            "flex": null,
            "flex_flow": null,
            "grid_area": null,
            "grid_auto_columns": null,
            "grid_auto_flow": null,
            "grid_auto_rows": null,
            "grid_column": null,
            "grid_gap": null,
            "grid_row": null,
            "grid_template_areas": null,
            "grid_template_columns": null,
            "grid_template_rows": null,
            "height": null,
            "justify_content": null,
            "justify_items": null,
            "left": null,
            "margin": null,
            "max_height": null,
            "max_width": null,
            "min_height": null,
            "min_width": null,
            "object_fit": null,
            "object_position": null,
            "order": null,
            "overflow": null,
            "overflow_x": null,
            "overflow_y": null,
            "padding": null,
            "right": null,
            "top": null,
            "visibility": null,
            "width": null
          }
        },
        "0be5192c031743e2a1c6a088a524d24d": {
          "model_module": "@jupyter-widgets/base",
          "model_module_version": "1.2.0",
          "model_name": "LayoutModel",
          "state": {
            "_model_module": "@jupyter-widgets/base",
            "_model_module_version": "1.2.0",
            "_model_name": "LayoutModel",
            "_view_count": null,
            "_view_module": "@jupyter-widgets/base",
            "_view_module_version": "1.2.0",
            "_view_name": "LayoutView",
            "align_content": null,
            "align_items": null,
            "align_self": null,
            "border": null,
            "bottom": null,
            "display": null,
            "flex": null,
            "flex_flow": null,
            "grid_area": null,
            "grid_auto_columns": null,
            "grid_auto_flow": null,
            "grid_auto_rows": null,
            "grid_column": null,
            "grid_gap": null,
            "grid_row": null,
            "grid_template_areas": null,
            "grid_template_columns": null,
            "grid_template_rows": null,
            "height": null,
            "justify_content": null,
            "justify_items": null,
            "left": null,
            "margin": null,
            "max_height": null,
            "max_width": null,
            "min_height": null,
            "min_width": null,
            "object_fit": null,
            "object_position": null,
            "order": null,
            "overflow": null,
            "overflow_x": null,
            "overflow_y": null,
            "padding": null,
            "right": null,
            "top": null,
            "visibility": null,
            "width": null
          }
        },
        "107567711d404390b24f24e116c01fe7": {
          "model_module": "@jupyter-widgets/controls",
          "model_module_version": "1.5.0",
          "model_name": "HTMLModel",
          "state": {
            "_dom_classes": [],
            "_model_module": "@jupyter-widgets/controls",
            "_model_module_version": "1.5.0",
            "_model_name": "HTMLModel",
            "_view_count": null,
            "_view_module": "@jupyter-widgets/controls",
            "_view_module_version": "1.5.0",
            "_view_name": "HTMLView",
            "description": "",
            "description_tooltip": null,
            "layout": "IPY_MODEL_0be5192c031743e2a1c6a088a524d24d",
            "placeholder": "​",
            "style": "IPY_MODEL_1d496bb6883e43e3932d4c94f9c2cc34",
            "value": " 570/570 [00:00&lt;00:00, 9.75kB/s]"
          }
        },
        "17a9bae4ba6b4ea1a32f33e45cec64f8": {
          "model_module": "@jupyter-widgets/controls",
          "model_module_version": "1.5.0",
          "model_name": "HTMLModel",
          "state": {
            "_dom_classes": [],
            "_model_module": "@jupyter-widgets/controls",
            "_model_module_version": "1.5.0",
            "_model_name": "HTMLModel",
            "_view_count": null,
            "_view_module": "@jupyter-widgets/controls",
            "_view_module_version": "1.5.0",
            "_view_name": "HTMLView",
            "description": "",
            "description_tooltip": null,
            "layout": "IPY_MODEL_a19cb9558381428ab77151b832aa1ef0",
            "placeholder": "​",
            "style": "IPY_MODEL_e393026919174e6e9e51fa36d678c57f",
            "value": "Downloading (…)okenizer_config.json: 100%"
          }
        },
        "1d496bb6883e43e3932d4c94f9c2cc34": {
          "model_module": "@jupyter-widgets/controls",
          "model_module_version": "1.5.0",
          "model_name": "DescriptionStyleModel",
          "state": {
            "_model_module": "@jupyter-widgets/controls",
            "_model_module_version": "1.5.0",
            "_model_name": "DescriptionStyleModel",
            "_view_count": null,
            "_view_module": "@jupyter-widgets/base",
            "_view_module_version": "1.2.0",
            "_view_name": "StyleView",
            "description_width": ""
          }
        },
        "2163460e8cdf4b8c8b459e4251d96d0f": {
          "model_module": "@jupyter-widgets/controls",
          "model_module_version": "1.5.0",
          "model_name": "HTMLModel",
          "state": {
            "_dom_classes": [],
            "_model_module": "@jupyter-widgets/controls",
            "_model_module_version": "1.5.0",
            "_model_name": "HTMLModel",
            "_view_count": null,
            "_view_module": "@jupyter-widgets/controls",
            "_view_module_version": "1.5.0",
            "_view_name": "HTMLView",
            "description": "",
            "description_tooltip": null,
            "layout": "IPY_MODEL_2f150fb4c04048d692400452226a012d",
            "placeholder": "​",
            "style": "IPY_MODEL_65d660c8b6b3446893bb89fcdd42ba6b",
            "value": "Downloading (…)lve/main/config.json: 100%"
          }
        },
        "22b4a12a22934259b5ab6e2733ee49a3": {
          "model_module": "@jupyter-widgets/base",
          "model_module_version": "1.2.0",
          "model_name": "LayoutModel",
          "state": {
            "_model_module": "@jupyter-widgets/base",
            "_model_module_version": "1.2.0",
            "_model_name": "LayoutModel",
            "_view_count": null,
            "_view_module": "@jupyter-widgets/base",
            "_view_module_version": "1.2.0",
            "_view_name": "LayoutView",
            "align_content": null,
            "align_items": null,
            "align_self": null,
            "border": null,
            "bottom": null,
            "display": null,
            "flex": null,
            "flex_flow": null,
            "grid_area": null,
            "grid_auto_columns": null,
            "grid_auto_flow": null,
            "grid_auto_rows": null,
            "grid_column": null,
            "grid_gap": null,
            "grid_row": null,
            "grid_template_areas": null,
            "grid_template_columns": null,
            "grid_template_rows": null,
            "height": null,
            "justify_content": null,
            "justify_items": null,
            "left": null,
            "margin": null,
            "max_height": null,
            "max_width": null,
            "min_height": null,
            "min_width": null,
            "object_fit": null,
            "object_position": null,
            "order": null,
            "overflow": null,
            "overflow_x": null,
            "overflow_y": null,
            "padding": null,
            "right": null,
            "top": null,
            "visibility": null,
            "width": null
          }
        },
        "2f150fb4c04048d692400452226a012d": {
          "model_module": "@jupyter-widgets/base",
          "model_module_version": "1.2.0",
          "model_name": "LayoutModel",
          "state": {
            "_model_module": "@jupyter-widgets/base",
            "_model_module_version": "1.2.0",
            "_model_name": "LayoutModel",
            "_view_count": null,
            "_view_module": "@jupyter-widgets/base",
            "_view_module_version": "1.2.0",
            "_view_name": "LayoutView",
            "align_content": null,
            "align_items": null,
            "align_self": null,
            "border": null,
            "bottom": null,
            "display": null,
            "flex": null,
            "flex_flow": null,
            "grid_area": null,
            "grid_auto_columns": null,
            "grid_auto_flow": null,
            "grid_auto_rows": null,
            "grid_column": null,
            "grid_gap": null,
            "grid_row": null,
            "grid_template_areas": null,
            "grid_template_columns": null,
            "grid_template_rows": null,
            "height": null,
            "justify_content": null,
            "justify_items": null,
            "left": null,
            "margin": null,
            "max_height": null,
            "max_width": null,
            "min_height": null,
            "min_width": null,
            "object_fit": null,
            "object_position": null,
            "order": null,
            "overflow": null,
            "overflow_x": null,
            "overflow_y": null,
            "padding": null,
            "right": null,
            "top": null,
            "visibility": null,
            "width": null
          }
        },
        "323a69c84555449094ec2012a3d52d63": {
          "model_module": "@jupyter-widgets/controls",
          "model_module_version": "1.5.0",
          "model_name": "DescriptionStyleModel",
          "state": {
            "_model_module": "@jupyter-widgets/controls",
            "_model_module_version": "1.5.0",
            "_model_name": "DescriptionStyleModel",
            "_view_count": null,
            "_view_module": "@jupyter-widgets/base",
            "_view_module_version": "1.2.0",
            "_view_name": "StyleView",
            "description_width": ""
          }
        },
        "34e75810a17842fab1b34176261a9f84": {
          "model_module": "@jupyter-widgets/controls",
          "model_module_version": "1.5.0",
          "model_name": "HTMLModel",
          "state": {
            "_dom_classes": [],
            "_model_module": "@jupyter-widgets/controls",
            "_model_module_version": "1.5.0",
            "_model_name": "HTMLModel",
            "_view_count": null,
            "_view_module": "@jupyter-widgets/controls",
            "_view_module_version": "1.5.0",
            "_view_name": "HTMLView",
            "description": "",
            "description_tooltip": null,
            "layout": "IPY_MODEL_9b575196f8994a938793ca404fcf07b8",
            "placeholder": "​",
            "style": "IPY_MODEL_d7b5e92dffd840feb9aca6ed35cecdc1",
            "value": " 436M/436M [00:04&lt;00:00, 90.0MB/s]"
          }
        },
        "37991897796f4bbcb5b3ee78a1710b60": {
          "model_module": "@jupyter-widgets/controls",
          "model_module_version": "1.5.0",
          "model_name": "HTMLModel",
          "state": {
            "_dom_classes": [],
            "_model_module": "@jupyter-widgets/controls",
            "_model_module_version": "1.5.0",
            "_model_name": "HTMLModel",
            "_view_count": null,
            "_view_module": "@jupyter-widgets/controls",
            "_view_module_version": "1.5.0",
            "_view_name": "HTMLView",
            "description": "",
            "description_tooltip": null,
            "layout": "IPY_MODEL_aff5731eafd04d61ba5cb2344bb84060",
            "placeholder": "​",
            "style": "IPY_MODEL_323a69c84555449094ec2012a3d52d63",
            "value": " 29.0/29.0 [00:00&lt;00:00, 471B/s]"
          }
        },
        "3aab9c9a3679469792587f9381c87c1e": {
          "model_module": "@jupyter-widgets/controls",
          "model_module_version": "1.5.0",
          "model_name": "DescriptionStyleModel",
          "state": {
            "_model_module": "@jupyter-widgets/controls",
            "_model_module_version": "1.5.0",
            "_model_name": "DescriptionStyleModel",
            "_view_count": null,
            "_view_module": "@jupyter-widgets/base",
            "_view_module_version": "1.2.0",
            "_view_name": "StyleView",
            "description_width": ""
          }
        },
        "3ec6a16d1323497ca62269c5a1221b41": {
          "model_module": "@jupyter-widgets/base",
          "model_module_version": "1.2.0",
          "model_name": "LayoutModel",
          "state": {
            "_model_module": "@jupyter-widgets/base",
            "_model_module_version": "1.2.0",
            "_model_name": "LayoutModel",
            "_view_count": null,
            "_view_module": "@jupyter-widgets/base",
            "_view_module_version": "1.2.0",
            "_view_name": "LayoutView",
            "align_content": null,
            "align_items": null,
            "align_self": null,
            "border": null,
            "bottom": null,
            "display": null,
            "flex": null,
            "flex_flow": null,
            "grid_area": null,
            "grid_auto_columns": null,
            "grid_auto_flow": null,
            "grid_auto_rows": null,
            "grid_column": null,
            "grid_gap": null,
            "grid_row": null,
            "grid_template_areas": null,
            "grid_template_columns": null,
            "grid_template_rows": null,
            "height": null,
            "justify_content": null,
            "justify_items": null,
            "left": null,
            "margin": null,
            "max_height": null,
            "max_width": null,
            "min_height": null,
            "min_width": null,
            "object_fit": null,
            "object_position": null,
            "order": null,
            "overflow": null,
            "overflow_x": null,
            "overflow_y": null,
            "padding": null,
            "right": null,
            "top": null,
            "visibility": null,
            "width": null
          }
        },
        "49003665fa584055bdbaceec416f031c": {
          "model_module": "@jupyter-widgets/base",
          "model_module_version": "1.2.0",
          "model_name": "LayoutModel",
          "state": {
            "_model_module": "@jupyter-widgets/base",
            "_model_module_version": "1.2.0",
            "_model_name": "LayoutModel",
            "_view_count": null,
            "_view_module": "@jupyter-widgets/base",
            "_view_module_version": "1.2.0",
            "_view_name": "LayoutView",
            "align_content": null,
            "align_items": null,
            "align_self": null,
            "border": null,
            "bottom": null,
            "display": null,
            "flex": null,
            "flex_flow": null,
            "grid_area": null,
            "grid_auto_columns": null,
            "grid_auto_flow": null,
            "grid_auto_rows": null,
            "grid_column": null,
            "grid_gap": null,
            "grid_row": null,
            "grid_template_areas": null,
            "grid_template_columns": null,
            "grid_template_rows": null,
            "height": null,
            "justify_content": null,
            "justify_items": null,
            "left": null,
            "margin": null,
            "max_height": null,
            "max_width": null,
            "min_height": null,
            "min_width": null,
            "object_fit": null,
            "object_position": null,
            "order": null,
            "overflow": null,
            "overflow_x": null,
            "overflow_y": null,
            "padding": null,
            "right": null,
            "top": null,
            "visibility": null,
            "width": null
          }
        },
        "4c7880bcb55d4bc2acaa425e968df901": {
          "model_module": "@jupyter-widgets/controls",
          "model_module_version": "1.5.0",
          "model_name": "HTMLModel",
          "state": {
            "_dom_classes": [],
            "_model_module": "@jupyter-widgets/controls",
            "_model_module_version": "1.5.0",
            "_model_name": "HTMLModel",
            "_view_count": null,
            "_view_module": "@jupyter-widgets/controls",
            "_view_module_version": "1.5.0",
            "_view_name": "HTMLView",
            "description": "",
            "description_tooltip": null,
            "layout": "IPY_MODEL_efc88785df8848efa4242f5af022b0aa",
            "placeholder": "​",
            "style": "IPY_MODEL_fb17fffda3574592b5396833307ef351",
            "value": "Downloading pytorch_model.bin: 100%"
          }
        },
        "55421be427a14ba4894650db34167b4b": {
          "model_module": "@jupyter-widgets/controls",
          "model_module_version": "1.5.0",
          "model_name": "DescriptionStyleModel",
          "state": {
            "_model_module": "@jupyter-widgets/controls",
            "_model_module_version": "1.5.0",
            "_model_name": "DescriptionStyleModel",
            "_view_count": null,
            "_view_module": "@jupyter-widgets/base",
            "_view_module_version": "1.2.0",
            "_view_name": "StyleView",
            "description_width": ""
          }
        },
        "5cd90fd90e7b4cf5a2bd4383602b3327": {
          "model_module": "@jupyter-widgets/controls",
          "model_module_version": "1.5.0",
          "model_name": "HTMLModel",
          "state": {
            "_dom_classes": [],
            "_model_module": "@jupyter-widgets/controls",
            "_model_module_version": "1.5.0",
            "_model_name": "HTMLModel",
            "_view_count": null,
            "_view_module": "@jupyter-widgets/controls",
            "_view_module_version": "1.5.0",
            "_view_name": "HTMLView",
            "description": "",
            "description_tooltip": null,
            "layout": "IPY_MODEL_856752bf27e346c3890fa3eb114f4312",
            "placeholder": "​",
            "style": "IPY_MODEL_55421be427a14ba4894650db34167b4b",
            "value": " 213k/213k [00:00&lt;00:00, 1.31MB/s]"
          }
        },
        "5fb3b43304fb42b589d4a74c57f227e2": {
          "model_module": "@jupyter-widgets/controls",
          "model_module_version": "1.5.0",
          "model_name": "ProgressStyleModel",
          "state": {
            "_model_module": "@jupyter-widgets/controls",
            "_model_module_version": "1.5.0",
            "_model_name": "ProgressStyleModel",
            "_view_count": null,
            "_view_module": "@jupyter-widgets/base",
            "_view_module_version": "1.2.0",
            "_view_name": "StyleView",
            "bar_color": null,
            "description_width": ""
          }
        },
        "5ff8f3861ef24ce4bfae0cb8128a85c7": {
          "model_module": "@jupyter-widgets/base",
          "model_module_version": "1.2.0",
          "model_name": "LayoutModel",
          "state": {
            "_model_module": "@jupyter-widgets/base",
            "_model_module_version": "1.2.0",
            "_model_name": "LayoutModel",
            "_view_count": null,
            "_view_module": "@jupyter-widgets/base",
            "_view_module_version": "1.2.0",
            "_view_name": "LayoutView",
            "align_content": null,
            "align_items": null,
            "align_self": null,
            "border": null,
            "bottom": null,
            "display": null,
            "flex": null,
            "flex_flow": null,
            "grid_area": null,
            "grid_auto_columns": null,
            "grid_auto_flow": null,
            "grid_auto_rows": null,
            "grid_column": null,
            "grid_gap": null,
            "grid_row": null,
            "grid_template_areas": null,
            "grid_template_columns": null,
            "grid_template_rows": null,
            "height": null,
            "justify_content": null,
            "justify_items": null,
            "left": null,
            "margin": null,
            "max_height": null,
            "max_width": null,
            "min_height": null,
            "min_width": null,
            "object_fit": null,
            "object_position": null,
            "order": null,
            "overflow": null,
            "overflow_x": null,
            "overflow_y": null,
            "padding": null,
            "right": null,
            "top": null,
            "visibility": null,
            "width": null
          }
        },
        "65b7261f506547fd89bb31f2d5f03855": {
          "model_module": "@jupyter-widgets/controls",
          "model_module_version": "1.5.0",
          "model_name": "FloatProgressModel",
          "state": {
            "_dom_classes": [],
            "_model_module": "@jupyter-widgets/controls",
            "_model_module_version": "1.5.0",
            "_model_name": "FloatProgressModel",
            "_view_count": null,
            "_view_module": "@jupyter-widgets/controls",
            "_view_module_version": "1.5.0",
            "_view_name": "ProgressView",
            "bar_style": "success",
            "description": "",
            "description_tooltip": null,
            "layout": "IPY_MODEL_5ff8f3861ef24ce4bfae0cb8128a85c7",
            "max": 435779157,
            "min": 0,
            "orientation": "horizontal",
            "style": "IPY_MODEL_ae1a237cb330431985a918d31dae1a11",
            "value": 435779157
          }
        },
        "65d660c8b6b3446893bb89fcdd42ba6b": {
          "model_module": "@jupyter-widgets/controls",
          "model_module_version": "1.5.0",
          "model_name": "DescriptionStyleModel",
          "state": {
            "_model_module": "@jupyter-widgets/controls",
            "_model_module_version": "1.5.0",
            "_model_name": "DescriptionStyleModel",
            "_view_count": null,
            "_view_module": "@jupyter-widgets/base",
            "_view_module_version": "1.2.0",
            "_view_name": "StyleView",
            "description_width": ""
          }
        },
        "6f5cc31dbb37423e81143e43a8970ca3": {
          "model_module": "@jupyter-widgets/controls",
          "model_module_version": "1.5.0",
          "model_name": "HBoxModel",
          "state": {
            "_dom_classes": [],
            "_model_module": "@jupyter-widgets/controls",
            "_model_module_version": "1.5.0",
            "_model_name": "HBoxModel",
            "_view_count": null,
            "_view_module": "@jupyter-widgets/controls",
            "_view_module_version": "1.5.0",
            "_view_name": "HBoxView",
            "box_style": "",
            "children": [
              "IPY_MODEL_2163460e8cdf4b8c8b459e4251d96d0f",
              "IPY_MODEL_8cbe10aa28dc4b81a8a9163b276c9486",
              "IPY_MODEL_107567711d404390b24f24e116c01fe7"
            ],
            "layout": "IPY_MODEL_3ec6a16d1323497ca62269c5a1221b41"
          }
        },
        "6fed445dbd044671a875d99e7b4118cb": {
          "model_module": "@jupyter-widgets/controls",
          "model_module_version": "1.5.0",
          "model_name": "HBoxModel",
          "state": {
            "_dom_classes": [],
            "_model_module": "@jupyter-widgets/controls",
            "_model_module_version": "1.5.0",
            "_model_name": "HBoxModel",
            "_view_count": null,
            "_view_module": "@jupyter-widgets/controls",
            "_view_module_version": "1.5.0",
            "_view_name": "HBoxView",
            "box_style": "",
            "children": [
              "IPY_MODEL_4c7880bcb55d4bc2acaa425e968df901",
              "IPY_MODEL_65b7261f506547fd89bb31f2d5f03855",
              "IPY_MODEL_34e75810a17842fab1b34176261a9f84"
            ],
            "layout": "IPY_MODEL_bfe8fe1e263d470c89f86a566ff5c60d"
          }
        },
        "7176c179c2544c1f90d8595ae64b6911": {
          "model_module": "@jupyter-widgets/controls",
          "model_module_version": "1.5.0",
          "model_name": "HBoxModel",
          "state": {
            "_dom_classes": [],
            "_model_module": "@jupyter-widgets/controls",
            "_model_module_version": "1.5.0",
            "_model_name": "HBoxModel",
            "_view_count": null,
            "_view_module": "@jupyter-widgets/controls",
            "_view_module_version": "1.5.0",
            "_view_name": "HBoxView",
            "box_style": "",
            "children": [
              "IPY_MODEL_eb9d3199cc44403fadca825ce54ba9c7",
              "IPY_MODEL_d82f5cedda4442d2abdecf78fb6b89dc",
              "IPY_MODEL_5cd90fd90e7b4cf5a2bd4383602b3327"
            ],
            "layout": "IPY_MODEL_22b4a12a22934259b5ab6e2733ee49a3"
          }
        },
        "7b2a4c05237f432b9a16a1299d192a6d": {
          "model_module": "@jupyter-widgets/controls",
          "model_module_version": "1.5.0",
          "model_name": "FloatProgressModel",
          "state": {
            "_dom_classes": [],
            "_model_module": "@jupyter-widgets/controls",
            "_model_module_version": "1.5.0",
            "_model_name": "FloatProgressModel",
            "_view_count": null,
            "_view_module": "@jupyter-widgets/controls",
            "_view_module_version": "1.5.0",
            "_view_name": "ProgressView",
            "bar_style": "success",
            "description": "",
            "description_tooltip": null,
            "layout": "IPY_MODEL_c9368c86f1b34a42b8cfb71a7fb21090",
            "max": 29,
            "min": 0,
            "orientation": "horizontal",
            "style": "IPY_MODEL_f71b710adbba40f3ae650a0158f94217",
            "value": 29
          }
        },
        "856752bf27e346c3890fa3eb114f4312": {
          "model_module": "@jupyter-widgets/base",
          "model_module_version": "1.2.0",
          "model_name": "LayoutModel",
          "state": {
            "_model_module": "@jupyter-widgets/base",
            "_model_module_version": "1.2.0",
            "_model_name": "LayoutModel",
            "_view_count": null,
            "_view_module": "@jupyter-widgets/base",
            "_view_module_version": "1.2.0",
            "_view_name": "LayoutView",
            "align_content": null,
            "align_items": null,
            "align_self": null,
            "border": null,
            "bottom": null,
            "display": null,
            "flex": null,
            "flex_flow": null,
            "grid_area": null,
            "grid_auto_columns": null,
            "grid_auto_flow": null,
            "grid_auto_rows": null,
            "grid_column": null,
            "grid_gap": null,
            "grid_row": null,
            "grid_template_areas": null,
            "grid_template_columns": null,
            "grid_template_rows": null,
            "height": null,
            "justify_content": null,
            "justify_items": null,
            "left": null,
            "margin": null,
            "max_height": null,
            "max_width": null,
            "min_height": null,
            "min_width": null,
            "object_fit": null,
            "object_position": null,
            "order": null,
            "overflow": null,
            "overflow_x": null,
            "overflow_y": null,
            "padding": null,
            "right": null,
            "top": null,
            "visibility": null,
            "width": null
          }
        },
        "8baa47029fc2437c9f02f388ac51d931": {
          "model_module": "@jupyter-widgets/controls",
          "model_module_version": "1.5.0",
          "model_name": "ProgressStyleModel",
          "state": {
            "_model_module": "@jupyter-widgets/controls",
            "_model_module_version": "1.5.0",
            "_model_name": "ProgressStyleModel",
            "_view_count": null,
            "_view_module": "@jupyter-widgets/base",
            "_view_module_version": "1.2.0",
            "_view_name": "StyleView",
            "bar_color": null,
            "description_width": ""
          }
        },
        "8cbe10aa28dc4b81a8a9163b276c9486": {
          "model_module": "@jupyter-widgets/controls",
          "model_module_version": "1.5.0",
          "model_name": "FloatProgressModel",
          "state": {
            "_dom_classes": [],
            "_model_module": "@jupyter-widgets/controls",
            "_model_module_version": "1.5.0",
            "_model_name": "FloatProgressModel",
            "_view_count": null,
            "_view_module": "@jupyter-widgets/controls",
            "_view_module_version": "1.5.0",
            "_view_name": "ProgressView",
            "bar_style": "success",
            "description": "",
            "description_tooltip": null,
            "layout": "IPY_MODEL_e0e9a0f4bb5a444e9c5299656e932fc1",
            "max": 570,
            "min": 0,
            "orientation": "horizontal",
            "style": "IPY_MODEL_5fb3b43304fb42b589d4a74c57f227e2",
            "value": 570
          }
        },
        "9b575196f8994a938793ca404fcf07b8": {
          "model_module": "@jupyter-widgets/base",
          "model_module_version": "1.2.0",
          "model_name": "LayoutModel",
          "state": {
            "_model_module": "@jupyter-widgets/base",
            "_model_module_version": "1.2.0",
            "_model_name": "LayoutModel",
            "_view_count": null,
            "_view_module": "@jupyter-widgets/base",
            "_view_module_version": "1.2.0",
            "_view_name": "LayoutView",
            "align_content": null,
            "align_items": null,
            "align_self": null,
            "border": null,
            "bottom": null,
            "display": null,
            "flex": null,
            "flex_flow": null,
            "grid_area": null,
            "grid_auto_columns": null,
            "grid_auto_flow": null,
            "grid_auto_rows": null,
            "grid_column": null,
            "grid_gap": null,
            "grid_row": null,
            "grid_template_areas": null,
            "grid_template_columns": null,
            "grid_template_rows": null,
            "height": null,
            "justify_content": null,
            "justify_items": null,
            "left": null,
            "margin": null,
            "max_height": null,
            "max_width": null,
            "min_height": null,
            "min_width": null,
            "object_fit": null,
            "object_position": null,
            "order": null,
            "overflow": null,
            "overflow_x": null,
            "overflow_y": null,
            "padding": null,
            "right": null,
            "top": null,
            "visibility": null,
            "width": null
          }
        },
        "a19cb9558381428ab77151b832aa1ef0": {
          "model_module": "@jupyter-widgets/base",
          "model_module_version": "1.2.0",
          "model_name": "LayoutModel",
          "state": {
            "_model_module": "@jupyter-widgets/base",
            "_model_module_version": "1.2.0",
            "_model_name": "LayoutModel",
            "_view_count": null,
            "_view_module": "@jupyter-widgets/base",
            "_view_module_version": "1.2.0",
            "_view_name": "LayoutView",
            "align_content": null,
            "align_items": null,
            "align_self": null,
            "border": null,
            "bottom": null,
            "display": null,
            "flex": null,
            "flex_flow": null,
            "grid_area": null,
            "grid_auto_columns": null,
            "grid_auto_flow": null,
            "grid_auto_rows": null,
            "grid_column": null,
            "grid_gap": null,
            "grid_row": null,
            "grid_template_areas": null,
            "grid_template_columns": null,
            "grid_template_rows": null,
            "height": null,
            "justify_content": null,
            "justify_items": null,
            "left": null,
            "margin": null,
            "max_height": null,
            "max_width": null,
            "min_height": null,
            "min_width": null,
            "object_fit": null,
            "object_position": null,
            "order": null,
            "overflow": null,
            "overflow_x": null,
            "overflow_y": null,
            "padding": null,
            "right": null,
            "top": null,
            "visibility": null,
            "width": null
          }
        },
        "ae1a237cb330431985a918d31dae1a11": {
          "model_module": "@jupyter-widgets/controls",
          "model_module_version": "1.5.0",
          "model_name": "ProgressStyleModel",
          "state": {
            "_model_module": "@jupyter-widgets/controls",
            "_model_module_version": "1.5.0",
            "_model_name": "ProgressStyleModel",
            "_view_count": null,
            "_view_module": "@jupyter-widgets/base",
            "_view_module_version": "1.2.0",
            "_view_name": "StyleView",
            "bar_color": null,
            "description_width": ""
          }
        },
        "aff5731eafd04d61ba5cb2344bb84060": {
          "model_module": "@jupyter-widgets/base",
          "model_module_version": "1.2.0",
          "model_name": "LayoutModel",
          "state": {
            "_model_module": "@jupyter-widgets/base",
            "_model_module_version": "1.2.0",
            "_model_name": "LayoutModel",
            "_view_count": null,
            "_view_module": "@jupyter-widgets/base",
            "_view_module_version": "1.2.0",
            "_view_name": "LayoutView",
            "align_content": null,
            "align_items": null,
            "align_self": null,
            "border": null,
            "bottom": null,
            "display": null,
            "flex": null,
            "flex_flow": null,
            "grid_area": null,
            "grid_auto_columns": null,
            "grid_auto_flow": null,
            "grid_auto_rows": null,
            "grid_column": null,
            "grid_gap": null,
            "grid_row": null,
            "grid_template_areas": null,
            "grid_template_columns": null,
            "grid_template_rows": null,
            "height": null,
            "justify_content": null,
            "justify_items": null,
            "left": null,
            "margin": null,
            "max_height": null,
            "max_width": null,
            "min_height": null,
            "min_width": null,
            "object_fit": null,
            "object_position": null,
            "order": null,
            "overflow": null,
            "overflow_x": null,
            "overflow_y": null,
            "padding": null,
            "right": null,
            "top": null,
            "visibility": null,
            "width": null
          }
        },
        "bfe8fe1e263d470c89f86a566ff5c60d": {
          "model_module": "@jupyter-widgets/base",
          "model_module_version": "1.2.0",
          "model_name": "LayoutModel",
          "state": {
            "_model_module": "@jupyter-widgets/base",
            "_model_module_version": "1.2.0",
            "_model_name": "LayoutModel",
            "_view_count": null,
            "_view_module": "@jupyter-widgets/base",
            "_view_module_version": "1.2.0",
            "_view_name": "LayoutView",
            "align_content": null,
            "align_items": null,
            "align_self": null,
            "border": null,
            "bottom": null,
            "display": null,
            "flex": null,
            "flex_flow": null,
            "grid_area": null,
            "grid_auto_columns": null,
            "grid_auto_flow": null,
            "grid_auto_rows": null,
            "grid_column": null,
            "grid_gap": null,
            "grid_row": null,
            "grid_template_areas": null,
            "grid_template_columns": null,
            "grid_template_rows": null,
            "height": null,
            "justify_content": null,
            "justify_items": null,
            "left": null,
            "margin": null,
            "max_height": null,
            "max_width": null,
            "min_height": null,
            "min_width": null,
            "object_fit": null,
            "object_position": null,
            "order": null,
            "overflow": null,
            "overflow_x": null,
            "overflow_y": null,
            "padding": null,
            "right": null,
            "top": null,
            "visibility": null,
            "width": null
          }
        },
        "c9368c86f1b34a42b8cfb71a7fb21090": {
          "model_module": "@jupyter-widgets/base",
          "model_module_version": "1.2.0",
          "model_name": "LayoutModel",
          "state": {
            "_model_module": "@jupyter-widgets/base",
            "_model_module_version": "1.2.0",
            "_model_name": "LayoutModel",
            "_view_count": null,
            "_view_module": "@jupyter-widgets/base",
            "_view_module_version": "1.2.0",
            "_view_name": "LayoutView",
            "align_content": null,
            "align_items": null,
            "align_self": null,
            "border": null,
            "bottom": null,
            "display": null,
            "flex": null,
            "flex_flow": null,
            "grid_area": null,
            "grid_auto_columns": null,
            "grid_auto_flow": null,
            "grid_auto_rows": null,
            "grid_column": null,
            "grid_gap": null,
            "grid_row": null,
            "grid_template_areas": null,
            "grid_template_columns": null,
            "grid_template_rows": null,
            "height": null,
            "justify_content": null,
            "justify_items": null,
            "left": null,
            "margin": null,
            "max_height": null,
            "max_width": null,
            "min_height": null,
            "min_width": null,
            "object_fit": null,
            "object_position": null,
            "order": null,
            "overflow": null,
            "overflow_x": null,
            "overflow_y": null,
            "padding": null,
            "right": null,
            "top": null,
            "visibility": null,
            "width": null
          }
        },
        "cbfaf8f83224463ebe375071f391d840": {
          "model_module": "@jupyter-widgets/controls",
          "model_module_version": "1.5.0",
          "model_name": "HBoxModel",
          "state": {
            "_dom_classes": [],
            "_model_module": "@jupyter-widgets/controls",
            "_model_module_version": "1.5.0",
            "_model_name": "HBoxModel",
            "_view_count": null,
            "_view_module": "@jupyter-widgets/controls",
            "_view_module_version": "1.5.0",
            "_view_name": "HBoxView",
            "box_style": "",
            "children": [
              "IPY_MODEL_17a9bae4ba6b4ea1a32f33e45cec64f8",
              "IPY_MODEL_7b2a4c05237f432b9a16a1299d192a6d",
              "IPY_MODEL_37991897796f4bbcb5b3ee78a1710b60"
            ],
            "layout": "IPY_MODEL_0ac9dfc2fce94fb182224705902fa400"
          }
        },
        "d00951f2c39141b5b41ebe666d7ed672": {
          "model_module": "@jupyter-widgets/base",
          "model_module_version": "1.2.0",
          "model_name": "LayoutModel",
          "state": {
            "_model_module": "@jupyter-widgets/base",
            "_model_module_version": "1.2.0",
            "_model_name": "LayoutModel",
            "_view_count": null,
            "_view_module": "@jupyter-widgets/base",
            "_view_module_version": "1.2.0",
            "_view_name": "LayoutView",
            "align_content": null,
            "align_items": null,
            "align_self": null,
            "border": null,
            "bottom": null,
            "display": null,
            "flex": null,
            "flex_flow": null,
            "grid_area": null,
            "grid_auto_columns": null,
            "grid_auto_flow": null,
            "grid_auto_rows": null,
            "grid_column": null,
            "grid_gap": null,
            "grid_row": null,
            "grid_template_areas": null,
            "grid_template_columns": null,
            "grid_template_rows": null,
            "height": null,
            "justify_content": null,
            "justify_items": null,
            "left": null,
            "margin": null,
            "max_height": null,
            "max_width": null,
            "min_height": null,
            "min_width": null,
            "object_fit": null,
            "object_position": null,
            "order": null,
            "overflow": null,
            "overflow_x": null,
            "overflow_y": null,
            "padding": null,
            "right": null,
            "top": null,
            "visibility": null,
            "width": null
          }
        },
        "d7b5e92dffd840feb9aca6ed35cecdc1": {
          "model_module": "@jupyter-widgets/controls",
          "model_module_version": "1.5.0",
          "model_name": "DescriptionStyleModel",
          "state": {
            "_model_module": "@jupyter-widgets/controls",
            "_model_module_version": "1.5.0",
            "_model_name": "DescriptionStyleModel",
            "_view_count": null,
            "_view_module": "@jupyter-widgets/base",
            "_view_module_version": "1.2.0",
            "_view_name": "StyleView",
            "description_width": ""
          }
        },
        "d82f5cedda4442d2abdecf78fb6b89dc": {
          "model_module": "@jupyter-widgets/controls",
          "model_module_version": "1.5.0",
          "model_name": "FloatProgressModel",
          "state": {
            "_dom_classes": [],
            "_model_module": "@jupyter-widgets/controls",
            "_model_module_version": "1.5.0",
            "_model_name": "FloatProgressModel",
            "_view_count": null,
            "_view_module": "@jupyter-widgets/controls",
            "_view_module_version": "1.5.0",
            "_view_name": "ProgressView",
            "bar_style": "success",
            "description": "",
            "description_tooltip": null,
            "layout": "IPY_MODEL_d00951f2c39141b5b41ebe666d7ed672",
            "max": 213450,
            "min": 0,
            "orientation": "horizontal",
            "style": "IPY_MODEL_8baa47029fc2437c9f02f388ac51d931",
            "value": 213450
          }
        },
        "e0e9a0f4bb5a444e9c5299656e932fc1": {
          "model_module": "@jupyter-widgets/base",
          "model_module_version": "1.2.0",
          "model_name": "LayoutModel",
          "state": {
            "_model_module": "@jupyter-widgets/base",
            "_model_module_version": "1.2.0",
            "_model_name": "LayoutModel",
            "_view_count": null,
            "_view_module": "@jupyter-widgets/base",
            "_view_module_version": "1.2.0",
            "_view_name": "LayoutView",
            "align_content": null,
            "align_items": null,
            "align_self": null,
            "border": null,
            "bottom": null,
            "display": null,
            "flex": null,
            "flex_flow": null,
            "grid_area": null,
            "grid_auto_columns": null,
            "grid_auto_flow": null,
            "grid_auto_rows": null,
            "grid_column": null,
            "grid_gap": null,
            "grid_row": null,
            "grid_template_areas": null,
            "grid_template_columns": null,
            "grid_template_rows": null,
            "height": null,
            "justify_content": null,
            "justify_items": null,
            "left": null,
            "margin": null,
            "max_height": null,
            "max_width": null,
            "min_height": null,
            "min_width": null,
            "object_fit": null,
            "object_position": null,
            "order": null,
            "overflow": null,
            "overflow_x": null,
            "overflow_y": null,
            "padding": null,
            "right": null,
            "top": null,
            "visibility": null,
            "width": null
          }
        },
        "e393026919174e6e9e51fa36d678c57f": {
          "model_module": "@jupyter-widgets/controls",
          "model_module_version": "1.5.0",
          "model_name": "DescriptionStyleModel",
          "state": {
            "_model_module": "@jupyter-widgets/controls",
            "_model_module_version": "1.5.0",
            "_model_name": "DescriptionStyleModel",
            "_view_count": null,
            "_view_module": "@jupyter-widgets/base",
            "_view_module_version": "1.2.0",
            "_view_name": "StyleView",
            "description_width": ""
          }
        },
        "eb9d3199cc44403fadca825ce54ba9c7": {
          "model_module": "@jupyter-widgets/controls",
          "model_module_version": "1.5.0",
          "model_name": "HTMLModel",
          "state": {
            "_dom_classes": [],
            "_model_module": "@jupyter-widgets/controls",
            "_model_module_version": "1.5.0",
            "_model_name": "HTMLModel",
            "_view_count": null,
            "_view_module": "@jupyter-widgets/controls",
            "_view_module_version": "1.5.0",
            "_view_name": "HTMLView",
            "description": "",
            "description_tooltip": null,
            "layout": "IPY_MODEL_49003665fa584055bdbaceec416f031c",
            "placeholder": "​",
            "style": "IPY_MODEL_3aab9c9a3679469792587f9381c87c1e",
            "value": "Downloading (…)solve/main/vocab.txt: 100%"
          }
        },
        "efc88785df8848efa4242f5af022b0aa": {
          "model_module": "@jupyter-widgets/base",
          "model_module_version": "1.2.0",
          "model_name": "LayoutModel",
          "state": {
            "_model_module": "@jupyter-widgets/base",
            "_model_module_version": "1.2.0",
            "_model_name": "LayoutModel",
            "_view_count": null,
            "_view_module": "@jupyter-widgets/base",
            "_view_module_version": "1.2.0",
            "_view_name": "LayoutView",
            "align_content": null,
            "align_items": null,
            "align_self": null,
            "border": null,
            "bottom": null,
            "display": null,
            "flex": null,
            "flex_flow": null,
            "grid_area": null,
            "grid_auto_columns": null,
            "grid_auto_flow": null,
            "grid_auto_rows": null,
            "grid_column": null,
            "grid_gap": null,
            "grid_row": null,
            "grid_template_areas": null,
            "grid_template_columns": null,
            "grid_template_rows": null,
            "height": null,
            "justify_content": null,
            "justify_items": null,
            "left": null,
            "margin": null,
            "max_height": null,
            "max_width": null,
            "min_height": null,
            "min_width": null,
            "object_fit": null,
            "object_position": null,
            "order": null,
            "overflow": null,
            "overflow_x": null,
            "overflow_y": null,
            "padding": null,
            "right": null,
            "top": null,
            "visibility": null,
            "width": null
          }
        },
        "f71b710adbba40f3ae650a0158f94217": {
          "model_module": "@jupyter-widgets/controls",
          "model_module_version": "1.5.0",
          "model_name": "ProgressStyleModel",
          "state": {
            "_model_module": "@jupyter-widgets/controls",
            "_model_module_version": "1.5.0",
            "_model_name": "ProgressStyleModel",
            "_view_count": null,
            "_view_module": "@jupyter-widgets/base",
            "_view_module_version": "1.2.0",
            "_view_name": "StyleView",
            "bar_color": null,
            "description_width": ""
          }
        },
        "fb17fffda3574592b5396833307ef351": {
          "model_module": "@jupyter-widgets/controls",
          "model_module_version": "1.5.0",
          "model_name": "DescriptionStyleModel",
          "state": {
            "_model_module": "@jupyter-widgets/controls",
            "_model_module_version": "1.5.0",
            "_model_name": "DescriptionStyleModel",
            "_view_count": null,
            "_view_module": "@jupyter-widgets/base",
            "_view_module_version": "1.2.0",
            "_view_name": "StyleView",
            "description_width": ""
          }
        }
      }
    }
  },
  "nbformat": 4,
  "nbformat_minor": 0
}
