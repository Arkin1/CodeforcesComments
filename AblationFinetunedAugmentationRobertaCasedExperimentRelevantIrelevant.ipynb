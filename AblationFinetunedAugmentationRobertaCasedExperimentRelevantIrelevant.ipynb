{
  "cells": [
    {
      "cell_type": "code",
      "execution_count": 1,
      "metadata": {
        "id": "nLMC4Ma1A0WB"
      },
      "outputs": [],
      "source": [
        "import pandas as pd\n",
        "import seaborn as sns\n",
        "import matplotlib.pyplot as pl\n",
        "import re\n",
        "from sklearn.metrics import classification_report\n",
        "import bs4\n",
        "from collections import defaultdict\n",
        "\n",
        "WORKING_DIR='.'\n",
        "DEVICE = 'cuda'"
      ]
    },
    {
      "cell_type": "code",
      "execution_count": 2,
      "metadata": {
        "colab": {
          "base_uri": "https://localhost:8080/"
        },
        "id": "6_qOeq6mA0WD",
        "outputId": "3b45fc60-3038-4252-e46a-00bb0896f3ee"
      },
      "outputs": [],
      "source": [
        "dataset_educ = pd.read_json(f'{WORKING_DIR}/Dataset_educ_1.1.json', orient = 'index')\n",
        "dataset_div = pd.read_json(f'{WORKING_DIR}/Dataset_div2_final.json', orient = 'index')"
      ]
    },
    {
      "cell_type": "code",
      "execution_count": 3,
      "metadata": {},
      "outputs": [],
      "source": [
        "regex_link_ful = re.compile('<a href.*\\/contest/.*/submission/.*<\\/a>')\n",
        "code_regex = re.compile('<code>(\\s|.)*?<\\/code>')\n",
        "def preprocess_for_transfomers(texts, problems):\n",
        "  preprocessed_texts = []\n",
        "  for t, p in zip(texts, problems):\n",
        "    t_codes = code_regex.sub(' (code) ', t)\n",
        "    t_link = regex_link_ful.sub(f' (link to problem {p}) ', t_codes)\n",
        "    bs = bs4.BeautifulSoup(t_link)\n",
        "    preprocessed_texts.append(bs.text)\n",
        "  \n",
        "  return preprocessed_texts\n",
        "\n",
        "dataset_educ.loc[~(dataset_educ['label'] == 'Irrelevant'), 'label'] = 'Relevant'\n",
        "preprocessed_text = preprocess_for_transfomers(dataset_educ['text'], dataset_educ['problem'])\n",
        "dataset_educ[\"preprocessed_text\"] = preprocessed_text\n",
        "\n",
        "dataset_div.loc[~(dataset_div['label'] == 'Irrelevant'), 'label'] = 'Relevant'\n",
        "preprocessed_text = preprocess_for_transfomers(dataset_div['text'], dataset_div['problem'])\n",
        "dataset_div[\"preprocessed_text\"] = preprocessed_text"
      ]
    },
    {
      "cell_type": "code",
      "execution_count": 4,
      "metadata": {
        "id": "dEOMDxDycWP9"
      },
      "outputs": [],
      "source": [
        "TREE_FATHER_PATH_LENGTH = 3\n",
        "\n",
        "def compute_father_indices_pd(df):\n",
        "  father_tree = {}\n",
        "\n",
        "  for _,com in df.iterrows():\n",
        "    father_tree[com.id] = com.father_id\n",
        "\n",
        "  comment_father_indices = {}\n",
        "\n",
        "  for df_index,com in df.iterrows():\n",
        "      indices = []\n",
        "      last_ind = com.id\n",
        "      for i in range(TREE_FATHER_PATH_LENGTH):\n",
        "        if(father_tree[last_ind] not in father_tree):\n",
        "          indices.append(-1)\n",
        "          continue\n",
        "        if(last_ind != -1):\n",
        "          last_ind = father_tree[last_ind]\n",
        "        \n",
        "        if(last_ind != -1):\n",
        "          indices.append(df[df.id == last_ind].index.values[0])\n",
        "        else:\n",
        "          indices.append(last_ind)\n",
        "      indices.reverse()\n",
        "      comment_father_indices[df_index] = indices\n",
        "  return comment_father_indices\n",
        "\n",
        "father_indices_educ = compute_father_indices_pd(dataset_educ)\n",
        "father_indices_div = compute_father_indices_pd(dataset_div)"
      ]
    },
    {
      "cell_type": "code",
      "execution_count": 5,
      "metadata": {},
      "outputs": [
        {
          "name": "stderr",
          "output_type": "stream",
          "text": [
            "d:\\Work\\Machine learning stuff\\Doctorat\\Statement2CodeExplanation\\Statement2Code2Explanation\\venv\\lib\\site-packages\\tqdm\\auto.py:21: TqdmWarning: IProgress not found. Please update jupyter and ipywidgets. See https://ipywidgets.readthedocs.io/en/stable/user_install.html\n",
            "  from .autonotebook import tqdm as notebook_tqdm\n"
          ]
        }
      ],
      "source": [
        "from embeddings_generation import TokenizedDataset, LayerEMBTokenEmbeddingGeneration\n",
        "from embeddings_generation.utils import *\n",
        "\n",
        "huggingface_model_name = \"roberta-128-base\"\n",
        "huggingface_model_name_alias = huggingface_model_name.split(\"/\")[-1] + \"_educ\"\n",
        "\n",
        "if(not embedding_already_persisted(huggingface_model_name_alias)):\n",
        "    persist_embeddings(dataset_educ[\"preprocessed_text\"], huggingface_model_name, huggingface_model_name_alias, dataset_educ.index)\n",
        "    \n",
        "embeddings_educ = load_embeddings(huggingface_model_name_alias)\n",
        "\n",
        "huggingface_model_name_alias_div = huggingface_model_name.split(\"/\")[-1] +'_div'\n",
        "if(not embedding_already_persisted(huggingface_model_name_alias_div)):\n",
        "    persist_embeddings(dataset_div[\"preprocessed_text\"], huggingface_model_name, huggingface_model_name_alias_div, dataset_div.index)\n",
        "embeddings_div = load_embeddings(huggingface_model_name_alias_div)"
      ]
    },
    {
      "cell_type": "code",
      "execution_count": 6,
      "metadata": {},
      "outputs": [],
      "source": [
        "import torch\n",
        "from torch.utils.data.dataset import Dataset\n",
        "from torch.utils.data.dataloader import DataLoader\n",
        "import numpy as np\n",
        "import random\n",
        "RANDOM_SEED = 443\n",
        "DEVICE = \"cuda\"\n",
        "\n",
        "torch.manual_seed(RANDOM_SEED)\n",
        "np.random.seed(RANDOM_SEED)\n",
        "random.seed(RANDOM_SEED)\n",
        "\n",
        "groups = list(dataset_educ.groupby(lambda k : k.split(\"?\")[0]))\n",
        "random.shuffle(groups)\n",
        "\n",
        "train_groups = groups[:10]\n",
        "validation_groups = groups[10:13]\n",
        "test_groups = groups[13:]\n",
        "\n",
        "train_educ_dataset= dataset_educ.loc[[idx for _, g in train_groups for idx in g.index.tolist()]]\n",
        "val_educ_dataset = dataset_educ.loc[[idx for _, g in validation_groups for idx in g.index.tolist()]]\n",
        "test_educ_dataset = dataset_educ.loc[[idx for _, g in test_groups for idx in g.index.tolist()]]\n",
        "\n",
        "from sklearn.preprocessing import LabelEncoder\n",
        "labelEncoder = LabelEncoder()\n",
        "train_encoded_labels = labelEncoder.fit_transform(train_educ_dataset[\"label\"])\n",
        "val_encoded_labels = labelEncoder.fit_transform(val_educ_dataset[\"label\"])\n",
        "test_encoded_labels = labelEncoder.fit_transform(test_educ_dataset[\"label\"])\n",
        "\n",
        "div_encoded_labels = labelEncoder.fit_transform(dataset_div[\"label\"])"
      ]
    },
    {
      "cell_type": "code",
      "execution_count": 7,
      "metadata": {},
      "outputs": [],
      "source": [
        "from augmentation_generation import get_weak_augmented_text\n",
        "from augmentation_generation.utils import persist_augmentations, load_augmentations\n",
        "NUMBER_AUGMENTATIONS = 6\n",
        "\n",
        "huggingface_model_name_aug_alias = huggingface_model_name_alias + f'_aug_{NUMBER_AUGMENTATIONS}'\n",
        "if(not embedding_already_persisted(huggingface_model_name_aug_alias)):\n",
        "    augmented_train_text = get_weak_augmented_text(train_educ_dataset['preprocessed_text'], NUMBER_AUGMENTATIONS)\n",
        "    augmented_train_text = [a_text for a_text_list in augmented_train_text for a_text in a_text_list]\n",
        "    augmented_indices = []\n",
        "\n",
        "    for idx in train_educ_dataset.index:\n",
        "        for aug_idx in range(NUMBER_AUGMENTATIONS):\n",
        "            augmented_indices.append(idx + '__' + str(aug_idx))\n",
        "\n",
        "    persist_embeddings(augmented_train_text, huggingface_model_name, huggingface_model_name_aug_alias, augmented_indices)\n",
        "    persist_augmentations(augmented_train_text, huggingface_model_name_aug_alias + \"__text\", augmented_indices)\n",
        "    augmented_father_indices = {}\n",
        "    for k in train_educ_dataset.index:\n",
        "        v = father_indices_educ[k]\n",
        "        for aug_ind in range(NUMBER_AUGMENTATIONS):\n",
        "            aug_k = k + \"__\" + str(aug_ind)\n",
        "            aug_s_f_indices = []\n",
        "            for f_ind in father_indices_educ[k]:\n",
        "                if(f_ind == -1):\n",
        "                    aug_s_f_indices.append(-1)\n",
        "                else:\n",
        "                    random_aug_index = np.random.choice(range(NUMBER_AUGMENTATIONS))\n",
        "                    aug_s_f_indices.append(f_ind + \"__\" + str(random_aug_index))\n",
        "            augmented_father_indices[aug_k] = aug_s_f_indices\n",
        "\n",
        "    persist_augmentations(augmented_father_indices.values(), huggingface_model_name_aug_alias + \"__fathers\", augmented_father_indices.keys())\n",
        "\n",
        "augmented_train_embeddings = load_embeddings(huggingface_model_name_aug_alias)\n",
        "augmented_train_text = load_augmentations(huggingface_model_name_aug_alias + \"__text\")\n",
        "augmented_father_indices = load_augmentations(huggingface_model_name_aug_alias + \"__fathers\")\n",
        "\n",
        "train_educ_aug_dataset = train_educ_dataset.copy()\n",
        "train_educ_aug_dataset[\"aug_text\"] = None\n",
        "\n",
        "train_educ_aug_dataset_dict = train_educ_aug_dataset.to_dict(orient='index')\n",
        "\n",
        "for aug_key in augmented_train_embeddings.keys():\n",
        "    data = train_educ_dataset.loc[aug_key.split(\"__\")[0]].copy()\n",
        "    data[\"aug_text\"] = augmented_train_text[aug_key]\n",
        "    train_educ_aug_dataset_dict[aug_key] = data.to_dict()\n",
        "\n",
        "train_educ_aug_dataset = pd.DataFrame.from_dict(train_educ_aug_dataset_dict, orient = 'index')\n",
        "train_aug_encoded_labels = labelEncoder.fit_transform(train_educ_aug_dataset[\"label\"])\n"
      ]
    },
    {
      "cell_type": "code",
      "execution_count": 8,
      "metadata": {},
      "outputs": [],
      "source": [
        "for k,v in augmented_train_embeddings.items():\n",
        "    embeddings_educ[k] = v\n",
        "for k,v in augmented_father_indices.items():\n",
        "    father_indices_educ[k] = v"
      ]
    },
    {
      "cell_type": "code",
      "execution_count": 9,
      "metadata": {},
      "outputs": [],
      "source": [
        "class BlogCommentDataset(Dataset):\n",
        "    def __init__(self, dataset:pd.DataFrame, embeddings:dict, father_indices:dict, num_last_layers_embeddings_agg ,labels):\n",
        "        self.dataset = dataset\n",
        "        self.embeddings = embeddings\n",
        "        self.father_indices = father_indices\n",
        "        self.num_last_layers_embeddings_agg = num_last_layers_embeddings_agg\n",
        "        self.labels = labels\n",
        "    def __len__(self):\n",
        "        return len(self.dataset)\n",
        "    def __getitem__(self, index):\n",
        "        df_index = self.dataset.index[index]\n",
        "        embedding = self._agg_emb(self.embeddings[df_index])\n",
        "        fathers = self.father_indices[df_index]\n",
        "\n",
        "        embedding_fathers = []\n",
        "        masks = []\n",
        "        for f_idx in fathers:\n",
        "            if(f_idx == -1):\n",
        "                embedding_fathers.append(torch.zeros(embedding.shape[0]))\n",
        "                masks.append(1)\n",
        "            else:\n",
        "                embedding_fathers.append(self._agg_emb(self.embeddings[f_idx]))\n",
        "                masks.append(0)\n",
        "\n",
        "        embedding_fathers = torch.stack(embedding_fathers)\n",
        "        return embedding.to(DEVICE), embedding_fathers.to(DEVICE), torch.tensor(masks, dtype = torch.float32).to(DEVICE), torch.tensor(self.labels[index], dtype = torch.long).to(DEVICE)\n",
        "    \n",
        "    def _agg_emb(self, embedding):\n",
        "        embedding = np.array(embedding, dtype=np.float32)\n",
        "        embedding = embedding[0, -self.num_last_layers_embeddings_agg:, :].mean(0)\n",
        "        return torch.from_numpy(embedding)\n",
        "\n",
        "train_torch_dataset = BlogCommentDataset(train_educ_aug_dataset, embeddings_educ, father_indices_educ, 3, train_aug_encoded_labels)\n",
        "train_torch_dataloader = DataLoader(train_torch_dataset, 2, shuffle=True)\n",
        "\n",
        "val_torch_dataset = BlogCommentDataset(val_educ_dataset, embeddings_educ, father_indices_educ, 3, val_encoded_labels)\n",
        "val_torch_dataloader = DataLoader(val_torch_dataset, 2, shuffle=False)\n",
        "\n",
        "test_torch_dataset = BlogCommentDataset(test_educ_dataset, embeddings_educ, father_indices_educ, 3, test_encoded_labels)\n",
        "test_torch_dataloader = DataLoader(test_torch_dataset, 2, shuffle=False)\n",
        "\n",
        "div_dataset_torch = BlogCommentDataset(dataset_div, embeddings_div, father_indices_div, 3, div_encoded_labels)\n",
        "div_dataloader_torch = DataLoader(div_dataset_torch, 2, shuffle=False)"
      ]
    },
    {
      "cell_type": "code",
      "execution_count": 10,
      "metadata": {
        "id": "emMX_hw3eXfn",
        "scrolled": true
      },
      "outputs": [
        {
          "name": "stderr",
          "output_type": "stream",
          "text": [
            "  0%|          | 0/2069 [00:00<?, ?it/s]"
          ]
        },
        {
          "name": "stderr",
          "output_type": "stream",
          "text": [
            "100%|██████████| 2069/2069 [00:12<00:00, 164.57it/s, loss=0.3019807]   \n",
            "100%|██████████| 93/93 [00:00<00:00, 231.34it/s, loss=0.47516114] \n"
          ]
        },
        {
          "name": "stdout",
          "output_type": "stream",
          "text": [
            "Epoch 1 has training loss: 0.5321098409526486\n",
            "Epoch 1 has validation loss: 0.3977391170237654\n",
            "Best loss at epoch 0\n"
          ]
        },
        {
          "name": "stderr",
          "output_type": "stream",
          "text": [
            "100%|██████████| 2069/2069 [00:14<00:00, 138.02it/s, loss=1.2114141]   \n",
            "100%|██████████| 93/93 [00:00<00:00, 231.92it/s, loss=0.2904132]  \n"
          ]
        },
        {
          "name": "stdout",
          "output_type": "stream",
          "text": [
            "Epoch 2 has training loss: 0.410494689978191\n",
            "Epoch 2 has validation loss: 0.37349686160763745\n",
            "Best loss at epoch 1\n"
          ]
        },
        {
          "name": "stderr",
          "output_type": "stream",
          "text": [
            "100%|██████████| 2069/2069 [00:15<00:00, 134.69it/s, loss=0.90697163]  \n",
            "100%|██████████| 93/93 [00:00<00:00, 214.29it/s, loss=0.3216349]  \n"
          ]
        },
        {
          "name": "stdout",
          "output_type": "stream",
          "text": [
            "Epoch 3 has training loss: 0.36795977399063984\n",
            "Epoch 3 has validation loss: 0.3695164024229011\n",
            "Best loss at epoch 2\n"
          ]
        },
        {
          "name": "stderr",
          "output_type": "stream",
          "text": [
            "100%|██████████| 2069/2069 [00:15<00:00, 134.19it/s, loss=0.56748974]  \n",
            "100%|██████████| 93/93 [00:00<00:00, 234.26it/s, loss=0.38779557] \n"
          ]
        },
        {
          "name": "stdout",
          "output_type": "stream",
          "text": [
            "Epoch 4 has training loss: 0.34054412735743655\n",
            "Epoch 4 has validation loss: 0.3766886612640754\n"
          ]
        },
        {
          "name": "stderr",
          "output_type": "stream",
          "text": [
            "100%|██████████| 2069/2069 [00:15<00:00, 129.87it/s, loss=0.019684093]  \n",
            "100%|██████████| 93/93 [00:00<00:00, 230.77it/s, loss=0.33347756] \n"
          ]
        },
        {
          "name": "stdout",
          "output_type": "stream",
          "text": [
            "Epoch 5 has training loss: 0.326316009446609\n",
            "Epoch 5 has validation loss: 0.37684109009882455\n"
          ]
        },
        {
          "name": "stderr",
          "output_type": "stream",
          "text": [
            "100%|██████████| 2069/2069 [00:15<00:00, 130.44it/s, loss=0.24406965]   \n",
            "100%|██████████| 93/93 [00:00<00:00, 208.99it/s, loss=0.24593234] \n"
          ]
        },
        {
          "name": "stdout",
          "output_type": "stream",
          "text": [
            "Epoch 6 has training loss: 0.367196973017303\n",
            "Epoch 6 has validation loss: 0.36779748662925693\n",
            "Best loss at epoch 5\n"
          ]
        },
        {
          "name": "stderr",
          "output_type": "stream",
          "text": [
            "100%|██████████| 2069/2069 [00:15<00:00, 130.39it/s, loss=0.004900706]  \n",
            "100%|██████████| 93/93 [00:00<00:00, 220.38it/s, loss=0.23144445]  \n"
          ]
        },
        {
          "name": "stdout",
          "output_type": "stream",
          "text": [
            "Epoch 7 has training loss: 0.3422709693315853\n",
            "Epoch 7 has validation loss: 0.384349865823864\n"
          ]
        },
        {
          "name": "stderr",
          "output_type": "stream",
          "text": [
            "100%|██████████| 2069/2069 [00:15<00:00, 132.71it/s, loss=0.045240242]  \n",
            "100%|██████████| 93/93 [00:00<00:00, 215.78it/s, loss=0.52297336]  \n"
          ]
        },
        {
          "name": "stdout",
          "output_type": "stream",
          "text": [
            "Epoch 8 has training loss: 0.3327522358440938\n",
            "Epoch 8 has validation loss: 0.3836147811123601\n"
          ]
        },
        {
          "name": "stderr",
          "output_type": "stream",
          "text": [
            "100%|██████████| 2069/2069 [00:15<00:00, 132.47it/s, loss=0.23181243]   \n",
            "100%|██████████| 93/93 [00:00<00:00, 231.33it/s, loss=0.22527447]  \n"
          ]
        },
        {
          "name": "stdout",
          "output_type": "stream",
          "text": [
            "Epoch 9 has training loss: 0.3151428722835716\n",
            "Epoch 9 has validation loss: 0.37762973131987476\n"
          ]
        },
        {
          "name": "stderr",
          "output_type": "stream",
          "text": [
            "100%|██████████| 2069/2069 [00:15<00:00, 135.48it/s, loss=0.03718023]   \n",
            "100%|██████████| 93/93 [00:00<00:00, 231.35it/s, loss=0.37080118]  \n"
          ]
        },
        {
          "name": "stdout",
          "output_type": "stream",
          "text": [
            "Epoch 10 has training loss: 0.2934007086220758\n",
            "Epoch 10 has validation loss: 0.3721144957247601\n"
          ]
        },
        {
          "name": "stderr",
          "output_type": "stream",
          "text": [
            "100%|██████████| 2069/2069 [00:15<00:00, 135.11it/s, loss=0.0016220758] \n",
            "100%|██████████| 93/93 [00:00<00:00, 230.69it/s, loss=0.20173377]  \n"
          ]
        },
        {
          "name": "stdout",
          "output_type": "stream",
          "text": [
            "Epoch 11 has training loss: 0.2742175051576264\n",
            "Epoch 11 has validation loss: 0.4023620160465549\n"
          ]
        },
        {
          "name": "stderr",
          "output_type": "stream",
          "text": [
            "100%|██████████| 2069/2069 [00:15<00:00, 133.63it/s, loss=0.22387561]   \n",
            "100%|██████████| 93/93 [00:00<00:00, 240.62it/s, loss=0.34561598]  \n"
          ]
        },
        {
          "name": "stdout",
          "output_type": "stream",
          "text": [
            "Epoch 12 has training loss: 0.25384341342212763\n",
            "Epoch 12 has validation loss: 0.4016735362482347\n"
          ]
        },
        {
          "name": "stderr",
          "output_type": "stream",
          "text": [
            "100%|██████████| 2069/2069 [00:15<00:00, 134.10it/s, loss=1.4987969]    \n",
            "100%|██████████| 93/93 [00:00<00:00, 224.09it/s, loss=0.26289043]  \n"
          ]
        },
        {
          "name": "stdout",
          "output_type": "stream",
          "text": [
            "Epoch 13 has training loss: 0.2461996706541309\n",
            "Epoch 13 has validation loss: 0.41131767978696454\n"
          ]
        },
        {
          "name": "stderr",
          "output_type": "stream",
          "text": [
            "100%|██████████| 2069/2069 [00:15<00:00, 134.81it/s, loss=0.07481666]    \n",
            "100%|██████████| 93/93 [00:00<00:00, 219.15it/s, loss=0.24942008]  \n"
          ]
        },
        {
          "name": "stdout",
          "output_type": "stream",
          "text": [
            "Epoch 14 has training loss: 0.2272754170084479\n",
            "Epoch 14 has validation loss: 0.40956993711866957\n"
          ]
        },
        {
          "name": "stderr",
          "output_type": "stream",
          "text": [
            "100%|██████████| 2069/2069 [00:15<00:00, 136.24it/s, loss=0.012222158]   \n",
            "100%|██████████| 93/93 [00:00<00:00, 240.32it/s, loss=0.25565425]  \n"
          ]
        },
        {
          "name": "stdout",
          "output_type": "stream",
          "text": [
            "Epoch 15 has training loss: 0.22810136872543574\n",
            "Epoch 15 has validation loss: 0.4094118027433363\n"
          ]
        },
        {
          "name": "stderr",
          "output_type": "stream",
          "text": [
            "100%|██████████| 2069/2069 [00:15<00:00, 137.77it/s, loss=0.00276695]   \n",
            "100%|██████████| 93/93 [00:00<00:00, 239.07it/s, loss=0.49405977] \n"
          ]
        },
        {
          "name": "stdout",
          "output_type": "stream",
          "text": [
            "Epoch 16 has training loss: 0.30128486596720244\n",
            "Epoch 16 has validation loss: 0.3880286229704256\n"
          ]
        },
        {
          "name": "stderr",
          "output_type": "stream",
          "text": [
            "100%|██████████| 2069/2069 [00:15<00:00, 137.72it/s, loss=0.00019774865] \n",
            "100%|██████████| 93/93 [00:00<00:00, 240.31it/s, loss=0.40830523]  \n"
          ]
        },
        {
          "name": "stdout",
          "output_type": "stream",
          "text": [
            "Epoch 17 has training loss: 0.29299841202713645\n",
            "Epoch 17 has validation loss: 0.3692725053988397\n"
          ]
        },
        {
          "name": "stderr",
          "output_type": "stream",
          "text": [
            "100%|██████████| 2069/2069 [00:14<00:00, 139.05it/s, loss=0.018170916]   \n",
            "100%|██████████| 93/93 [00:00<00:00, 236.44it/s, loss=0.682258]    \n"
          ]
        },
        {
          "name": "stdout",
          "output_type": "stream",
          "text": [
            "Epoch 18 has training loss: 0.2856197853545169\n",
            "Epoch 18 has validation loss: 0.46159574757355154\n"
          ]
        },
        {
          "name": "stderr",
          "output_type": "stream",
          "text": [
            "100%|██████████| 2069/2069 [00:15<00:00, 137.86it/s, loss=0.004094789]  \n",
            "100%|██████████| 93/93 [00:00<00:00, 245.37it/s, loss=0.17822549]   \n"
          ]
        },
        {
          "name": "stdout",
          "output_type": "stream",
          "text": [
            "Epoch 19 has training loss: 0.2754665330147285\n",
            "Epoch 19 has validation loss: 0.4044473956533713\n"
          ]
        },
        {
          "name": "stderr",
          "output_type": "stream",
          "text": [
            "100%|██████████| 2069/2069 [00:15<00:00, 137.13it/s, loss=0.087498434]   \n",
            "100%|██████████| 93/93 [00:00<00:00, 231.92it/s, loss=0.73375297]  \n"
          ]
        },
        {
          "name": "stdout",
          "output_type": "stream",
          "text": [
            "Epoch 20 has training loss: 0.25575074165318346\n",
            "Epoch 20 has validation loss: 0.4453861146992553\n"
          ]
        },
        {
          "name": "stderr",
          "output_type": "stream",
          "text": [
            "100%|██████████| 2069/2069 [00:15<00:00, 134.76it/s, loss=0.22434151]   \n",
            "100%|██████████| 93/93 [00:00<00:00, 203.51it/s, loss=0.2154485]   \n"
          ]
        },
        {
          "name": "stdout",
          "output_type": "stream",
          "text": [
            "Epoch 21 has training loss: 0.2487528749595087\n",
            "Epoch 21 has validation loss: 0.4028453552988746\n"
          ]
        },
        {
          "name": "stderr",
          "output_type": "stream",
          "text": [
            "100%|██████████| 2069/2069 [00:14<00:00, 139.58it/s, loss=0.9046217]     \n",
            "100%|██████████| 93/93 [00:00<00:00, 207.12it/s, loss=0.1994966]    \n"
          ]
        },
        {
          "name": "stdout",
          "output_type": "stream",
          "text": [
            "Epoch 22 has training loss: 0.2431800287878404\n",
            "Epoch 22 has validation loss: 0.42090315518342775\n"
          ]
        },
        {
          "name": "stderr",
          "output_type": "stream",
          "text": [
            "100%|██████████| 2069/2069 [00:14<00:00, 139.28it/s, loss=0.0012467477]  \n",
            "100%|██████████| 93/93 [00:00<00:00, 208.05it/s, loss=0.2877208]    \n"
          ]
        },
        {
          "name": "stdout",
          "output_type": "stream",
          "text": [
            "Epoch 23 has training loss: 0.21577859495362556\n",
            "Epoch 23 has validation loss: 0.4431165791454948\n"
          ]
        },
        {
          "name": "stderr",
          "output_type": "stream",
          "text": [
            "100%|██████████| 2069/2069 [00:14<00:00, 142.04it/s, loss=0.1684772]     \n",
            "100%|██████████| 93/93 [00:00<00:00, 192.55it/s, loss=0.347956]     \n"
          ]
        },
        {
          "name": "stdout",
          "output_type": "stream",
          "text": [
            "Epoch 24 has training loss: 0.2121537948792442\n",
            "Epoch 24 has validation loss: 0.4254511503142215\n"
          ]
        },
        {
          "name": "stderr",
          "output_type": "stream",
          "text": [
            "100%|██████████| 2069/2069 [00:15<00:00, 135.26it/s, loss=0.08973596]    \n",
            "100%|██████████| 93/93 [00:00<00:00, 189.41it/s, loss=0.2436508]    \n"
          ]
        },
        {
          "name": "stdout",
          "output_type": "stream",
          "text": [
            "Epoch 25 has training loss: 0.19027537610353248\n",
            "Epoch 25 has validation loss: 0.43906302631121336\n"
          ]
        },
        {
          "name": "stderr",
          "output_type": "stream",
          "text": [
            "100%|██████████| 2069/2069 [00:13<00:00, 149.63it/s, loss=0.0]           \n",
            "100%|██████████| 93/93 [00:00<00:00, 246.69it/s, loss=0.3465129]    \n"
          ]
        },
        {
          "name": "stdout",
          "output_type": "stream",
          "text": [
            "Epoch 26 has training loss: 0.17443781397216543\n",
            "Epoch 26 has validation loss: 0.48385663202265355\n"
          ]
        },
        {
          "name": "stderr",
          "output_type": "stream",
          "text": [
            "100%|██████████| 2069/2069 [00:14<00:00, 147.30it/s, loss=0.0032964197]  \n",
            "100%|██████████| 93/93 [00:00<00:00, 216.28it/s, loss=0.31415808]   \n"
          ]
        },
        {
          "name": "stdout",
          "output_type": "stream",
          "text": [
            "Epoch 27 has training loss: 0.1636920265894499\n",
            "Epoch 27 has validation loss: 0.4836608485267241\n"
          ]
        },
        {
          "name": "stderr",
          "output_type": "stream",
          "text": [
            "100%|██████████| 2069/2069 [00:11<00:00, 173.97it/s, loss=0.075186156]   \n",
            "100%|██████████| 93/93 [00:00<00:00, 251.37it/s, loss=0.29735518]   \n"
          ]
        },
        {
          "name": "stdout",
          "output_type": "stream",
          "text": [
            "Epoch 28 has training loss: 0.15172481492451712\n",
            "Epoch 28 has validation loss: 0.4817900984868585\n"
          ]
        },
        {
          "name": "stderr",
          "output_type": "stream",
          "text": [
            "100%|██████████| 2069/2069 [00:11<00:00, 174.81it/s, loss=0.0131846275]  \n",
            "100%|██████████| 93/93 [00:00<00:00, 222.49it/s, loss=0.15766624]   \n"
          ]
        },
        {
          "name": "stdout",
          "output_type": "stream",
          "text": [
            "Epoch 29 has training loss: 0.1385647070939388\n",
            "Epoch 29 has validation loss: 0.5250733306789179\n"
          ]
        },
        {
          "name": "stderr",
          "output_type": "stream",
          "text": [
            "100%|██████████| 2069/2069 [00:13<00:00, 155.33it/s, loss=0.0393024]     \n",
            "100%|██████████| 93/93 [00:00<00:00, 239.09it/s, loss=0.2891502]    \n"
          ]
        },
        {
          "name": "stdout",
          "output_type": "stream",
          "text": [
            "Epoch 30 has training loss: 0.1289479000797402\n",
            "Epoch 30 has validation loss: 0.49998981320604013\n"
          ]
        },
        {
          "name": "stderr",
          "output_type": "stream",
          "text": [
            "100%|██████████| 2069/2069 [00:13<00:00, 156.15it/s, loss=0.0015803003]  \n",
            "100%|██████████| 93/93 [00:00<00:00, 247.34it/s, loss=0.20836535]   \n"
          ]
        },
        {
          "name": "stdout",
          "output_type": "stream",
          "text": [
            "Epoch 31 has training loss: 0.12192431554138267\n",
            "Epoch 31 has validation loss: 0.535600896701815\n"
          ]
        },
        {
          "name": "stderr",
          "output_type": "stream",
          "text": [
            "100%|██████████| 2069/2069 [00:11<00:00, 176.85it/s, loss=4.7683704e-07] \n",
            "100%|██████████| 93/93 [00:00<00:00, 248.66it/s, loss=0.1996569]    \n"
          ]
        },
        {
          "name": "stdout",
          "output_type": "stream",
          "text": [
            "Epoch 32 has training loss: 0.11261416086482505\n",
            "Epoch 32 has validation loss: 0.5516469994181278\n"
          ]
        },
        {
          "name": "stderr",
          "output_type": "stream",
          "text": [
            "100%|██████████| 2069/2069 [00:11<00:00, 177.31it/s, loss=0.0021159896]  \n",
            "100%|██████████| 93/93 [00:00<00:00, 243.46it/s, loss=0.25214043]   \n"
          ]
        },
        {
          "name": "stdout",
          "output_type": "stream",
          "text": [
            "Epoch 33 has training loss: 0.11276607245858114\n",
            "Epoch 33 has validation loss: 0.564215438768513\n"
          ]
        },
        {
          "name": "stderr",
          "output_type": "stream",
          "text": [
            "100%|██████████| 2069/2069 [00:13<00:00, 148.41it/s, loss=5.245195e-06]  \n",
            "100%|██████████| 93/93 [00:00<00:00, 200.49it/s, loss=0.22994967]   \n"
          ]
        },
        {
          "name": "stdout",
          "output_type": "stream",
          "text": [
            "Epoch 34 has training loss: 0.11321098575330028\n",
            "Epoch 34 has validation loss: 0.558699480943125\n"
          ]
        },
        {
          "name": "stderr",
          "output_type": "stream",
          "text": [
            "100%|██████████| 2069/2069 [00:13<00:00, 148.13it/s, loss=0.81224465]    \n",
            "100%|██████████| 93/93 [00:00<00:00, 233.07it/s, loss=0.23104568]   \n"
          ]
        },
        {
          "name": "stdout",
          "output_type": "stream",
          "text": [
            "Epoch 35 has training loss: 0.11106018117258368\n",
            "Epoch 35 has validation loss: 0.5569478021456582\n"
          ]
        },
        {
          "name": "stderr",
          "output_type": "stream",
          "text": [
            "100%|██████████| 2069/2069 [00:11<00:00, 176.67it/s, loss=0.5898641]     \n",
            "100%|██████████| 93/93 [00:00<00:00, 213.30it/s, loss=0.30533934]   \n"
          ]
        },
        {
          "name": "stdout",
          "output_type": "stream",
          "text": [
            "Epoch 36 has training loss: 0.2430754674809752\n",
            "Epoch 36 has validation loss: 0.43989126635364867\n"
          ]
        },
        {
          "name": "stderr",
          "output_type": "stream",
          "text": [
            "100%|██████████| 2069/2069 [00:13<00:00, 156.92it/s, loss=0.00026341784] \n",
            "100%|██████████| 93/93 [00:00<00:00, 210.41it/s, loss=0.1291433]    \n"
          ]
        },
        {
          "name": "stdout",
          "output_type": "stream",
          "text": [
            "Epoch 37 has training loss: 0.22644430396673645\n",
            "Epoch 37 has validation loss: 0.44449551155521866\n"
          ]
        },
        {
          "name": "stderr",
          "output_type": "stream",
          "text": [
            "100%|██████████| 2069/2069 [00:13<00:00, 156.06it/s, loss=0.01192088]    \n",
            "100%|██████████| 93/93 [00:00<00:00, 214.34it/s, loss=0.31359395]   \n"
          ]
        },
        {
          "name": "stdout",
          "output_type": "stream",
          "text": [
            "Epoch 38 has training loss: 0.22173081425423688\n",
            "Epoch 38 has validation loss: 0.3835803421934934\n"
          ]
        },
        {
          "name": "stderr",
          "output_type": "stream",
          "text": [
            "100%|██████████| 2069/2069 [00:13<00:00, 152.78it/s, loss=0.087166674]   \n",
            "100%|██████████| 93/93 [00:00<00:00, 238.47it/s, loss=0.36638755]   \n"
          ]
        },
        {
          "name": "stdout",
          "output_type": "stream",
          "text": [
            "Epoch 39 has training loss: 0.22538017628534673\n",
            "Epoch 39 has validation loss: 0.4478212480632944\n"
          ]
        },
        {
          "name": "stderr",
          "output_type": "stream",
          "text": [
            "100%|██████████| 2069/2069 [00:12<00:00, 164.97it/s, loss=0.55507565]    \n",
            "100%|██████████| 93/93 [00:00<00:00, 221.43it/s, loss=0.26900995]   \n"
          ]
        },
        {
          "name": "stdout",
          "output_type": "stream",
          "text": [
            "Epoch 40 has training loss: 0.22895773927394591\n",
            "Epoch 40 has validation loss: 0.5056065470697079\n"
          ]
        },
        {
          "name": "stderr",
          "output_type": "stream",
          "text": [
            "100%|██████████| 2069/2069 [00:14<00:00, 147.07it/s, loss=1.3892579]     \n",
            "100%|██████████| 93/93 [00:00<00:00, 247.29it/s, loss=0.45062017]   \n"
          ]
        },
        {
          "name": "stdout",
          "output_type": "stream",
          "text": [
            "Epoch 41 has training loss: 0.21202743655305029\n",
            "Epoch 41 has validation loss: 0.536240835134322\n"
          ]
        },
        {
          "name": "stderr",
          "output_type": "stream",
          "text": [
            "100%|██████████| 2069/2069 [00:12<00:00, 162.68it/s, loss=0.0046787313]  \n",
            "100%|██████████| 93/93 [00:00<00:00, 246.03it/s, loss=0.12670323]   \n"
          ]
        },
        {
          "name": "stdout",
          "output_type": "stream",
          "text": [
            "Epoch 42 has training loss: 0.2136200892296326\n",
            "Epoch 42 has validation loss: 0.518547066702553\n"
          ]
        },
        {
          "name": "stderr",
          "output_type": "stream",
          "text": [
            "100%|██████████| 2069/2069 [00:12<00:00, 162.19it/s, loss=0.41898838]    \n",
            "100%|██████████| 93/93 [00:00<00:00, 247.04it/s, loss=0.18046185]   \n"
          ]
        },
        {
          "name": "stdout",
          "output_type": "stream",
          "text": [
            "Epoch 43 has training loss: 0.21131417473911046\n",
            "Epoch 43 has validation loss: 0.5280008528158456\n"
          ]
        },
        {
          "name": "stderr",
          "output_type": "stream",
          "text": [
            "100%|██████████| 2069/2069 [00:13<00:00, 150.93it/s, loss=0.016167138]   \n",
            "100%|██████████| 93/93 [00:00<00:00, 239.69it/s, loss=0.14609595]   \n"
          ]
        },
        {
          "name": "stdout",
          "output_type": "stream",
          "text": [
            "Epoch 44 has training loss: 0.18637854856979505\n",
            "Epoch 44 has validation loss: 0.5002682670780217\n"
          ]
        },
        {
          "name": "stderr",
          "output_type": "stream",
          "text": [
            "100%|██████████| 2069/2069 [00:13<00:00, 153.65it/s, loss=0.07042076]    \n",
            "100%|██████████| 93/93 [00:00<00:00, 216.80it/s, loss=0.09305856]   \n"
          ]
        },
        {
          "name": "stdout",
          "output_type": "stream",
          "text": [
            "Epoch 45 has training loss: 0.19606358272076646\n",
            "Epoch 45 has validation loss: 0.5213684470760219\n"
          ]
        },
        {
          "name": "stderr",
          "output_type": "stream",
          "text": [
            "100%|██████████| 2069/2069 [00:12<00:00, 159.88it/s, loss=0.13135466]    \n",
            "100%|██████████| 93/93 [00:00<00:00, 224.64it/s, loss=0.22327787]   \n"
          ]
        },
        {
          "name": "stdout",
          "output_type": "stream",
          "text": [
            "Epoch 46 has training loss: 0.18568828329403075\n",
            "Epoch 46 has validation loss: 0.4894994866550767\n"
          ]
        },
        {
          "name": "stderr",
          "output_type": "stream",
          "text": [
            "100%|██████████| 2069/2069 [00:13<00:00, 158.10it/s, loss=0.0006703275]  \n",
            "100%|██████████| 93/93 [00:00<00:00, 248.73it/s, loss=0.3430984]    \n"
          ]
        },
        {
          "name": "stdout",
          "output_type": "stream",
          "text": [
            "Epoch 47 has training loss: 0.17888706320209383\n",
            "Epoch 47 has validation loss: 0.5093439794608389\n"
          ]
        },
        {
          "name": "stderr",
          "output_type": "stream",
          "text": [
            "100%|██████████| 2069/2069 [00:13<00:00, 155.95it/s, loss=0.030259086]   \n",
            "100%|██████████| 93/93 [00:00<00:00, 226.84it/s, loss=0.35178927]   \n"
          ]
        },
        {
          "name": "stdout",
          "output_type": "stream",
          "text": [
            "Epoch 48 has training loss: 0.16197174130810024\n",
            "Epoch 48 has validation loss: 0.5658639679014317\n"
          ]
        },
        {
          "name": "stderr",
          "output_type": "stream",
          "text": [
            "100%|██████████| 2069/2069 [00:12<00:00, 163.09it/s, loss=0.61931306]    \n",
            "100%|██████████| 93/93 [00:00<00:00, 224.64it/s, loss=0.33369547]   \n"
          ]
        },
        {
          "name": "stdout",
          "output_type": "stream",
          "text": [
            "Epoch 49 has training loss: 0.15554614555146246\n",
            "Epoch 49 has validation loss: 0.5133985217040984\n"
          ]
        },
        {
          "name": "stderr",
          "output_type": "stream",
          "text": [
            "100%|██████████| 2069/2069 [00:13<00:00, 155.36it/s, loss=0.10512343]    \n",
            "100%|██████████| 93/93 [00:00<00:00, 247.34it/s, loss=0.3653211]    "
          ]
        },
        {
          "name": "stdout",
          "output_type": "stream",
          "text": [
            "Epoch 50 has training loss: 0.1532105512582222\n",
            "Epoch 50 has validation loss: 0.5196084400119447\n"
          ]
        },
        {
          "name": "stderr",
          "output_type": "stream",
          "text": [
            "\n"
          ]
        }
      ],
      "source": [
        "from tqdm import tqdm\n",
        "import math\n",
        "class CommentClassificationModel(torch.nn.Module):\n",
        "    def __init__(self, nrLabels):\n",
        "        super(CommentClassificationModel, self).__init__()\n",
        "\n",
        "        self.comment_proj = torch.nn.Linear(768, 128) \n",
        "        self.relu = torch.nn.ReLU()\n",
        "        self.output = torch.nn.Linear(128, nrLabels) \n",
        "        self.dropout = torch.nn.Dropout(0.7)  \n",
        "\n",
        "    def forward(self, x, fathers_x, mask):\n",
        "        com_proj = self.dropout(self.relu(self.comment_proj(x)))\n",
        "\n",
        "        return self.output(com_proj)\n",
        "\n",
        "\n",
        "comment_classification_Model = CommentClassificationModel(len(labelEncoder.classes_))\n",
        "comment_classification_Model.to(DEVICE)\n",
        "\n",
        "\n",
        "criterion = torch.nn.CrossEntropyLoss()\n",
        "optimizer = torch.optim.AdamW(comment_classification_Model.parameters())\n",
        "scheduler = torch.optim.lr_scheduler.CosineAnnealingWarmRestarts(optimizer,len(train_torch_dataloader) * 5, 2)\n",
        "nr_epochs = 50\n",
        "current_step = 0\n",
        "best_model_loss = 1e9\n",
        "for epoch in range(nr_epochs):\n",
        "  pbar_training = tqdm(train_torch_dataloader)\n",
        "  training_average_loss = 0\n",
        "  training_nr_batches = 0\n",
        "  comment_classification_Model.train()\n",
        "  iters = len(pbar_training)\n",
        "  \n",
        "  for embeddings_batch, embedding_fathers, mask_batch, labels_batch in pbar_training:\n",
        "    optimizer.zero_grad()\n",
        "    yhat = comment_classification_Model(embeddings_batch, embedding_fathers, mask_batch)\n",
        "    loss = criterion(yhat, labels_batch)\n",
        "    loss.backward()\n",
        "    optimizer.step()\n",
        "    pbar_training.set_postfix({'loss': loss.cpu().detach().numpy()})\n",
        "\n",
        "    training_average_loss += loss.cpu().detach().numpy()\n",
        "    training_nr_batches+=1\n",
        "    current_step+=1\n",
        "    scheduler.step()\n",
        "\n",
        "  pbar_validation = tqdm(val_torch_dataloader)\n",
        "\n",
        "  validation_average_loss = 0\n",
        "  validation_nr_batches = 0\n",
        "  comment_classification_Model.eval()\n",
        "  for embeddings_batch, embedding_fathers, mask_batch, labels_batch in pbar_validation:\n",
        "    with torch.no_grad():\n",
        "      yhat = comment_classification_Model(embeddings_batch, embedding_fathers, mask_batch)\n",
        "      loss = criterion(yhat, labels_batch)\n",
        "\n",
        "      validation_average_loss += loss.cpu().detach().numpy()\n",
        "      validation_nr_batches+=1\n",
        "\n",
        "      pbar_validation.set_postfix({'loss': loss.cpu().detach().numpy()})\n",
        "      \n",
        "  print(f'Epoch {epoch + 1} has training loss: {training_average_loss / training_nr_batches}')\n",
        "  print(f'Epoch {epoch + 1} has validation loss: {validation_average_loss / validation_nr_batches}')\n",
        "\n",
        "  if(validation_average_loss / validation_nr_batches < best_model_loss):\n",
        "     best_model_loss = validation_average_loss / validation_nr_batches\n",
        "     print(f'Best loss at epoch {epoch}')\n",
        "     torch.save(comment_classification_Model, f'best_models/{huggingface_model_name_aug_alias}.pkl')\n"
      ]
    },
    {
      "cell_type": "code",
      "execution_count": 11,
      "metadata": {
        "id": "GwAhp7BAwjfG"
      },
      "outputs": [
        {
          "name": "stderr",
          "output_type": "stream",
          "text": [
            "100%|██████████| 93/93 [00:00<00:00, 357.66it/s]\n"
          ]
        }
      ],
      "source": [
        "comment_classification_Model= torch.load(f'best_models/{huggingface_model_name_aug_alias}.pkl')\n",
        "comment_classification_Model.to(DEVICE)\n",
        "comment_classification_Model.eval()\n",
        "predictions = []\n",
        "pbar_validation = tqdm(val_torch_dataloader)\n",
        "for embeddings_batch, embedding_fathers, mask_batch, labels_batch in pbar_validation:\n",
        "  predictions.append(comment_classification_Model(embeddings_batch, embedding_fathers, mask_batch))\n",
        "\n",
        "predictions = np.stack([e for b in predictions for e in b.cpu().detach().numpy()])"
      ]
    },
    {
      "cell_type": "code",
      "execution_count": 12,
      "metadata": {
        "id": "PgbM5DfFxWfd"
      },
      "outputs": [
        {
          "name": "stdout",
          "output_type": "stream",
          "text": [
            "              precision    recall  f1-score   support\n",
            "\n",
            "  Irrelevant       0.84      0.70      0.76        74\n",
            "    Relevant       0.82      0.91      0.86       112\n",
            "\n",
            "    accuracy                           0.83       186\n",
            "   macro avg       0.83      0.81      0.81       186\n",
            "weighted avg       0.83      0.83      0.82       186\n",
            "\n"
          ]
        }
      ],
      "source": [
        "predictions_softmax = torch.nn.Softmax(dim=1)(torch.from_numpy(predictions)).detach().numpy()\n",
        "\n",
        "predictions_indices = np.argmax(predictions_softmax, axis = 1)\n",
        "predicted_normal_labels = labelEncoder.inverse_transform(predictions_indices.ravel())\n",
        "\n",
        "from sklearn.metrics import classification_report\n",
        "\n",
        "print(classification_report(val_educ_dataset[\"label\"], predicted_normal_labels))"
      ]
    },
    {
      "cell_type": "code",
      "execution_count": 13,
      "metadata": {},
      "outputs": [
        {
          "name": "stderr",
          "output_type": "stream",
          "text": [
            "100%|██████████| 80/80 [00:00<00:00, 287.77it/s]\n"
          ]
        }
      ],
      "source": [
        "predictions = []\n",
        "pbar_test = tqdm(test_torch_dataloader)\n",
        "for embeddings_batch, embedding_fathers, mask_batch, labels_batch in pbar_test:\n",
        "  predictions.append(comment_classification_Model(embeddings_batch, embedding_fathers, mask_batch))\n",
        "\n",
        "predictions = np.stack([e for b in predictions for e in b.cpu().detach().numpy()])"
      ]
    },
    {
      "cell_type": "code",
      "execution_count": 14,
      "metadata": {
        "id": "N7Hjy5FAkioO",
        "scrolled": true
      },
      "outputs": [
        {
          "name": "stdout",
          "output_type": "stream",
          "text": [
            "              precision    recall  f1-score   support\n",
            "\n",
            "  Irrelevant       0.87      0.80      0.83        74\n",
            "    Relevant       0.84      0.90      0.87        86\n",
            "\n",
            "    accuracy                           0.85       160\n",
            "   macro avg       0.85      0.85      0.85       160\n",
            "weighted avg       0.85      0.85      0.85       160\n",
            "\n"
          ]
        }
      ],
      "source": [
        "predictions_softmax = torch.nn.Softmax(dim=1)(torch.from_numpy(predictions)).detach().numpy()\n",
        "\n",
        "predictions_indices = np.argmax(predictions_softmax, axis = 1)\n",
        "predicted_normal_labels = labelEncoder.inverse_transform(predictions_indices.ravel())\n",
        "\n",
        "from sklearn.metrics import classification_report\n",
        "\n",
        "print(classification_report(test_educ_dataset[\"label\"], predicted_normal_labels))"
      ]
    },
    {
      "cell_type": "code",
      "execution_count": 15,
      "metadata": {},
      "outputs": [
        {
          "name": "stderr",
          "output_type": "stream",
          "text": [
            "100%|██████████| 252/252 [00:00<00:00, 376.12it/s]\n"
          ]
        }
      ],
      "source": [
        "predictions = []\n",
        "pbar_div = tqdm(div_dataloader_torch)\n",
        "for embeddings_batch, embedding_fathers, mask_batch, labels_batch in pbar_div:\n",
        "  predictions.append(comment_classification_Model(embeddings_batch, embedding_fathers, mask_batch))\n",
        "\n",
        "predictions = np.stack([e for b in predictions for e in b.cpu().detach().numpy()])"
      ]
    },
    {
      "cell_type": "code",
      "execution_count": 16,
      "metadata": {},
      "outputs": [
        {
          "name": "stdout",
          "output_type": "stream",
          "text": [
            "              precision    recall  f1-score   support\n",
            "\n",
            "  Irrelevant       0.97      0.67      0.79       393\n",
            "    Relevant       0.44      0.92      0.59       111\n",
            "\n",
            "    accuracy                           0.72       504\n",
            "   macro avg       0.70      0.79      0.69       504\n",
            "weighted avg       0.85      0.72      0.75       504\n",
            "\n"
          ]
        }
      ],
      "source": [
        "predictions_softmax = torch.nn.Softmax(dim=1)(torch.from_numpy(predictions)).detach().numpy()\n",
        "\n",
        "predictions_indices = np.argmax(predictions_softmax, axis = 1)\n",
        "predicted_normal_labels = labelEncoder.inverse_transform(predictions_indices.ravel())\n",
        "\n",
        "from sklearn.metrics import classification_report\n",
        "\n",
        "print(classification_report(dataset_div[\"label\"], predicted_normal_labels))"
      ]
    }
  ],
  "metadata": {
    "colab": {
      "provenance": []
    },
    "gpuClass": "standard",
    "kernelspec": {
      "display_name": "Python 3 (ipykernel)",
      "language": "python",
      "name": "python3"
    },
    "language_info": {
      "codemirror_mode": {
        "name": "ipython",
        "version": 3
      },
      "file_extension": ".py",
      "mimetype": "text/x-python",
      "name": "python",
      "nbconvert_exporter": "python",
      "pygments_lexer": "ipython3",
      "version": "3.9.7"
    },
    "vscode": {
      "interpreter": {
        "hash": "259697ca15dba3bdee1251769ee50403cdc14449d4679f1ae234c213280e302b"
      }
    },
    "widgets": {
      "application/vnd.jupyter.widget-state+json": {
        "0ac9dfc2fce94fb182224705902fa400": {
          "model_module": "@jupyter-widgets/base",
          "model_module_version": "1.2.0",
          "model_name": "LayoutModel",
          "state": {
            "_model_module": "@jupyter-widgets/base",
            "_model_module_version": "1.2.0",
            "_model_name": "LayoutModel",
            "_view_count": null,
            "_view_module": "@jupyter-widgets/base",
            "_view_module_version": "1.2.0",
            "_view_name": "LayoutView",
            "align_content": null,
            "align_items": null,
            "align_self": null,
            "border": null,
            "bottom": null,
            "display": null,
            "flex": null,
            "flex_flow": null,
            "grid_area": null,
            "grid_auto_columns": null,
            "grid_auto_flow": null,
            "grid_auto_rows": null,
            "grid_column": null,
            "grid_gap": null,
            "grid_row": null,
            "grid_template_areas": null,
            "grid_template_columns": null,
            "grid_template_rows": null,
            "height": null,
            "justify_content": null,
            "justify_items": null,
            "left": null,
            "margin": null,
            "max_height": null,
            "max_width": null,
            "min_height": null,
            "min_width": null,
            "object_fit": null,
            "object_position": null,
            "order": null,
            "overflow": null,
            "overflow_x": null,
            "overflow_y": null,
            "padding": null,
            "right": null,
            "top": null,
            "visibility": null,
            "width": null
          }
        },
        "0be5192c031743e2a1c6a088a524d24d": {
          "model_module": "@jupyter-widgets/base",
          "model_module_version": "1.2.0",
          "model_name": "LayoutModel",
          "state": {
            "_model_module": "@jupyter-widgets/base",
            "_model_module_version": "1.2.0",
            "_model_name": "LayoutModel",
            "_view_count": null,
            "_view_module": "@jupyter-widgets/base",
            "_view_module_version": "1.2.0",
            "_view_name": "LayoutView",
            "align_content": null,
            "align_items": null,
            "align_self": null,
            "border": null,
            "bottom": null,
            "display": null,
            "flex": null,
            "flex_flow": null,
            "grid_area": null,
            "grid_auto_columns": null,
            "grid_auto_flow": null,
            "grid_auto_rows": null,
            "grid_column": null,
            "grid_gap": null,
            "grid_row": null,
            "grid_template_areas": null,
            "grid_template_columns": null,
            "grid_template_rows": null,
            "height": null,
            "justify_content": null,
            "justify_items": null,
            "left": null,
            "margin": null,
            "max_height": null,
            "max_width": null,
            "min_height": null,
            "min_width": null,
            "object_fit": null,
            "object_position": null,
            "order": null,
            "overflow": null,
            "overflow_x": null,
            "overflow_y": null,
            "padding": null,
            "right": null,
            "top": null,
            "visibility": null,
            "width": null
          }
        },
        "107567711d404390b24f24e116c01fe7": {
          "model_module": "@jupyter-widgets/controls",
          "model_module_version": "1.5.0",
          "model_name": "HTMLModel",
          "state": {
            "_dom_classes": [],
            "_model_module": "@jupyter-widgets/controls",
            "_model_module_version": "1.5.0",
            "_model_name": "HTMLModel",
            "_view_count": null,
            "_view_module": "@jupyter-widgets/controls",
            "_view_module_version": "1.5.0",
            "_view_name": "HTMLView",
            "description": "",
            "description_tooltip": null,
            "layout": "IPY_MODEL_0be5192c031743e2a1c6a088a524d24d",
            "placeholder": "​",
            "style": "IPY_MODEL_1d496bb6883e43e3932d4c94f9c2cc34",
            "value": " 570/570 [00:00&lt;00:00, 9.75kB/s]"
          }
        },
        "17a9bae4ba6b4ea1a32f33e45cec64f8": {
          "model_module": "@jupyter-widgets/controls",
          "model_module_version": "1.5.0",
          "model_name": "HTMLModel",
          "state": {
            "_dom_classes": [],
            "_model_module": "@jupyter-widgets/controls",
            "_model_module_version": "1.5.0",
            "_model_name": "HTMLModel",
            "_view_count": null,
            "_view_module": "@jupyter-widgets/controls",
            "_view_module_version": "1.5.0",
            "_view_name": "HTMLView",
            "description": "",
            "description_tooltip": null,
            "layout": "IPY_MODEL_a19cb9558381428ab77151b832aa1ef0",
            "placeholder": "​",
            "style": "IPY_MODEL_e393026919174e6e9e51fa36d678c57f",
            "value": "Downloading (…)okenizer_config.json: 100%"
          }
        },
        "1d496bb6883e43e3932d4c94f9c2cc34": {
          "model_module": "@jupyter-widgets/controls",
          "model_module_version": "1.5.0",
          "model_name": "DescriptionStyleModel",
          "state": {
            "_model_module": "@jupyter-widgets/controls",
            "_model_module_version": "1.5.0",
            "_model_name": "DescriptionStyleModel",
            "_view_count": null,
            "_view_module": "@jupyter-widgets/base",
            "_view_module_version": "1.2.0",
            "_view_name": "StyleView",
            "description_width": ""
          }
        },
        "2163460e8cdf4b8c8b459e4251d96d0f": {
          "model_module": "@jupyter-widgets/controls",
          "model_module_version": "1.5.0",
          "model_name": "HTMLModel",
          "state": {
            "_dom_classes": [],
            "_model_module": "@jupyter-widgets/controls",
            "_model_module_version": "1.5.0",
            "_model_name": "HTMLModel",
            "_view_count": null,
            "_view_module": "@jupyter-widgets/controls",
            "_view_module_version": "1.5.0",
            "_view_name": "HTMLView",
            "description": "",
            "description_tooltip": null,
            "layout": "IPY_MODEL_2f150fb4c04048d692400452226a012d",
            "placeholder": "​",
            "style": "IPY_MODEL_65d660c8b6b3446893bb89fcdd42ba6b",
            "value": "Downloading (…)lve/main/config.json: 100%"
          }
        },
        "22b4a12a22934259b5ab6e2733ee49a3": {
          "model_module": "@jupyter-widgets/base",
          "model_module_version": "1.2.0",
          "model_name": "LayoutModel",
          "state": {
            "_model_module": "@jupyter-widgets/base",
            "_model_module_version": "1.2.0",
            "_model_name": "LayoutModel",
            "_view_count": null,
            "_view_module": "@jupyter-widgets/base",
            "_view_module_version": "1.2.0",
            "_view_name": "LayoutView",
            "align_content": null,
            "align_items": null,
            "align_self": null,
            "border": null,
            "bottom": null,
            "display": null,
            "flex": null,
            "flex_flow": null,
            "grid_area": null,
            "grid_auto_columns": null,
            "grid_auto_flow": null,
            "grid_auto_rows": null,
            "grid_column": null,
            "grid_gap": null,
            "grid_row": null,
            "grid_template_areas": null,
            "grid_template_columns": null,
            "grid_template_rows": null,
            "height": null,
            "justify_content": null,
            "justify_items": null,
            "left": null,
            "margin": null,
            "max_height": null,
            "max_width": null,
            "min_height": null,
            "min_width": null,
            "object_fit": null,
            "object_position": null,
            "order": null,
            "overflow": null,
            "overflow_x": null,
            "overflow_y": null,
            "padding": null,
            "right": null,
            "top": null,
            "visibility": null,
            "width": null
          }
        },
        "2f150fb4c04048d692400452226a012d": {
          "model_module": "@jupyter-widgets/base",
          "model_module_version": "1.2.0",
          "model_name": "LayoutModel",
          "state": {
            "_model_module": "@jupyter-widgets/base",
            "_model_module_version": "1.2.0",
            "_model_name": "LayoutModel",
            "_view_count": null,
            "_view_module": "@jupyter-widgets/base",
            "_view_module_version": "1.2.0",
            "_view_name": "LayoutView",
            "align_content": null,
            "align_items": null,
            "align_self": null,
            "border": null,
            "bottom": null,
            "display": null,
            "flex": null,
            "flex_flow": null,
            "grid_area": null,
            "grid_auto_columns": null,
            "grid_auto_flow": null,
            "grid_auto_rows": null,
            "grid_column": null,
            "grid_gap": null,
            "grid_row": null,
            "grid_template_areas": null,
            "grid_template_columns": null,
            "grid_template_rows": null,
            "height": null,
            "justify_content": null,
            "justify_items": null,
            "left": null,
            "margin": null,
            "max_height": null,
            "max_width": null,
            "min_height": null,
            "min_width": null,
            "object_fit": null,
            "object_position": null,
            "order": null,
            "overflow": null,
            "overflow_x": null,
            "overflow_y": null,
            "padding": null,
            "right": null,
            "top": null,
            "visibility": null,
            "width": null
          }
        },
        "323a69c84555449094ec2012a3d52d63": {
          "model_module": "@jupyter-widgets/controls",
          "model_module_version": "1.5.0",
          "model_name": "DescriptionStyleModel",
          "state": {
            "_model_module": "@jupyter-widgets/controls",
            "_model_module_version": "1.5.0",
            "_model_name": "DescriptionStyleModel",
            "_view_count": null,
            "_view_module": "@jupyter-widgets/base",
            "_view_module_version": "1.2.0",
            "_view_name": "StyleView",
            "description_width": ""
          }
        },
        "34e75810a17842fab1b34176261a9f84": {
          "model_module": "@jupyter-widgets/controls",
          "model_module_version": "1.5.0",
          "model_name": "HTMLModel",
          "state": {
            "_dom_classes": [],
            "_model_module": "@jupyter-widgets/controls",
            "_model_module_version": "1.5.0",
            "_model_name": "HTMLModel",
            "_view_count": null,
            "_view_module": "@jupyter-widgets/controls",
            "_view_module_version": "1.5.0",
            "_view_name": "HTMLView",
            "description": "",
            "description_tooltip": null,
            "layout": "IPY_MODEL_9b575196f8994a938793ca404fcf07b8",
            "placeholder": "​",
            "style": "IPY_MODEL_d7b5e92dffd840feb9aca6ed35cecdc1",
            "value": " 436M/436M [00:04&lt;00:00, 90.0MB/s]"
          }
        },
        "37991897796f4bbcb5b3ee78a1710b60": {
          "model_module": "@jupyter-widgets/controls",
          "model_module_version": "1.5.0",
          "model_name": "HTMLModel",
          "state": {
            "_dom_classes": [],
            "_model_module": "@jupyter-widgets/controls",
            "_model_module_version": "1.5.0",
            "_model_name": "HTMLModel",
            "_view_count": null,
            "_view_module": "@jupyter-widgets/controls",
            "_view_module_version": "1.5.0",
            "_view_name": "HTMLView",
            "description": "",
            "description_tooltip": null,
            "layout": "IPY_MODEL_aff5731eafd04d61ba5cb2344bb84060",
            "placeholder": "​",
            "style": "IPY_MODEL_323a69c84555449094ec2012a3d52d63",
            "value": " 29.0/29.0 [00:00&lt;00:00, 471B/s]"
          }
        },
        "3aab9c9a3679469792587f9381c87c1e": {
          "model_module": "@jupyter-widgets/controls",
          "model_module_version": "1.5.0",
          "model_name": "DescriptionStyleModel",
          "state": {
            "_model_module": "@jupyter-widgets/controls",
            "_model_module_version": "1.5.0",
            "_model_name": "DescriptionStyleModel",
            "_view_count": null,
            "_view_module": "@jupyter-widgets/base",
            "_view_module_version": "1.2.0",
            "_view_name": "StyleView",
            "description_width": ""
          }
        },
        "3ec6a16d1323497ca62269c5a1221b41": {
          "model_module": "@jupyter-widgets/base",
          "model_module_version": "1.2.0",
          "model_name": "LayoutModel",
          "state": {
            "_model_module": "@jupyter-widgets/base",
            "_model_module_version": "1.2.0",
            "_model_name": "LayoutModel",
            "_view_count": null,
            "_view_module": "@jupyter-widgets/base",
            "_view_module_version": "1.2.0",
            "_view_name": "LayoutView",
            "align_content": null,
            "align_items": null,
            "align_self": null,
            "border": null,
            "bottom": null,
            "display": null,
            "flex": null,
            "flex_flow": null,
            "grid_area": null,
            "grid_auto_columns": null,
            "grid_auto_flow": null,
            "grid_auto_rows": null,
            "grid_column": null,
            "grid_gap": null,
            "grid_row": null,
            "grid_template_areas": null,
            "grid_template_columns": null,
            "grid_template_rows": null,
            "height": null,
            "justify_content": null,
            "justify_items": null,
            "left": null,
            "margin": null,
            "max_height": null,
            "max_width": null,
            "min_height": null,
            "min_width": null,
            "object_fit": null,
            "object_position": null,
            "order": null,
            "overflow": null,
            "overflow_x": null,
            "overflow_y": null,
            "padding": null,
            "right": null,
            "top": null,
            "visibility": null,
            "width": null
          }
        },
        "49003665fa584055bdbaceec416f031c": {
          "model_module": "@jupyter-widgets/base",
          "model_module_version": "1.2.0",
          "model_name": "LayoutModel",
          "state": {
            "_model_module": "@jupyter-widgets/base",
            "_model_module_version": "1.2.0",
            "_model_name": "LayoutModel",
            "_view_count": null,
            "_view_module": "@jupyter-widgets/base",
            "_view_module_version": "1.2.0",
            "_view_name": "LayoutView",
            "align_content": null,
            "align_items": null,
            "align_self": null,
            "border": null,
            "bottom": null,
            "display": null,
            "flex": null,
            "flex_flow": null,
            "grid_area": null,
            "grid_auto_columns": null,
            "grid_auto_flow": null,
            "grid_auto_rows": null,
            "grid_column": null,
            "grid_gap": null,
            "grid_row": null,
            "grid_template_areas": null,
            "grid_template_columns": null,
            "grid_template_rows": null,
            "height": null,
            "justify_content": null,
            "justify_items": null,
            "left": null,
            "margin": null,
            "max_height": null,
            "max_width": null,
            "min_height": null,
            "min_width": null,
            "object_fit": null,
            "object_position": null,
            "order": null,
            "overflow": null,
            "overflow_x": null,
            "overflow_y": null,
            "padding": null,
            "right": null,
            "top": null,
            "visibility": null,
            "width": null
          }
        },
        "4c7880bcb55d4bc2acaa425e968df901": {
          "model_module": "@jupyter-widgets/controls",
          "model_module_version": "1.5.0",
          "model_name": "HTMLModel",
          "state": {
            "_dom_classes": [],
            "_model_module": "@jupyter-widgets/controls",
            "_model_module_version": "1.5.0",
            "_model_name": "HTMLModel",
            "_view_count": null,
            "_view_module": "@jupyter-widgets/controls",
            "_view_module_version": "1.5.0",
            "_view_name": "HTMLView",
            "description": "",
            "description_tooltip": null,
            "layout": "IPY_MODEL_efc88785df8848efa4242f5af022b0aa",
            "placeholder": "​",
            "style": "IPY_MODEL_fb17fffda3574592b5396833307ef351",
            "value": "Downloading pytorch_model.bin: 100%"
          }
        },
        "55421be427a14ba4894650db34167b4b": {
          "model_module": "@jupyter-widgets/controls",
          "model_module_version": "1.5.0",
          "model_name": "DescriptionStyleModel",
          "state": {
            "_model_module": "@jupyter-widgets/controls",
            "_model_module_version": "1.5.0",
            "_model_name": "DescriptionStyleModel",
            "_view_count": null,
            "_view_module": "@jupyter-widgets/base",
            "_view_module_version": "1.2.0",
            "_view_name": "StyleView",
            "description_width": ""
          }
        },
        "5cd90fd90e7b4cf5a2bd4383602b3327": {
          "model_module": "@jupyter-widgets/controls",
          "model_module_version": "1.5.0",
          "model_name": "HTMLModel",
          "state": {
            "_dom_classes": [],
            "_model_module": "@jupyter-widgets/controls",
            "_model_module_version": "1.5.0",
            "_model_name": "HTMLModel",
            "_view_count": null,
            "_view_module": "@jupyter-widgets/controls",
            "_view_module_version": "1.5.0",
            "_view_name": "HTMLView",
            "description": "",
            "description_tooltip": null,
            "layout": "IPY_MODEL_856752bf27e346c3890fa3eb114f4312",
            "placeholder": "​",
            "style": "IPY_MODEL_55421be427a14ba4894650db34167b4b",
            "value": " 213k/213k [00:00&lt;00:00, 1.31MB/s]"
          }
        },
        "5fb3b43304fb42b589d4a74c57f227e2": {
          "model_module": "@jupyter-widgets/controls",
          "model_module_version": "1.5.0",
          "model_name": "ProgressStyleModel",
          "state": {
            "_model_module": "@jupyter-widgets/controls",
            "_model_module_version": "1.5.0",
            "_model_name": "ProgressStyleModel",
            "_view_count": null,
            "_view_module": "@jupyter-widgets/base",
            "_view_module_version": "1.2.0",
            "_view_name": "StyleView",
            "bar_color": null,
            "description_width": ""
          }
        },
        "5ff8f3861ef24ce4bfae0cb8128a85c7": {
          "model_module": "@jupyter-widgets/base",
          "model_module_version": "1.2.0",
          "model_name": "LayoutModel",
          "state": {
            "_model_module": "@jupyter-widgets/base",
            "_model_module_version": "1.2.0",
            "_model_name": "LayoutModel",
            "_view_count": null,
            "_view_module": "@jupyter-widgets/base",
            "_view_module_version": "1.2.0",
            "_view_name": "LayoutView",
            "align_content": null,
            "align_items": null,
            "align_self": null,
            "border": null,
            "bottom": null,
            "display": null,
            "flex": null,
            "flex_flow": null,
            "grid_area": null,
            "grid_auto_columns": null,
            "grid_auto_flow": null,
            "grid_auto_rows": null,
            "grid_column": null,
            "grid_gap": null,
            "grid_row": null,
            "grid_template_areas": null,
            "grid_template_columns": null,
            "grid_template_rows": null,
            "height": null,
            "justify_content": null,
            "justify_items": null,
            "left": null,
            "margin": null,
            "max_height": null,
            "max_width": null,
            "min_height": null,
            "min_width": null,
            "object_fit": null,
            "object_position": null,
            "order": null,
            "overflow": null,
            "overflow_x": null,
            "overflow_y": null,
            "padding": null,
            "right": null,
            "top": null,
            "visibility": null,
            "width": null
          }
        },
        "65b7261f506547fd89bb31f2d5f03855": {
          "model_module": "@jupyter-widgets/controls",
          "model_module_version": "1.5.0",
          "model_name": "FloatProgressModel",
          "state": {
            "_dom_classes": [],
            "_model_module": "@jupyter-widgets/controls",
            "_model_module_version": "1.5.0",
            "_model_name": "FloatProgressModel",
            "_view_count": null,
            "_view_module": "@jupyter-widgets/controls",
            "_view_module_version": "1.5.0",
            "_view_name": "ProgressView",
            "bar_style": "success",
            "description": "",
            "description_tooltip": null,
            "layout": "IPY_MODEL_5ff8f3861ef24ce4bfae0cb8128a85c7",
            "max": 435779157,
            "min": 0,
            "orientation": "horizontal",
            "style": "IPY_MODEL_ae1a237cb330431985a918d31dae1a11",
            "value": 435779157
          }
        },
        "65d660c8b6b3446893bb89fcdd42ba6b": {
          "model_module": "@jupyter-widgets/controls",
          "model_module_version": "1.5.0",
          "model_name": "DescriptionStyleModel",
          "state": {
            "_model_module": "@jupyter-widgets/controls",
            "_model_module_version": "1.5.0",
            "_model_name": "DescriptionStyleModel",
            "_view_count": null,
            "_view_module": "@jupyter-widgets/base",
            "_view_module_version": "1.2.0",
            "_view_name": "StyleView",
            "description_width": ""
          }
        },
        "6f5cc31dbb37423e81143e43a8970ca3": {
          "model_module": "@jupyter-widgets/controls",
          "model_module_version": "1.5.0",
          "model_name": "HBoxModel",
          "state": {
            "_dom_classes": [],
            "_model_module": "@jupyter-widgets/controls",
            "_model_module_version": "1.5.0",
            "_model_name": "HBoxModel",
            "_view_count": null,
            "_view_module": "@jupyter-widgets/controls",
            "_view_module_version": "1.5.0",
            "_view_name": "HBoxView",
            "box_style": "",
            "children": [
              "IPY_MODEL_2163460e8cdf4b8c8b459e4251d96d0f",
              "IPY_MODEL_8cbe10aa28dc4b81a8a9163b276c9486",
              "IPY_MODEL_107567711d404390b24f24e116c01fe7"
            ],
            "layout": "IPY_MODEL_3ec6a16d1323497ca62269c5a1221b41"
          }
        },
        "6fed445dbd044671a875d99e7b4118cb": {
          "model_module": "@jupyter-widgets/controls",
          "model_module_version": "1.5.0",
          "model_name": "HBoxModel",
          "state": {
            "_dom_classes": [],
            "_model_module": "@jupyter-widgets/controls",
            "_model_module_version": "1.5.0",
            "_model_name": "HBoxModel",
            "_view_count": null,
            "_view_module": "@jupyter-widgets/controls",
            "_view_module_version": "1.5.0",
            "_view_name": "HBoxView",
            "box_style": "",
            "children": [
              "IPY_MODEL_4c7880bcb55d4bc2acaa425e968df901",
              "IPY_MODEL_65b7261f506547fd89bb31f2d5f03855",
              "IPY_MODEL_34e75810a17842fab1b34176261a9f84"
            ],
            "layout": "IPY_MODEL_bfe8fe1e263d470c89f86a566ff5c60d"
          }
        },
        "7176c179c2544c1f90d8595ae64b6911": {
          "model_module": "@jupyter-widgets/controls",
          "model_module_version": "1.5.0",
          "model_name": "HBoxModel",
          "state": {
            "_dom_classes": [],
            "_model_module": "@jupyter-widgets/controls",
            "_model_module_version": "1.5.0",
            "_model_name": "HBoxModel",
            "_view_count": null,
            "_view_module": "@jupyter-widgets/controls",
            "_view_module_version": "1.5.0",
            "_view_name": "HBoxView",
            "box_style": "",
            "children": [
              "IPY_MODEL_eb9d3199cc44403fadca825ce54ba9c7",
              "IPY_MODEL_d82f5cedda4442d2abdecf78fb6b89dc",
              "IPY_MODEL_5cd90fd90e7b4cf5a2bd4383602b3327"
            ],
            "layout": "IPY_MODEL_22b4a12a22934259b5ab6e2733ee49a3"
          }
        },
        "7b2a4c05237f432b9a16a1299d192a6d": {
          "model_module": "@jupyter-widgets/controls",
          "model_module_version": "1.5.0",
          "model_name": "FloatProgressModel",
          "state": {
            "_dom_classes": [],
            "_model_module": "@jupyter-widgets/controls",
            "_model_module_version": "1.5.0",
            "_model_name": "FloatProgressModel",
            "_view_count": null,
            "_view_module": "@jupyter-widgets/controls",
            "_view_module_version": "1.5.0",
            "_view_name": "ProgressView",
            "bar_style": "success",
            "description": "",
            "description_tooltip": null,
            "layout": "IPY_MODEL_c9368c86f1b34a42b8cfb71a7fb21090",
            "max": 29,
            "min": 0,
            "orientation": "horizontal",
            "style": "IPY_MODEL_f71b710adbba40f3ae650a0158f94217",
            "value": 29
          }
        },
        "856752bf27e346c3890fa3eb114f4312": {
          "model_module": "@jupyter-widgets/base",
          "model_module_version": "1.2.0",
          "model_name": "LayoutModel",
          "state": {
            "_model_module": "@jupyter-widgets/base",
            "_model_module_version": "1.2.0",
            "_model_name": "LayoutModel",
            "_view_count": null,
            "_view_module": "@jupyter-widgets/base",
            "_view_module_version": "1.2.0",
            "_view_name": "LayoutView",
            "align_content": null,
            "align_items": null,
            "align_self": null,
            "border": null,
            "bottom": null,
            "display": null,
            "flex": null,
            "flex_flow": null,
            "grid_area": null,
            "grid_auto_columns": null,
            "grid_auto_flow": null,
            "grid_auto_rows": null,
            "grid_column": null,
            "grid_gap": null,
            "grid_row": null,
            "grid_template_areas": null,
            "grid_template_columns": null,
            "grid_template_rows": null,
            "height": null,
            "justify_content": null,
            "justify_items": null,
            "left": null,
            "margin": null,
            "max_height": null,
            "max_width": null,
            "min_height": null,
            "min_width": null,
            "object_fit": null,
            "object_position": null,
            "order": null,
            "overflow": null,
            "overflow_x": null,
            "overflow_y": null,
            "padding": null,
            "right": null,
            "top": null,
            "visibility": null,
            "width": null
          }
        },
        "8baa47029fc2437c9f02f388ac51d931": {
          "model_module": "@jupyter-widgets/controls",
          "model_module_version": "1.5.0",
          "model_name": "ProgressStyleModel",
          "state": {
            "_model_module": "@jupyter-widgets/controls",
            "_model_module_version": "1.5.0",
            "_model_name": "ProgressStyleModel",
            "_view_count": null,
            "_view_module": "@jupyter-widgets/base",
            "_view_module_version": "1.2.0",
            "_view_name": "StyleView",
            "bar_color": null,
            "description_width": ""
          }
        },
        "8cbe10aa28dc4b81a8a9163b276c9486": {
          "model_module": "@jupyter-widgets/controls",
          "model_module_version": "1.5.0",
          "model_name": "FloatProgressModel",
          "state": {
            "_dom_classes": [],
            "_model_module": "@jupyter-widgets/controls",
            "_model_module_version": "1.5.0",
            "_model_name": "FloatProgressModel",
            "_view_count": null,
            "_view_module": "@jupyter-widgets/controls",
            "_view_module_version": "1.5.0",
            "_view_name": "ProgressView",
            "bar_style": "success",
            "description": "",
            "description_tooltip": null,
            "layout": "IPY_MODEL_e0e9a0f4bb5a444e9c5299656e932fc1",
            "max": 570,
            "min": 0,
            "orientation": "horizontal",
            "style": "IPY_MODEL_5fb3b43304fb42b589d4a74c57f227e2",
            "value": 570
          }
        },
        "9b575196f8994a938793ca404fcf07b8": {
          "model_module": "@jupyter-widgets/base",
          "model_module_version": "1.2.0",
          "model_name": "LayoutModel",
          "state": {
            "_model_module": "@jupyter-widgets/base",
            "_model_module_version": "1.2.0",
            "_model_name": "LayoutModel",
            "_view_count": null,
            "_view_module": "@jupyter-widgets/base",
            "_view_module_version": "1.2.0",
            "_view_name": "LayoutView",
            "align_content": null,
            "align_items": null,
            "align_self": null,
            "border": null,
            "bottom": null,
            "display": null,
            "flex": null,
            "flex_flow": null,
            "grid_area": null,
            "grid_auto_columns": null,
            "grid_auto_flow": null,
            "grid_auto_rows": null,
            "grid_column": null,
            "grid_gap": null,
            "grid_row": null,
            "grid_template_areas": null,
            "grid_template_columns": null,
            "grid_template_rows": null,
            "height": null,
            "justify_content": null,
            "justify_items": null,
            "left": null,
            "margin": null,
            "max_height": null,
            "max_width": null,
            "min_height": null,
            "min_width": null,
            "object_fit": null,
            "object_position": null,
            "order": null,
            "overflow": null,
            "overflow_x": null,
            "overflow_y": null,
            "padding": null,
            "right": null,
            "top": null,
            "visibility": null,
            "width": null
          }
        },
        "a19cb9558381428ab77151b832aa1ef0": {
          "model_module": "@jupyter-widgets/base",
          "model_module_version": "1.2.0",
          "model_name": "LayoutModel",
          "state": {
            "_model_module": "@jupyter-widgets/base",
            "_model_module_version": "1.2.0",
            "_model_name": "LayoutModel",
            "_view_count": null,
            "_view_module": "@jupyter-widgets/base",
            "_view_module_version": "1.2.0",
            "_view_name": "LayoutView",
            "align_content": null,
            "align_items": null,
            "align_self": null,
            "border": null,
            "bottom": null,
            "display": null,
            "flex": null,
            "flex_flow": null,
            "grid_area": null,
            "grid_auto_columns": null,
            "grid_auto_flow": null,
            "grid_auto_rows": null,
            "grid_column": null,
            "grid_gap": null,
            "grid_row": null,
            "grid_template_areas": null,
            "grid_template_columns": null,
            "grid_template_rows": null,
            "height": null,
            "justify_content": null,
            "justify_items": null,
            "left": null,
            "margin": null,
            "max_height": null,
            "max_width": null,
            "min_height": null,
            "min_width": null,
            "object_fit": null,
            "object_position": null,
            "order": null,
            "overflow": null,
            "overflow_x": null,
            "overflow_y": null,
            "padding": null,
            "right": null,
            "top": null,
            "visibility": null,
            "width": null
          }
        },
        "ae1a237cb330431985a918d31dae1a11": {
          "model_module": "@jupyter-widgets/controls",
          "model_module_version": "1.5.0",
          "model_name": "ProgressStyleModel",
          "state": {
            "_model_module": "@jupyter-widgets/controls",
            "_model_module_version": "1.5.0",
            "_model_name": "ProgressStyleModel",
            "_view_count": null,
            "_view_module": "@jupyter-widgets/base",
            "_view_module_version": "1.2.0",
            "_view_name": "StyleView",
            "bar_color": null,
            "description_width": ""
          }
        },
        "aff5731eafd04d61ba5cb2344bb84060": {
          "model_module": "@jupyter-widgets/base",
          "model_module_version": "1.2.0",
          "model_name": "LayoutModel",
          "state": {
            "_model_module": "@jupyter-widgets/base",
            "_model_module_version": "1.2.0",
            "_model_name": "LayoutModel",
            "_view_count": null,
            "_view_module": "@jupyter-widgets/base",
            "_view_module_version": "1.2.0",
            "_view_name": "LayoutView",
            "align_content": null,
            "align_items": null,
            "align_self": null,
            "border": null,
            "bottom": null,
            "display": null,
            "flex": null,
            "flex_flow": null,
            "grid_area": null,
            "grid_auto_columns": null,
            "grid_auto_flow": null,
            "grid_auto_rows": null,
            "grid_column": null,
            "grid_gap": null,
            "grid_row": null,
            "grid_template_areas": null,
            "grid_template_columns": null,
            "grid_template_rows": null,
            "height": null,
            "justify_content": null,
            "justify_items": null,
            "left": null,
            "margin": null,
            "max_height": null,
            "max_width": null,
            "min_height": null,
            "min_width": null,
            "object_fit": null,
            "object_position": null,
            "order": null,
            "overflow": null,
            "overflow_x": null,
            "overflow_y": null,
            "padding": null,
            "right": null,
            "top": null,
            "visibility": null,
            "width": null
          }
        },
        "bfe8fe1e263d470c89f86a566ff5c60d": {
          "model_module": "@jupyter-widgets/base",
          "model_module_version": "1.2.0",
          "model_name": "LayoutModel",
          "state": {
            "_model_module": "@jupyter-widgets/base",
            "_model_module_version": "1.2.0",
            "_model_name": "LayoutModel",
            "_view_count": null,
            "_view_module": "@jupyter-widgets/base",
            "_view_module_version": "1.2.0",
            "_view_name": "LayoutView",
            "align_content": null,
            "align_items": null,
            "align_self": null,
            "border": null,
            "bottom": null,
            "display": null,
            "flex": null,
            "flex_flow": null,
            "grid_area": null,
            "grid_auto_columns": null,
            "grid_auto_flow": null,
            "grid_auto_rows": null,
            "grid_column": null,
            "grid_gap": null,
            "grid_row": null,
            "grid_template_areas": null,
            "grid_template_columns": null,
            "grid_template_rows": null,
            "height": null,
            "justify_content": null,
            "justify_items": null,
            "left": null,
            "margin": null,
            "max_height": null,
            "max_width": null,
            "min_height": null,
            "min_width": null,
            "object_fit": null,
            "object_position": null,
            "order": null,
            "overflow": null,
            "overflow_x": null,
            "overflow_y": null,
            "padding": null,
            "right": null,
            "top": null,
            "visibility": null,
            "width": null
          }
        },
        "c9368c86f1b34a42b8cfb71a7fb21090": {
          "model_module": "@jupyter-widgets/base",
          "model_module_version": "1.2.0",
          "model_name": "LayoutModel",
          "state": {
            "_model_module": "@jupyter-widgets/base",
            "_model_module_version": "1.2.0",
            "_model_name": "LayoutModel",
            "_view_count": null,
            "_view_module": "@jupyter-widgets/base",
            "_view_module_version": "1.2.0",
            "_view_name": "LayoutView",
            "align_content": null,
            "align_items": null,
            "align_self": null,
            "border": null,
            "bottom": null,
            "display": null,
            "flex": null,
            "flex_flow": null,
            "grid_area": null,
            "grid_auto_columns": null,
            "grid_auto_flow": null,
            "grid_auto_rows": null,
            "grid_column": null,
            "grid_gap": null,
            "grid_row": null,
            "grid_template_areas": null,
            "grid_template_columns": null,
            "grid_template_rows": null,
            "height": null,
            "justify_content": null,
            "justify_items": null,
            "left": null,
            "margin": null,
            "max_height": null,
            "max_width": null,
            "min_height": null,
            "min_width": null,
            "object_fit": null,
            "object_position": null,
            "order": null,
            "overflow": null,
            "overflow_x": null,
            "overflow_y": null,
            "padding": null,
            "right": null,
            "top": null,
            "visibility": null,
            "width": null
          }
        },
        "cbfaf8f83224463ebe375071f391d840": {
          "model_module": "@jupyter-widgets/controls",
          "model_module_version": "1.5.0",
          "model_name": "HBoxModel",
          "state": {
            "_dom_classes": [],
            "_model_module": "@jupyter-widgets/controls",
            "_model_module_version": "1.5.0",
            "_model_name": "HBoxModel",
            "_view_count": null,
            "_view_module": "@jupyter-widgets/controls",
            "_view_module_version": "1.5.0",
            "_view_name": "HBoxView",
            "box_style": "",
            "children": [
              "IPY_MODEL_17a9bae4ba6b4ea1a32f33e45cec64f8",
              "IPY_MODEL_7b2a4c05237f432b9a16a1299d192a6d",
              "IPY_MODEL_37991897796f4bbcb5b3ee78a1710b60"
            ],
            "layout": "IPY_MODEL_0ac9dfc2fce94fb182224705902fa400"
          }
        },
        "d00951f2c39141b5b41ebe666d7ed672": {
          "model_module": "@jupyter-widgets/base",
          "model_module_version": "1.2.0",
          "model_name": "LayoutModel",
          "state": {
            "_model_module": "@jupyter-widgets/base",
            "_model_module_version": "1.2.0",
            "_model_name": "LayoutModel",
            "_view_count": null,
            "_view_module": "@jupyter-widgets/base",
            "_view_module_version": "1.2.0",
            "_view_name": "LayoutView",
            "align_content": null,
            "align_items": null,
            "align_self": null,
            "border": null,
            "bottom": null,
            "display": null,
            "flex": null,
            "flex_flow": null,
            "grid_area": null,
            "grid_auto_columns": null,
            "grid_auto_flow": null,
            "grid_auto_rows": null,
            "grid_column": null,
            "grid_gap": null,
            "grid_row": null,
            "grid_template_areas": null,
            "grid_template_columns": null,
            "grid_template_rows": null,
            "height": null,
            "justify_content": null,
            "justify_items": null,
            "left": null,
            "margin": null,
            "max_height": null,
            "max_width": null,
            "min_height": null,
            "min_width": null,
            "object_fit": null,
            "object_position": null,
            "order": null,
            "overflow": null,
            "overflow_x": null,
            "overflow_y": null,
            "padding": null,
            "right": null,
            "top": null,
            "visibility": null,
            "width": null
          }
        },
        "d7b5e92dffd840feb9aca6ed35cecdc1": {
          "model_module": "@jupyter-widgets/controls",
          "model_module_version": "1.5.0",
          "model_name": "DescriptionStyleModel",
          "state": {
            "_model_module": "@jupyter-widgets/controls",
            "_model_module_version": "1.5.0",
            "_model_name": "DescriptionStyleModel",
            "_view_count": null,
            "_view_module": "@jupyter-widgets/base",
            "_view_module_version": "1.2.0",
            "_view_name": "StyleView",
            "description_width": ""
          }
        },
        "d82f5cedda4442d2abdecf78fb6b89dc": {
          "model_module": "@jupyter-widgets/controls",
          "model_module_version": "1.5.0",
          "model_name": "FloatProgressModel",
          "state": {
            "_dom_classes": [],
            "_model_module": "@jupyter-widgets/controls",
            "_model_module_version": "1.5.0",
            "_model_name": "FloatProgressModel",
            "_view_count": null,
            "_view_module": "@jupyter-widgets/controls",
            "_view_module_version": "1.5.0",
            "_view_name": "ProgressView",
            "bar_style": "success",
            "description": "",
            "description_tooltip": null,
            "layout": "IPY_MODEL_d00951f2c39141b5b41ebe666d7ed672",
            "max": 213450,
            "min": 0,
            "orientation": "horizontal",
            "style": "IPY_MODEL_8baa47029fc2437c9f02f388ac51d931",
            "value": 213450
          }
        },
        "e0e9a0f4bb5a444e9c5299656e932fc1": {
          "model_module": "@jupyter-widgets/base",
          "model_module_version": "1.2.0",
          "model_name": "LayoutModel",
          "state": {
            "_model_module": "@jupyter-widgets/base",
            "_model_module_version": "1.2.0",
            "_model_name": "LayoutModel",
            "_view_count": null,
            "_view_module": "@jupyter-widgets/base",
            "_view_module_version": "1.2.0",
            "_view_name": "LayoutView",
            "align_content": null,
            "align_items": null,
            "align_self": null,
            "border": null,
            "bottom": null,
            "display": null,
            "flex": null,
            "flex_flow": null,
            "grid_area": null,
            "grid_auto_columns": null,
            "grid_auto_flow": null,
            "grid_auto_rows": null,
            "grid_column": null,
            "grid_gap": null,
            "grid_row": null,
            "grid_template_areas": null,
            "grid_template_columns": null,
            "grid_template_rows": null,
            "height": null,
            "justify_content": null,
            "justify_items": null,
            "left": null,
            "margin": null,
            "max_height": null,
            "max_width": null,
            "min_height": null,
            "min_width": null,
            "object_fit": null,
            "object_position": null,
            "order": null,
            "overflow": null,
            "overflow_x": null,
            "overflow_y": null,
            "padding": null,
            "right": null,
            "top": null,
            "visibility": null,
            "width": null
          }
        },
        "e393026919174e6e9e51fa36d678c57f": {
          "model_module": "@jupyter-widgets/controls",
          "model_module_version": "1.5.0",
          "model_name": "DescriptionStyleModel",
          "state": {
            "_model_module": "@jupyter-widgets/controls",
            "_model_module_version": "1.5.0",
            "_model_name": "DescriptionStyleModel",
            "_view_count": null,
            "_view_module": "@jupyter-widgets/base",
            "_view_module_version": "1.2.0",
            "_view_name": "StyleView",
            "description_width": ""
          }
        },
        "eb9d3199cc44403fadca825ce54ba9c7": {
          "model_module": "@jupyter-widgets/controls",
          "model_module_version": "1.5.0",
          "model_name": "HTMLModel",
          "state": {
            "_dom_classes": [],
            "_model_module": "@jupyter-widgets/controls",
            "_model_module_version": "1.5.0",
            "_model_name": "HTMLModel",
            "_view_count": null,
            "_view_module": "@jupyter-widgets/controls",
            "_view_module_version": "1.5.0",
            "_view_name": "HTMLView",
            "description": "",
            "description_tooltip": null,
            "layout": "IPY_MODEL_49003665fa584055bdbaceec416f031c",
            "placeholder": "​",
            "style": "IPY_MODEL_3aab9c9a3679469792587f9381c87c1e",
            "value": "Downloading (…)solve/main/vocab.txt: 100%"
          }
        },
        "efc88785df8848efa4242f5af022b0aa": {
          "model_module": "@jupyter-widgets/base",
          "model_module_version": "1.2.0",
          "model_name": "LayoutModel",
          "state": {
            "_model_module": "@jupyter-widgets/base",
            "_model_module_version": "1.2.0",
            "_model_name": "LayoutModel",
            "_view_count": null,
            "_view_module": "@jupyter-widgets/base",
            "_view_module_version": "1.2.0",
            "_view_name": "LayoutView",
            "align_content": null,
            "align_items": null,
            "align_self": null,
            "border": null,
            "bottom": null,
            "display": null,
            "flex": null,
            "flex_flow": null,
            "grid_area": null,
            "grid_auto_columns": null,
            "grid_auto_flow": null,
            "grid_auto_rows": null,
            "grid_column": null,
            "grid_gap": null,
            "grid_row": null,
            "grid_template_areas": null,
            "grid_template_columns": null,
            "grid_template_rows": null,
            "height": null,
            "justify_content": null,
            "justify_items": null,
            "left": null,
            "margin": null,
            "max_height": null,
            "max_width": null,
            "min_height": null,
            "min_width": null,
            "object_fit": null,
            "object_position": null,
            "order": null,
            "overflow": null,
            "overflow_x": null,
            "overflow_y": null,
            "padding": null,
            "right": null,
            "top": null,
            "visibility": null,
            "width": null
          }
        },
        "f71b710adbba40f3ae650a0158f94217": {
          "model_module": "@jupyter-widgets/controls",
          "model_module_version": "1.5.0",
          "model_name": "ProgressStyleModel",
          "state": {
            "_model_module": "@jupyter-widgets/controls",
            "_model_module_version": "1.5.0",
            "_model_name": "ProgressStyleModel",
            "_view_count": null,
            "_view_module": "@jupyter-widgets/base",
            "_view_module_version": "1.2.0",
            "_view_name": "StyleView",
            "bar_color": null,
            "description_width": ""
          }
        },
        "fb17fffda3574592b5396833307ef351": {
          "model_module": "@jupyter-widgets/controls",
          "model_module_version": "1.5.0",
          "model_name": "DescriptionStyleModel",
          "state": {
            "_model_module": "@jupyter-widgets/controls",
            "_model_module_version": "1.5.0",
            "_model_name": "DescriptionStyleModel",
            "_view_count": null,
            "_view_module": "@jupyter-widgets/base",
            "_view_module_version": "1.2.0",
            "_view_name": "StyleView",
            "description_width": ""
          }
        }
      }
    }
  },
  "nbformat": 4,
  "nbformat_minor": 0
}
