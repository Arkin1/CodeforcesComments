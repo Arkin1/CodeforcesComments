{
 "cells": [
  {
   "cell_type": "code",
   "execution_count": 2,
   "metadata": {},
   "outputs": [],
   "source": [
    "import pandas as pd\n",
    "import re\n",
    "from bs4 import BeautifulSoup\n",
    "from collections import OrderedDict\n",
    "WORKING_DIR = '.'\n",
    "\n",
    "dataset_educ = pd.read_json(f'{WORKING_DIR}/Dataset_educ_1.1.json', orient = 'index')\n",
    "dataset_div = pd.read_json(f'{WORKING_DIR}/Dataset_div2_final.json', orient = 'index')\n",
    "\n",
    "\n",
    "educ_rounds = list(OrderedDict.fromkeys([re.search(r'(blog/entry/[0-9]+)', idx).groups()[0] for idx in dataset_educ.index]))\n",
    "div_rounds = list(OrderedDict.fromkeys([re.search(r'(blog/entry/[0-9]+)', idx).groups()[0] for idx in dataset_div.index]))"
   ]
  },
  {
   "cell_type": "code",
   "execution_count": 3,
   "metadata": {},
   "outputs": [],
   "source": [
    "import numpy as np\n",
    "import random\n",
    "RANDOM_SEED = 443\n",
    "DEVICE = \"cuda\"\n",
    "\n",
    "np.random.seed(RANDOM_SEED)\n",
    "random.seed(RANDOM_SEED)\n",
    "\n",
    "groups = list(dataset_educ.groupby(lambda k : k.split(\"?\")[0]))\n",
    "random.shuffle(groups)\n",
    "\n",
    "train_groups = groups[:10]\n",
    "validation_groups = groups[10:13]\n",
    "test_groups = groups[13:]\n",
    "\n",
    "div_groups = list(dataset_div.groupby(lambda k : k.split(\"?\")[0]))\n"
   ]
  },
  {
   "cell_type": "code",
   "execution_count": 66,
   "metadata": {},
   "outputs": [
    {
     "name": "stdout",
     "output_type": "stream",
     "text": [
      "Total comments: 160\n",
      "Missing comments: 24\n",
      "Extra comments: 0\n",
      "              precision    recall  f1-score   support\n",
      "\n",
      "  Irrelevant       0.93      0.46      0.62        61\n",
      "    Relevant       0.69      0.97      0.81        75\n",
      "\n",
      "    accuracy                           0.74       136\n",
      "   macro avg       0.81      0.72      0.71       136\n",
      "weighted avg       0.80      0.74      0.72       136\n",
      "\n"
     ]
    }
   ],
   "source": [
    "import re\n",
    "from sklearn.metrics import classification_report\n",
    "##Testing educ rounds with reframe\n",
    "predicted_labels = {}\n",
    "truth_labels = {}\n",
    "\n",
    "for idx, round in enumerate(test_groups):\n",
    "    round_df = round[1]\n",
    "\n",
    "    for _, comment in round_df.iterrows():\n",
    "        truth_labels[comment.id] = comment.label\n",
    "\n",
    "    chatgpt_conversation = ''\n",
    "\n",
    "    with open(f'conversations/educ/{idx}.txt', 'r', encoding='utf-8', errors='ignore') as fp:\n",
    "        chatgpt_conversation = fp.read()\n",
    "        chatgpt_conversation = chatgpt_conversation.split('|^_^|')\n",
    "    \n",
    "    #skip first comment\n",
    "    chatgpt_conversation = chatgpt_conversation[1:]\n",
    "\n",
    "    for comment in chatgpt_conversation:\n",
    "        if(\"prompt: %rule%\" in comment):\n",
    "           response = comment.split(\"response:\")[1]\n",
    "           \n",
    "           found = re.findall(r'\\(+-*[0-9]+,[\\s\\(]+([0-9]+)\\)+ => (.*)', response)\n",
    "\n",
    "           for found_id, found_label in found:\n",
    "               predicted_labels[int(found_id)] = found_label\n",
    "\n",
    "print(f\"Total comments: {len(truth_labels)}\")\n",
    "print(f\"Missing comments: {len(set(truth_labels.keys()) - set(predicted_labels.keys()))}\")\n",
    "print(f\"Extra comments: {len(set(predicted_labels.keys()) - set(truth_labels.keys()))}\")\n",
    "\n",
    "common_comment_ids = list(set(truth_labels.keys()).intersection(set(predicted_labels.keys())))\n",
    "\n",
    "common_predicted_labels = [predicted_labels[id] if predicted_labels[id] == 'Irrelevant' else 'Relevant' for id in common_comment_ids]\n",
    "common_truth_labels = [truth_labels[id] if truth_labels[id] == 'Irrelevant' else 'Relevant' for id in common_comment_ids]\n",
    "\n",
    "print(classification_report(common_truth_labels, common_predicted_labels))"
   ]
  },
  {
   "cell_type": "code",
   "execution_count": 67,
   "metadata": {},
   "outputs": [
    {
     "name": "stdout",
     "output_type": "stream",
     "text": [
      "Total comments: 664\n",
      "Missing comments: 26\n",
      "Extra comments: 0\n",
      "              precision    recall  f1-score   support\n",
      "\n",
      "  Irrelevant       0.97      0.31      0.47       452\n",
      "    Relevant       0.37      0.98      0.54       186\n",
      "\n",
      "    accuracy                           0.51       638\n",
      "   macro avg       0.67      0.65      0.51       638\n",
      "weighted avg       0.80      0.51      0.49       638\n",
      "\n"
     ]
    }
   ],
   "source": [
    "for idx, round in enumerate(div_groups):\n",
    "    round_df = round[1]\n",
    "\n",
    "    for _, comment in round_df.iterrows():\n",
    "        truth_labels[comment.id] = comment.label\n",
    "\n",
    "    chatgpt_conversation = ''\n",
    "\n",
    "    with open(f'conversations/div/{idx}.txt', 'r', encoding='utf-8', errors='ignore') as fp:\n",
    "        chatgpt_conversation = fp.read()\n",
    "        chatgpt_conversation = chatgpt_conversation.split('|^_^|')\n",
    "    \n",
    "    #skip first comment\n",
    "    chatgpt_conversation = chatgpt_conversation[1:]\n",
    "\n",
    "    for comment in chatgpt_conversation:\n",
    "        if(\"prompt: %rule%\" in comment):\n",
    "           response = comment.split(\"response:\")[1]\n",
    "           \n",
    "           found = re.findall(r'\\(+-*[0-9]+,[\\s\\(]+([0-9]+)\\)+ => (.*)', response)\n",
    "\n",
    "           for found_id, found_label in found:\n",
    "               predicted_labels[int(found_id)] = found_label\n",
    "\n",
    "print(f\"Total comments: {len(truth_labels)}\")\n",
    "print(f\"Missing comments: {len(set(truth_labels.keys()) - set(predicted_labels.keys()))}\")\n",
    "print(f\"Extra comments: {len(set(predicted_labels.keys()) - set(truth_labels.keys()))}\")\n",
    "\n",
    "common_comment_ids = list(set(truth_labels.keys()).intersection(set(predicted_labels.keys())))\n",
    "\n",
    "common_predicted_labels = [predicted_labels[id] if predicted_labels[id] == 'Irrelevant' else 'Relevant' for id in common_comment_ids]\n",
    "common_truth_labels = [truth_labels[id] if truth_labels[id] == 'Irrelevant' else 'Relevant' for id in common_comment_ids]\n",
    "\n",
    "print(classification_report(common_truth_labels, common_predicted_labels))"
   ]
  }
 ],
 "metadata": {
  "kernelspec": {
   "display_name": "venv",
   "language": "python",
   "name": "python3"
  },
  "language_info": {
   "codemirror_mode": {
    "name": "ipython",
    "version": 3
   },
   "file_extension": ".py",
   "mimetype": "text/x-python",
   "name": "python",
   "nbconvert_exporter": "python",
   "pygments_lexer": "ipython3",
   "version": "3.9.10"
  },
  "orig_nbformat": 4
 },
 "nbformat": 4,
 "nbformat_minor": 2
}
