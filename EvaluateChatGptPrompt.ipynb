{
 "cells": [
  {
   "cell_type": "code",
   "execution_count": 4,
   "metadata": {},
   "outputs": [],
   "source": [
    "import pandas as pd\n",
    "import re\n",
    "from bs4 import BeautifulSoup\n",
    "from collections import OrderedDict\n",
    "WORKING_DIR = '.'\n",
    "\n",
    "dataset_educ = pd.read_json(f'{WORKING_DIR}/Dataset_educ_1.1.json', orient = 'index')\n",
    "dataset_div = pd.read_json(f'{WORKING_DIR}/Dataset_div2_final.json', orient = 'index')"
   ]
  },
  {
   "cell_type": "code",
   "execution_count": 5,
   "metadata": {},
   "outputs": [],
   "source": [
    "import re\n",
    "from sklearn.metrics import classification_report\n",
    "import os\n",
    "import difflib\n",
    "\n",
    "all_labels = ['SolutionExp', 'HintExp', 'AlgoExp','TimeComExp', 'FixingExp', 'TestExp', 'QuestionExp', 'SubQuestion', 'TestQuestion', 'Irrelevant']\n",
    "\n",
    "def print_result(type_tree, round_type):\n",
    "    predicted_labels = {}\n",
    "    truth_labels = {}\n",
    "\n",
    "    for root, folders, files in os.walk(f'prompt_generation/{round_type}'):\n",
    "        if(len(files) > 0):\n",
    "            round_id = root.split('\\\\')[-1]\n",
    "            for f in files:\n",
    "                if(f.endswith('output.txt')):\n",
    "                    with open(f\"{root}/{f}\", \"r\") as fp:\n",
    "                        output_text = fp.read()\n",
    "                    with open(f\"chatgpt_predictions/{type_tree}/{round_type}/{round_id}/{f.split('_')[0] + '_prediction.txt'}\", \"r\") as fp:\n",
    "                        prediction_text = fp.read()\n",
    "                \n",
    "                    for comment in output_text.split('[<<<new_com>>>]')[:-1]:\n",
    "                        comment_id = re.findall(r'\\(+-*[0-9]+,[\\s]\\(*([0-9]+)\\)+', comment)[0]\n",
    "                        label = re.findall('|'.join(all_labels), comment)[0]\n",
    "\n",
    "                        truth_labels[comment_id] = label\n",
    "\n",
    "                    for comment in prediction_text.split('[<<<new_com>>>]')[:-1]:\n",
    "                        comment_id = re.findall(r'\\(+-*[0-9]+,[\\s]\\(*([0-9]+)\\)+', comment)\n",
    "                        if(len(comment_id) == 0):\n",
    "                            continue\n",
    "                        label = comment.split('<<===>>')[1]\n",
    "                        label = difflib.get_close_matches(label, all_labels, n=1, cutoff=0)[0]\n",
    "                        predicted_labels[comment_id] = label\n",
    "                        \n",
    "    print(f\"Total comments: {len(truth_labels)}\")\n",
    "    print(f\"Missing comments: {len(set(truth_labels.keys()) - set(predicted_labels.keys()))}\")\n",
    "    print(f\"Extra comments: {len(set(predicted_labels.keys()) - set(truth_labels.keys()))}\")\n",
    "    common_comment_ids = list(set(truth_labels.keys()).intersection(set(predicted_labels.keys())))\n",
    "\n",
    "    common_predicted_labels = [predicted_labels[id] if predicted_labels[id] == 'Irrelevant' else 'Relevant' for id in common_comment_ids]\n",
    "    common_truth_labels = [truth_labels[id] if truth_labels[id] == 'Irrelevant' else 'Relevant' for id in common_comment_ids]\n",
    "\n",
    "    print(classification_report(common_truth_labels, common_predicted_labels))\n",
    "# predicted_labels = ['Relevant' if l!= 'Irrelevant' else l for l in predicted_labels]\n",
    "# truth_labels = ['Relevant' if l!= 'Irrelevant' else l for l in truth_labels]\n",
    "# print(classification_report(truth_labels, predicted_labels))"
   ]
  },
  {
   "cell_type": "code",
   "execution_count": 6,
   "metadata": {},
   "outputs": [
    {
     "name": "stdout",
     "output_type": "stream",
     "text": [
      "Total comments: 160\n",
      "Missing comments: 0\n",
      "Extra comments: 0\n",
      "              precision    recall  f1-score   support\n",
      "\n",
      "  Irrelevant       0.85      0.54      0.66        74\n",
      "    Relevant       0.70      0.92      0.79        86\n",
      "\n",
      "    accuracy                           0.74       160\n",
      "   macro avg       0.78      0.73      0.73       160\n",
      "weighted avg       0.77      0.74      0.73       160\n",
      "\n"
     ]
    }
   ],
   "source": [
    "print_result('no_tree', 'educ/test')"
   ]
  },
  {
   "cell_type": "code",
   "execution_count": 7,
   "metadata": {},
   "outputs": [
    {
     "name": "stdout",
     "output_type": "stream",
     "text": [
      "Total comments: 504\n",
      "Missing comments: 0\n",
      "Extra comments: 0\n",
      "              precision    recall  f1-score   support\n",
      "\n",
      "  Irrelevant       0.98      0.60      0.74       393\n",
      "    Relevant       0.40      0.95      0.56       111\n",
      "\n",
      "    accuracy                           0.67       504\n",
      "   macro avg       0.69      0.78      0.65       504\n",
      "weighted avg       0.85      0.67      0.70       504\n",
      "\n"
     ]
    }
   ],
   "source": [
    "print_result('no_tree', 'div')"
   ]
  },
  {
   "cell_type": "code",
   "execution_count": 8,
   "metadata": {},
   "outputs": [
    {
     "name": "stdout",
     "output_type": "stream",
     "text": [
      "Total comments: 160\n",
      "Missing comments: 0\n",
      "Extra comments: 0\n",
      "              precision    recall  f1-score   support\n",
      "\n",
      "  Irrelevant       0.97      0.47      0.64        74\n",
      "    Relevant       0.69      0.99      0.81        86\n",
      "\n",
      "    accuracy                           0.75       160\n",
      "   macro avg       0.83      0.73      0.72       160\n",
      "weighted avg       0.82      0.75      0.73       160\n",
      "\n"
     ]
    }
   ],
   "source": [
    "print_result('tree', 'educ/test')"
   ]
  },
  {
   "cell_type": "code",
   "execution_count": 9,
   "metadata": {},
   "outputs": [
    {
     "ename": "IndexError",
     "evalue": "list index out of range",
     "output_type": "error",
     "traceback": [
      "\u001b[1;31m---------------------------------------------------------------------------\u001b[0m",
      "\u001b[1;31mIndexError\u001b[0m                                Traceback (most recent call last)",
      "\u001b[1;32mc:\\Projects\\Doctorat\\CodeforcesComments\\EvaluateChatGptPrompt.ipynb Cell 6\u001b[0m line \u001b[0;36m1\n\u001b[1;32m----> <a href='vscode-notebook-cell:/c%3A/Projects/Doctorat/CodeforcesComments/EvaluateChatGptPrompt.ipynb#W5sZmlsZQ%3D%3D?line=0'>1</a>\u001b[0m print_result(\u001b[39m'\u001b[39;49m\u001b[39mtree\u001b[39;49m\u001b[39m'\u001b[39;49m, \u001b[39m'\u001b[39;49m\u001b[39mdiv\u001b[39;49m\u001b[39m'\u001b[39;49m)\n",
      "\u001b[1;32mc:\\Projects\\Doctorat\\CodeforcesComments\\EvaluateChatGptPrompt.ipynb Cell 6\u001b[0m line \u001b[0;36m2\n\u001b[0;32m     <a href='vscode-notebook-cell:/c%3A/Projects/Doctorat/CodeforcesComments/EvaluateChatGptPrompt.ipynb#W5sZmlsZQ%3D%3D?line=25'>26</a>\u001b[0m     truth_labels[comment_id] \u001b[39m=\u001b[39m label\n\u001b[0;32m     <a href='vscode-notebook-cell:/c%3A/Projects/Doctorat/CodeforcesComments/EvaluateChatGptPrompt.ipynb#W5sZmlsZQ%3D%3D?line=27'>28</a>\u001b[0m \u001b[39mfor\u001b[39;00m comment \u001b[39min\u001b[39;00m prediction_text\u001b[39m.\u001b[39msplit(\u001b[39m'\u001b[39m\u001b[39m[<<<new_com>>>]\u001b[39m\u001b[39m'\u001b[39m)[:\u001b[39m-\u001b[39m\u001b[39m1\u001b[39m]:\n\u001b[1;32m---> <a href='vscode-notebook-cell:/c%3A/Projects/Doctorat/CodeforcesComments/EvaluateChatGptPrompt.ipynb#W5sZmlsZQ%3D%3D?line=28'>29</a>\u001b[0m     comment_id \u001b[39m=\u001b[39m re\u001b[39m.\u001b[39;49mfindall(\u001b[39mr\u001b[39;49m\u001b[39m'\u001b[39;49m\u001b[39m\\\u001b[39;49m\u001b[39m(+-*[0-9]+,[\u001b[39;49m\u001b[39m\\\u001b[39;49m\u001b[39ms]\u001b[39;49m\u001b[39m\\\u001b[39;49m\u001b[39m(*([0-9]+)\u001b[39;49m\u001b[39m\\\u001b[39;49m\u001b[39m)+\u001b[39;49m\u001b[39m'\u001b[39;49m, comment)[\u001b[39m0\u001b[39;49m]\n\u001b[0;32m     <a href='vscode-notebook-cell:/c%3A/Projects/Doctorat/CodeforcesComments/EvaluateChatGptPrompt.ipynb#W5sZmlsZQ%3D%3D?line=29'>30</a>\u001b[0m     label \u001b[39m=\u001b[39m comment\u001b[39m.\u001b[39msplit(\u001b[39m'\u001b[39m\u001b[39m<<===>>\u001b[39m\u001b[39m'\u001b[39m)[\u001b[39m1\u001b[39m]\n\u001b[0;32m     <a href='vscode-notebook-cell:/c%3A/Projects/Doctorat/CodeforcesComments/EvaluateChatGptPrompt.ipynb#W5sZmlsZQ%3D%3D?line=30'>31</a>\u001b[0m     label \u001b[39m=\u001b[39m difflib\u001b[39m.\u001b[39mget_close_matches(label, all_labels, n\u001b[39m=\u001b[39m\u001b[39m1\u001b[39m, cutoff\u001b[39m=\u001b[39m\u001b[39m0\u001b[39m)[\u001b[39m0\u001b[39m]\n",
      "\u001b[1;31mIndexError\u001b[0m: list index out of range"
     ]
    }
   ],
   "source": [
    "print_result('tree', 'div')"
   ]
  }
 ],
 "metadata": {
  "kernelspec": {
   "display_name": "venv",
   "language": "python",
   "name": "python3"
  },
  "language_info": {
   "codemirror_mode": {
    "name": "ipython",
    "version": 3
   },
   "file_extension": ".py",
   "mimetype": "text/x-python",
   "name": "python",
   "nbconvert_exporter": "python",
   "pygments_lexer": "ipython3",
   "version": "3.9.13"
  },
  "orig_nbformat": 4
 },
 "nbformat": 4,
 "nbformat_minor": 2
}
