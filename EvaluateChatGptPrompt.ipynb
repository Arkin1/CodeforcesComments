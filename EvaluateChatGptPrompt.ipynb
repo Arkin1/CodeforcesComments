{
 "cells": [
  {
   "cell_type": "code",
   "execution_count": 1,
   "metadata": {},
   "outputs": [],
   "source": [
    "import pandas as pd\n",
    "import re\n",
    "from bs4 import BeautifulSoup\n",
    "from collections import OrderedDict\n",
    "WORKING_DIR = '.'\n",
    "\n",
    "dataset_educ = pd.read_json(f'{WORKING_DIR}/Dataset_educ_1.1.json', orient = 'index')\n",
    "dataset_div = pd.read_json(f'{WORKING_DIR}/Dataset_div2_final.json', orient = 'index')"
   ]
  },
  {
   "cell_type": "code",
   "execution_count": 2,
   "metadata": {},
   "outputs": [],
   "source": [
    "import re\n",
    "from sklearn.metrics import classification_report\n",
    "import os\n",
    "import difflib\n",
    "\n",
    "all_labels = ['SolutionExp', 'HintExp', 'AlgoExp','TimeComExp', 'FixingExp', 'TestExp', 'QuestionExp', 'SubQuestion', 'TestQuestion', 'Irrelevant']\n",
    "\n",
    "def print_result(type_tree, round_type):\n",
    "    predicted_labels = {}\n",
    "    truth_labels = {}\n",
    "\n",
    "    for root, folders, files in os.walk(f'prompt_generation/{round_type}'):\n",
    "        if(len(files) > 0):\n",
    "            round_id = root.split('\\\\')[-1]\n",
    "            for f in files:\n",
    "                if(f.endswith('output.txt')):\n",
    "                    with open(f\"{root}/{f}\", \"r\") as fp:\n",
    "                        output_text = fp.read()\n",
    "                    with open(f\"chatgpt_predictions/{type_tree}/{round_type}/{round_id}/{f.split('_')[0] + '_prediction.txt'}\", \"r\") as fp:\n",
    "                        prediction_text = fp.read()\n",
    "                \n",
    "                    for comment in output_text.split('[<<<new_com>>>]')[:-1]:\n",
    "                        comment_id = re.findall(r'\\(+-*[0-9]+,[\\s]\\(*([0-9]+)\\)+', comment)[0]\n",
    "                        label = re.findall('|'.join(all_labels), comment)[0]\n",
    "\n",
    "                        truth_labels[comment_id] = label\n",
    "\n",
    "                    for comment in prediction_text.split('[<<<new_com>>>]')[:-1]:\n",
    "                        comment_id = re.findall(r'\\(+-*[0-9]+,[\\s]\\(*([0-9]+)\\)+', comment)\n",
    "                        if(len(comment_id) == 0):\n",
    "                            continue\n",
    "                        else:\n",
    "                            comment_id = comment_id[0]\n",
    "                        label = comment.split('<<===>>')[1]\n",
    "                        label = difflib.get_close_matches(label, all_labels, n=1, cutoff=0)[0]\n",
    "                        predicted_labels[comment_id] = label\n",
    "                        \n",
    "    print(f\"Total comments: {len(truth_labels)}\")\n",
    "    print(f\"Missing comments: {len(set(truth_labels.keys()) - set(predicted_labels.keys()))}\")\n",
    "    print(f\"Extra comments: {len(set(predicted_labels.keys()) - set(truth_labels.keys()))}\")\n",
    "    common_comment_ids = list(set(truth_labels.keys()).intersection(set(predicted_labels.keys())))\n",
    "\n",
    "    common_predicted_labels = [predicted_labels[id] if predicted_labels[id] == 'Irrelevant' else 'Relevant' for id in common_comment_ids]\n",
    "    common_truth_labels = [truth_labels[id] if truth_labels[id] == 'Irrelevant' else 'Relevant' for id in common_comment_ids]\n",
    "\n",
    "    print(classification_report(common_truth_labels, common_predicted_labels))\n",
    "# predicted_labels = ['Relevant' if l!= 'Irrelevant' else l for l in predicted_labels]\n",
    "# truth_labels = ['Relevant' if l!= 'Irrelevant' else l for l in truth_labels]\n",
    "# print(classification_report(truth_labels, predicted_labels))"
   ]
  },
  {
   "cell_type": "code",
   "execution_count": 3,
   "metadata": {},
   "outputs": [
    {
     "name": "stdout",
     "output_type": "stream",
     "text": [
      "Total comments: 160\n",
      "Missing comments: 0\n",
      "Extra comments: 0\n",
      "              precision    recall  f1-score   support\n",
      "\n",
      "  Irrelevant       0.90      0.59      0.72        74\n",
      "    Relevant       0.73      0.94      0.82        86\n",
      "\n",
      "    accuracy                           0.78       160\n",
      "   macro avg       0.81      0.77      0.77       160\n",
      "weighted avg       0.81      0.78      0.77       160\n",
      "\n"
     ]
    }
   ],
   "source": [
    "print_result('no_tree', 'educ/test')"
   ]
  },
  {
   "cell_type": "code",
   "execution_count": 4,
   "metadata": {},
   "outputs": [
    {
     "name": "stdout",
     "output_type": "stream",
     "text": [
      "Total comments: 504\n",
      "Missing comments: 0\n",
      "Extra comments: 0\n",
      "              precision    recall  f1-score   support\n",
      "\n",
      "  Irrelevant       0.97      0.64      0.77       393\n",
      "    Relevant       0.42      0.94      0.58       111\n",
      "\n",
      "    accuracy                           0.70       504\n",
      "   macro avg       0.70      0.79      0.68       504\n",
      "weighted avg       0.85      0.70      0.73       504\n",
      "\n"
     ]
    }
   ],
   "source": [
    "print_result('no_tree', 'div')"
   ]
  },
  {
   "cell_type": "code",
   "execution_count": 5,
   "metadata": {},
   "outputs": [
    {
     "name": "stdout",
     "output_type": "stream",
     "text": [
      "Total comments: 160\n",
      "Missing comments: 2\n",
      "Extra comments: 2\n",
      "              precision    recall  f1-score   support\n",
      "\n",
      "  Irrelevant       0.91      0.53      0.67        74\n",
      "    Relevant       0.70      0.95      0.80        84\n",
      "\n",
      "    accuracy                           0.75       158\n",
      "   macro avg       0.80      0.74      0.74       158\n",
      "weighted avg       0.79      0.75      0.74       158\n",
      "\n"
     ]
    }
   ],
   "source": [
    "print_result('tree', 'educ/test')"
   ]
  },
  {
   "cell_type": "code",
   "execution_count": 6,
   "metadata": {},
   "outputs": [
    {
     "name": "stdout",
     "output_type": "stream",
     "text": [
      "Total comments: 504\n",
      "Missing comments: 7\n",
      "Extra comments: 2\n",
      "              precision    recall  f1-score   support\n",
      "\n",
      "  Irrelevant       0.99      0.56      0.71       387\n",
      "    Relevant       0.39      0.98      0.55       110\n",
      "\n",
      "    accuracy                           0.65       497\n",
      "   macro avg       0.69      0.77      0.63       497\n",
      "weighted avg       0.86      0.65      0.68       497\n",
      "\n"
     ]
    }
   ],
   "source": [
    "print_result('tree', 'div')"
   ]
  }
 ],
 "metadata": {
  "kernelspec": {
   "display_name": "venv",
   "language": "python",
   "name": "python3"
  },
  "language_info": {
   "codemirror_mode": {
    "name": "ipython",
    "version": 3
   },
   "file_extension": ".py",
   "mimetype": "text/x-python",
   "name": "python",
   "nbconvert_exporter": "python",
   "pygments_lexer": "ipython3",
   "version": "3.9.13"
  },
  "orig_nbformat": 4
 },
 "nbformat": 4,
 "nbformat_minor": 2
}
