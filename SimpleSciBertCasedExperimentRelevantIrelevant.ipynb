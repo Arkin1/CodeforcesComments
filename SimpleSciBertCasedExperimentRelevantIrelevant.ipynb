{
  "cells": [
    {
      "cell_type": "code",
      "execution_count": 1,
      "metadata": {
        "id": "nLMC4Ma1A0WB"
      },
      "outputs": [],
      "source": [
        "import pandas as pd\n",
        "import seaborn as sns\n",
        "import matplotlib.pyplot as pl\n",
        "import re\n",
        "from sklearn.metrics import classification_report\n",
        "import bs4\n",
        "from collections import defaultdict\n",
        "\n",
        "WORKING_DIR='.'\n",
        "DEVICE = 'cuda'"
      ]
    },
    {
      "cell_type": "code",
      "execution_count": 2,
      "metadata": {
        "colab": {
          "base_uri": "https://localhost:8080/"
        },
        "id": "6_qOeq6mA0WD",
        "outputId": "3b45fc60-3038-4252-e46a-00bb0896f3ee"
      },
      "outputs": [],
      "source": [
        "dataset_educ = pd.read_json(f'{WORKING_DIR}/Dataset_educ_1.1.json', orient = 'index')\n",
        "dataset_div = pd.read_json(f'{WORKING_DIR}/Dataset_div2_final.json', orient = 'index')"
      ]
    },
    {
      "cell_type": "code",
      "execution_count": 3,
      "metadata": {},
      "outputs": [],
      "source": [
        "regex_link_ful = re.compile('<a href.*\\/contest/.*/submission/.*<\\/a>')\n",
        "code_regex = re.compile('<code>(\\s|.)*?<\\/code>')\n",
        "def preprocess_for_transfomers(texts, problems):\n",
        "  preprocessed_texts = []\n",
        "  for t, p in zip(texts, problems):\n",
        "    t_codes = code_regex.sub(' (code) ', t)\n",
        "    t_link = regex_link_ful.sub(f' (link to problem {p}) ', t_codes)\n",
        "    bs = bs4.BeautifulSoup(t_link)\n",
        "    preprocessed_texts.append(bs.text)\n",
        "  \n",
        "  return preprocessed_texts\n",
        "\n",
        "dataset_educ.loc[~(dataset_educ['label'] == 'Irrelevant'), 'label'] = 'Relevant'\n",
        "preprocessed_text = preprocess_for_transfomers(dataset_educ['text'], dataset_educ['problem'])\n",
        "dataset_educ[\"preprocessed_text\"] = preprocessed_text\n",
        "\n",
        "dataset_div.loc[~(dataset_div['label'] == 'Irrelevant'), 'label'] = 'Relevant'\n",
        "preprocessed_text = preprocess_for_transfomers(dataset_div['text'], dataset_div['problem'])\n",
        "dataset_div[\"preprocessed_text\"] = preprocessed_text"
      ]
    },
    {
      "cell_type": "code",
      "execution_count": 4,
      "metadata": {
        "id": "dEOMDxDycWP9"
      },
      "outputs": [],
      "source": [
        "TREE_FATHER_PATH_LENGTH = 3\n",
        "\n",
        "def compute_father_indices_pd(df):\n",
        "  father_tree = {}\n",
        "\n",
        "  for _,com in df.iterrows():\n",
        "    father_tree[com.id] = com.father_id\n",
        "\n",
        "  comment_father_indices = {}\n",
        "\n",
        "  for df_index,com in df.iterrows():\n",
        "      indices = []\n",
        "      last_ind = com.id\n",
        "      for i in range(TREE_FATHER_PATH_LENGTH):\n",
        "        if(father_tree[last_ind] not in father_tree):\n",
        "          indices.append(-1)\n",
        "          continue\n",
        "        if(last_ind != -1):\n",
        "          last_ind = father_tree[last_ind]\n",
        "        \n",
        "        if(last_ind != -1):\n",
        "          indices.append(df[df.id == last_ind].index.values[0])\n",
        "        else:\n",
        "          indices.append(last_ind)\n",
        "      indices.reverse()\n",
        "      comment_father_indices[df_index] = indices\n",
        "  return comment_father_indices\n",
        "\n",
        "father_indices_educ = compute_father_indices_pd(dataset_educ)\n",
        "father_indices_div = compute_father_indices_pd(dataset_div)"
      ]
    },
    {
      "cell_type": "code",
      "execution_count": 5,
      "metadata": {},
      "outputs": [
        {
          "name": "stderr",
          "output_type": "stream",
          "text": [
            "d:\\Work\\Machine learning stuff\\Doctorat\\Statement2CodeExplanation\\Statement2Code2Explanation\\venv\\lib\\site-packages\\tqdm\\auto.py:21: TqdmWarning: IProgress not found. Please update jupyter and ipywidgets. See https://ipywidgets.readthedocs.io/en/stable/user_install.html\n",
            "  from .autonotebook import tqdm as notebook_tqdm\n"
          ]
        }
      ],
      "source": [
        "from embeddings_generation import TokenizedDataset, LayerEMBTokenEmbeddingGeneration\n",
        "from embeddings_generation.utils import *\n",
        "\n",
        "huggingface_model_name = \"allenai/scibert_scivocab_cased\"\n",
        "huggingface_model_name_alias = huggingface_model_name.split(\"/\")[-1] + \"_educ\"\n",
        "\n",
        "if(not embedding_already_persisted(huggingface_model_name_alias)):\n",
        "    persist_embeddings(dataset_educ[\"preprocessed_text\"], huggingface_model_name, huggingface_model_name_alias, dataset_educ.index)\n",
        "    \n",
        "embeddings_educ = load_embeddings(huggingface_model_name_alias)\n",
        "\n",
        "huggingface_model_name_alias_div = huggingface_model_name.split(\"/\")[-1] +'_div'\n",
        "if(not embedding_already_persisted(huggingface_model_name_alias_div)):\n",
        "    persist_embeddings(dataset_div[\"preprocessed_text\"], huggingface_model_name, huggingface_model_name_alias_div, dataset_div.index)\n",
        "embeddings_div = load_embeddings(huggingface_model_name_alias_div)"
      ]
    },
    {
      "cell_type": "code",
      "execution_count": 6,
      "metadata": {},
      "outputs": [
        {
          "data": {
            "text/html": [
              "<div>\n",
              "<style scoped>\n",
              "    .dataframe tbody tr th:only-of-type {\n",
              "        vertical-align: middle;\n",
              "    }\n",
              "\n",
              "    .dataframe tbody tr th {\n",
              "        vertical-align: top;\n",
              "    }\n",
              "\n",
              "    .dataframe thead th {\n",
              "        text-align: right;\n",
              "    }\n",
              "</style>\n",
              "<table border=\"1\" class=\"dataframe\">\n",
              "  <thead>\n",
              "    <tr style=\"text-align: right;\">\n",
              "      <th></th>\n",
              "      <th>nrTokens</th>\n",
              "      <th>nrWholeWords</th>\n",
              "      <th>maxWordSplit</th>\n",
              "      <th>nrWordsSplitAtleastTwice</th>\n",
              "      <th>ratioNotWholeWords</th>\n",
              "    </tr>\n",
              "  </thead>\n",
              "  <tbody>\n",
              "    <tr>\n",
              "      <th>count</th>\n",
              "      <td>937.000000</td>\n",
              "      <td>937.000000</td>\n",
              "      <td>937.00000</td>\n",
              "      <td>937.000000</td>\n",
              "      <td>937.000000</td>\n",
              "    </tr>\n",
              "    <tr>\n",
              "      <th>mean</th>\n",
              "      <td>73.547492</td>\n",
              "      <td>70.043757</td>\n",
              "      <td>1.08111</td>\n",
              "      <td>2.867663</td>\n",
              "      <td>0.050410</td>\n",
              "    </tr>\n",
              "    <tr>\n",
              "      <th>std</th>\n",
              "      <td>127.515895</td>\n",
              "      <td>122.614020</td>\n",
              "      <td>1.04280</td>\n",
              "      <td>5.189115</td>\n",
              "      <td>0.062083</td>\n",
              "    </tr>\n",
              "    <tr>\n",
              "      <th>min</th>\n",
              "      <td>3.000000</td>\n",
              "      <td>3.000000</td>\n",
              "      <td>0.00000</td>\n",
              "      <td>0.000000</td>\n",
              "      <td>0.000000</td>\n",
              "    </tr>\n",
              "    <tr>\n",
              "      <th>25%</th>\n",
              "      <td>17.000000</td>\n",
              "      <td>16.000000</td>\n",
              "      <td>0.00000</td>\n",
              "      <td>0.000000</td>\n",
              "      <td>0.000000</td>\n",
              "    </tr>\n",
              "    <tr>\n",
              "      <th>50%</th>\n",
              "      <td>32.000000</td>\n",
              "      <td>30.000000</td>\n",
              "      <td>1.00000</td>\n",
              "      <td>1.000000</td>\n",
              "      <td>0.037037</td>\n",
              "    </tr>\n",
              "    <tr>\n",
              "      <th>75%</th>\n",
              "      <td>73.000000</td>\n",
              "      <td>68.000000</td>\n",
              "      <td>2.00000</td>\n",
              "      <td>3.000000</td>\n",
              "      <td>0.071429</td>\n",
              "    </tr>\n",
              "    <tr>\n",
              "      <th>max</th>\n",
              "      <td>1406.000000</td>\n",
              "      <td>1373.000000</td>\n",
              "      <td>10.00000</td>\n",
              "      <td>66.000000</td>\n",
              "      <td>0.428571</td>\n",
              "    </tr>\n",
              "  </tbody>\n",
              "</table>\n",
              "</div>"
            ],
            "text/plain": [
              "          nrTokens  nrWholeWords  maxWordSplit  nrWordsSplitAtleastTwice  \\\n",
              "count   937.000000    937.000000     937.00000                937.000000   \n",
              "mean     73.547492     70.043757       1.08111                  2.867663   \n",
              "std     127.515895    122.614020       1.04280                  5.189115   \n",
              "min       3.000000      3.000000       0.00000                  0.000000   \n",
              "25%      17.000000     16.000000       0.00000                  0.000000   \n",
              "50%      32.000000     30.000000       1.00000                  1.000000   \n",
              "75%      73.000000     68.000000       2.00000                  3.000000   \n",
              "max    1406.000000   1373.000000      10.00000                 66.000000   \n",
              "\n",
              "       ratioNotWholeWords  \n",
              "count          937.000000  \n",
              "mean             0.050410  \n",
              "std              0.062083  \n",
              "min              0.000000  \n",
              "25%              0.000000  \n",
              "50%              0.037037  \n",
              "75%              0.071429  \n",
              "max              0.428571  "
            ]
          },
          "execution_count": 6,
          "metadata": {},
          "output_type": "execute_result"
        }
      ],
      "source": [
        "statistics = determine_tokens_statistics(dataset_educ[\"preprocessed_text\"], huggingface_model_name)\n",
        "\n",
        "statistics[\"ratioNotWholeWords\"] = statistics[\"nrWordsSplitAtleastTwice\"] / statistics[\"nrWholeWords\"]\n",
        "\n",
        "statistics.describe()"
      ]
    },
    {
      "cell_type": "code",
      "execution_count": 7,
      "metadata": {},
      "outputs": [],
      "source": [
        "import torch\n",
        "from torch.utils.data.dataset import Dataset\n",
        "from torch.utils.data.dataloader import DataLoader\n",
        "import numpy as np\n",
        "import random\n",
        "RANDOM_SEED = 443\n",
        "DEVICE = \"cuda\"\n",
        "\n",
        "torch.manual_seed(RANDOM_SEED)\n",
        "np.random.seed(RANDOM_SEED)\n",
        "random.seed(RANDOM_SEED)\n",
        "\n",
        "groups = list(dataset_educ.groupby(lambda k : k.split(\"?\")[0]))\n",
        "random.shuffle(groups)\n",
        "\n",
        "train_groups = groups[:10]\n",
        "validation_groups = groups[10:13]\n",
        "test_groups = groups[13:]\n",
        "\n",
        "train_educ_dataset = dataset_educ.loc[[idx for _, g in train_groups for idx in g.index.tolist()]]\n",
        "val_educ_dataset = dataset_educ.loc[[idx for _, g in validation_groups for idx in g.index.tolist()]]\n",
        "test_educ_dataset = dataset_educ.loc[[idx for _, g in test_groups for idx in g.index.tolist()]]\n",
        "\n",
        "from sklearn.preprocessing import LabelEncoder\n",
        "labelEncoder = LabelEncoder()\n",
        "train_encoded_labels = labelEncoder.fit_transform(train_educ_dataset[\"label\"])\n",
        "val_encoded_labels = labelEncoder.fit_transform(val_educ_dataset[\"label\"])\n",
        "test_encoded_labels = labelEncoder.fit_transform(test_educ_dataset[\"label\"])\n",
        "\n",
        "div_encoded_labels = labelEncoder.fit_transform(dataset_div[\"label\"])"
      ]
    },
    {
      "cell_type": "code",
      "execution_count": 8,
      "metadata": {},
      "outputs": [],
      "source": [
        "class BlogCommentDataset(Dataset):\n",
        "    def __init__(self, dataset:pd.DataFrame, embeddings:dict, father_indices:dict, num_last_layers_embeddings_agg ,labels):\n",
        "        self.dataset = dataset\n",
        "        self.embeddings = embeddings\n",
        "        self.father_indices = father_indices\n",
        "        self.num_last_layers_embeddings_agg = num_last_layers_embeddings_agg\n",
        "        self.labels = labels\n",
        "    def __len__(self):\n",
        "        return len(self.dataset)\n",
        "    def __getitem__(self, index):\n",
        "        df_index = self.dataset.index[index]\n",
        "        embedding = self._agg_emb(self.embeddings[df_index])\n",
        "        fathers = self.father_indices[df_index]\n",
        "\n",
        "        embedding_fathers = []\n",
        "        masks = []\n",
        "        for f_idx in fathers:\n",
        "            if(f_idx == -1):\n",
        "                embedding_fathers.append(torch.zeros(embedding.shape[0]))\n",
        "                masks.append(1)\n",
        "            else:\n",
        "                embedding_fathers.append(self._agg_emb(self.embeddings[f_idx]))\n",
        "                masks.append(0)\n",
        "\n",
        "        embedding_fathers = torch.stack(embedding_fathers)\n",
        "        return embedding.to(DEVICE), embedding_fathers.to(DEVICE), torch.tensor(masks, dtype = torch.float32).to(DEVICE), torch.tensor(self.labels[index], dtype = torch.long).to(DEVICE)\n",
        "    \n",
        "    def _agg_emb(self, embedding):\n",
        "        embedding = np.array(embedding, dtype=np.float32)\n",
        "        embedding = embedding[0, -self.num_last_layers_embeddings_agg:, :].mean(0)\n",
        "        return torch.from_numpy(embedding)\n",
        "\n",
        "train_torch_dataset = BlogCommentDataset(train_educ_dataset, embeddings_educ, father_indices_educ, 3, train_encoded_labels)\n",
        "train_torch_dataloader = DataLoader(train_torch_dataset, 2, shuffle=True)\n",
        "\n",
        "val_torch_dataset = BlogCommentDataset(val_educ_dataset, embeddings_educ, father_indices_educ, 3, val_encoded_labels)\n",
        "val_torch_dataloader = DataLoader(val_torch_dataset, 2, shuffle=False)\n",
        "\n",
        "test_torch_dataset = BlogCommentDataset(test_educ_dataset, embeddings_educ, father_indices_educ, 3, test_encoded_labels)\n",
        "test_torch_dataloader = DataLoader(test_torch_dataset, 2, shuffle=False)\n",
        "\n",
        "div_dataset_torch = BlogCommentDataset(dataset_div, embeddings_div, father_indices_div, 3, div_encoded_labels)\n",
        "div_dataloader_torch = DataLoader(div_dataset_torch, 2, shuffle=False)"
      ]
    },
    {
      "cell_type": "code",
      "execution_count": 9,
      "metadata": {
        "id": "emMX_hw3eXfn",
        "scrolled": true
      },
      "outputs": [
        {
          "name": "stderr",
          "output_type": "stream",
          "text": [
            "100%|██████████| 296/296 [00:02<00:00, 118.54it/s, loss=1.1872575]   \n",
            "100%|██████████| 93/93 [00:00<00:00, 229.07it/s, loss=1.4125009]  \n"
          ]
        },
        {
          "name": "stdout",
          "output_type": "stream",
          "text": [
            "Epoch 1 has training loss: 0.6495852216219252\n",
            "Epoch 1 has validation loss: 0.45956484327513364\n",
            "Best loss at epoch 0\n"
          ]
        },
        {
          "name": "stderr",
          "output_type": "stream",
          "text": [
            "100%|██████████| 296/296 [00:01<00:00, 159.74it/s, loss=1.7435057]  \n",
            "100%|██████████| 93/93 [00:00<00:00, 227.40it/s, loss=1.3432734] \n"
          ]
        },
        {
          "name": "stdout",
          "output_type": "stream",
          "text": [
            "Epoch 2 has training loss: 0.533220312998605\n",
            "Epoch 2 has validation loss: 0.4509134352087013\n",
            "Best loss at epoch 1\n"
          ]
        },
        {
          "name": "stderr",
          "output_type": "stream",
          "text": [
            "100%|██████████| 296/296 [00:01<00:00, 175.56it/s, loss=0.04362583]  \n",
            "100%|██████████| 93/93 [00:00<00:00, 230.76it/s, loss=1.1438686]  \n"
          ]
        },
        {
          "name": "stdout",
          "output_type": "stream",
          "text": [
            "Epoch 3 has training loss: 0.4715939030634095\n",
            "Epoch 3 has validation loss: 0.42097689367590413\n",
            "Best loss at epoch 2\n"
          ]
        },
        {
          "name": "stderr",
          "output_type": "stream",
          "text": [
            "100%|██████████| 296/296 [00:01<00:00, 179.39it/s, loss=0.43538624]  \n",
            "100%|██████████| 93/93 [00:00<00:00, 226.28it/s, loss=1.3243706]  \n"
          ]
        },
        {
          "name": "stdout",
          "output_type": "stream",
          "text": [
            "Epoch 4 has training loss: 0.46003704113300536\n",
            "Epoch 4 has validation loss: 0.4207290171555454\n",
            "Best loss at epoch 3\n"
          ]
        },
        {
          "name": "stderr",
          "output_type": "stream",
          "text": [
            "100%|██████████| 296/296 [00:01<00:00, 159.74it/s, loss=0.008309199] \n",
            "100%|██████████| 93/93 [00:00<00:00, 233.08it/s, loss=1.2734017]  \n"
          ]
        },
        {
          "name": "stdout",
          "output_type": "stream",
          "text": [
            "Epoch 5 has training loss: 0.42109635623893227\n",
            "Epoch 5 has validation loss: 0.4173009200922905\n",
            "Best loss at epoch 4\n"
          ]
        },
        {
          "name": "stderr",
          "output_type": "stream",
          "text": [
            "100%|██████████| 296/296 [00:01<00:00, 155.95it/s, loss=0.0137213105]\n",
            "100%|██████████| 93/93 [00:00<00:00, 199.99it/s, loss=0.7888842]  \n"
          ]
        },
        {
          "name": "stdout",
          "output_type": "stream",
          "text": [
            "Epoch 6 has training loss: 0.5013868262742747\n",
            "Epoch 6 has validation loss: 0.43013964489512946\n"
          ]
        },
        {
          "name": "stderr",
          "output_type": "stream",
          "text": [
            "100%|██████████| 296/296 [00:01<00:00, 150.10it/s, loss=0.21312718]   \n",
            "100%|██████████| 93/93 [00:00<00:00, 223.56it/s, loss=1.2784944] \n"
          ]
        },
        {
          "name": "stdout",
          "output_type": "stream",
          "text": [
            "Epoch 7 has training loss: 0.4840128309510505\n",
            "Epoch 7 has validation loss: 0.44479350084739344\n"
          ]
        },
        {
          "name": "stderr",
          "output_type": "stream",
          "text": [
            "100%|██████████| 296/296 [00:02<00:00, 136.47it/s, loss=0.009117634]\n",
            "100%|██████████| 93/93 [00:00<00:00, 225.18it/s, loss=0.779158]   \n"
          ]
        },
        {
          "name": "stdout",
          "output_type": "stream",
          "text": [
            "Epoch 8 has training loss: 0.4652031090667446\n",
            "Epoch 8 has validation loss: 0.43528918538903516\n"
          ]
        },
        {
          "name": "stderr",
          "output_type": "stream",
          "text": [
            "100%|██████████| 296/296 [00:02<00:00, 134.48it/s, loss=0.5879183]    \n",
            "100%|██████████| 93/93 [00:00<00:00, 214.29it/s, loss=1.3957675]  \n"
          ]
        },
        {
          "name": "stdout",
          "output_type": "stream",
          "text": [
            "Epoch 9 has training loss: 0.41964932511738745\n",
            "Epoch 9 has validation loss: 0.438543137578514\n"
          ]
        },
        {
          "name": "stderr",
          "output_type": "stream",
          "text": [
            "100%|██████████| 296/296 [00:02<00:00, 137.48it/s, loss=0.002854204]  \n",
            "100%|██████████| 93/93 [00:00<00:00, 213.30it/s, loss=1.493417]    \n"
          ]
        },
        {
          "name": "stdout",
          "output_type": "stream",
          "text": [
            "Epoch 10 has training loss: 0.38582432599965566\n",
            "Epoch 10 has validation loss: 0.45865835079432576\n"
          ]
        },
        {
          "name": "stderr",
          "output_type": "stream",
          "text": [
            "100%|██████████| 296/296 [00:02<00:00, 134.60it/s, loss=0.003298796] \n",
            "100%|██████████| 93/93 [00:00<00:00, 205.30it/s, loss=1.0441813]  \n"
          ]
        },
        {
          "name": "stdout",
          "output_type": "stream",
          "text": [
            "Epoch 11 has training loss: 0.3757278233326262\n",
            "Epoch 11 has validation loss: 0.4149814332329658\n",
            "Best loss at epoch 10\n"
          ]
        },
        {
          "name": "stderr",
          "output_type": "stream",
          "text": [
            "100%|██████████| 296/296 [00:02<00:00, 135.90it/s, loss=0.55735576]   \n",
            "100%|██████████| 93/93 [00:00<00:00, 225.18it/s, loss=1.1570996]   \n"
          ]
        },
        {
          "name": "stdout",
          "output_type": "stream",
          "text": [
            "Epoch 12 has training loss: 0.3477962163901609\n",
            "Epoch 12 has validation loss: 0.4185909457800169\n"
          ]
        },
        {
          "name": "stderr",
          "output_type": "stream",
          "text": [
            "100%|██████████| 296/296 [00:02<00:00, 133.88it/s, loss=0.96000284]   \n",
            "100%|██████████| 93/93 [00:00<00:00, 214.78it/s, loss=1.0563364]  \n"
          ]
        },
        {
          "name": "stdout",
          "output_type": "stream",
          "text": [
            "Epoch 13 has training loss: 0.3310850006239342\n",
            "Epoch 13 has validation loss: 0.4084682105552225\n",
            "Best loss at epoch 12\n"
          ]
        },
        {
          "name": "stderr",
          "output_type": "stream",
          "text": [
            "100%|██████████| 296/296 [00:02<00:00, 133.63it/s, loss=0.12263319]  \n",
            "100%|██████████| 93/93 [00:00<00:00, 215.26it/s, loss=1.1565369]   \n"
          ]
        },
        {
          "name": "stdout",
          "output_type": "stream",
          "text": [
            "Epoch 14 has training loss: 0.3234012935482893\n",
            "Epoch 14 has validation loss: 0.4132457990230622\n"
          ]
        },
        {
          "name": "stderr",
          "output_type": "stream",
          "text": [
            "100%|██████████| 296/296 [00:02<00:00, 135.10it/s, loss=1.8050808]    \n",
            "100%|██████████| 93/93 [00:00<00:00, 217.29it/s, loss=1.1722085]   \n"
          ]
        },
        {
          "name": "stdout",
          "output_type": "stream",
          "text": [
            "Epoch 15 has training loss: 0.3223210024961854\n",
            "Epoch 15 has validation loss: 0.41434199575732855\n"
          ]
        },
        {
          "name": "stderr",
          "output_type": "stream",
          "text": [
            "100%|██████████| 296/296 [00:02<00:00, 135.16it/s, loss=0.26929465]  \n",
            "100%|██████████| 93/93 [00:00<00:00, 207.59it/s, loss=1.9010234]   \n"
          ]
        },
        {
          "name": "stdout",
          "output_type": "stream",
          "text": [
            "Epoch 16 has training loss: 0.3947625464024527\n",
            "Epoch 16 has validation loss: 0.4732065657588718\n"
          ]
        },
        {
          "name": "stderr",
          "output_type": "stream",
          "text": [
            "100%|██████████| 296/296 [00:02<00:00, 137.16it/s, loss=0.9742961]    \n",
            "100%|██████████| 93/93 [00:00<00:00, 217.81it/s, loss=1.1046222]   \n"
          ]
        },
        {
          "name": "stdout",
          "output_type": "stream",
          "text": [
            "Epoch 17 has training loss: 0.4172803277915099\n",
            "Epoch 17 has validation loss: 0.42563618403472636\n"
          ]
        },
        {
          "name": "stderr",
          "output_type": "stream",
          "text": [
            "100%|██████████| 296/296 [00:02<00:00, 135.28it/s, loss=0.8577409]    \n",
            "100%|██████████| 93/93 [00:00<00:00, 218.31it/s, loss=1.4929903]  \n"
          ]
        },
        {
          "name": "stdout",
          "output_type": "stream",
          "text": [
            "Epoch 18 has training loss: 0.38132835039463286\n",
            "Epoch 18 has validation loss: 0.47379337722324183\n"
          ]
        },
        {
          "name": "stderr",
          "output_type": "stream",
          "text": [
            "100%|██████████| 296/296 [00:02<00:00, 134.79it/s, loss=0.2585692]    \n",
            "100%|██████████| 93/93 [00:00<00:00, 216.28it/s, loss=0.7305046]  \n"
          ]
        },
        {
          "name": "stdout",
          "output_type": "stream",
          "text": [
            "Epoch 19 has training loss: 0.37434400120532946\n",
            "Epoch 19 has validation loss: 0.41396498697514456\n"
          ]
        },
        {
          "name": "stderr",
          "output_type": "stream",
          "text": [
            "100%|██████████| 296/296 [00:02<00:00, 135.72it/s, loss=0.00015281464]\n",
            "100%|██████████| 93/93 [00:00<00:00, 216.78it/s, loss=1.044838]     \n"
          ]
        },
        {
          "name": "stdout",
          "output_type": "stream",
          "text": [
            "Epoch 20 has training loss: 0.36354416770345593\n",
            "Epoch 20 has validation loss: 0.41385216651323514\n"
          ]
        },
        {
          "name": "stderr",
          "output_type": "stream",
          "text": [
            "100%|██████████| 296/296 [00:02<00:00, 136.15it/s, loss=0.009982189]  \n",
            "100%|██████████| 93/93 [00:00<00:00, 208.05it/s, loss=1.5878792]    \n"
          ]
        },
        {
          "name": "stdout",
          "output_type": "stream",
          "text": [
            "Epoch 21 has training loss: 0.36185533866025277\n",
            "Epoch 21 has validation loss: 0.44527518868015115\n"
          ]
        },
        {
          "name": "stderr",
          "output_type": "stream",
          "text": [
            "100%|██████████| 296/296 [00:02<00:00, 136.09it/s, loss=0.0039885268] \n",
            "100%|██████████| 93/93 [00:00<00:00, 219.35it/s, loss=2.1786582]    \n"
          ]
        },
        {
          "name": "stdout",
          "output_type": "stream",
          "text": [
            "Epoch 22 has training loss: 0.32929001237442584\n",
            "Epoch 22 has validation loss: 0.5427117737582653\n"
          ]
        },
        {
          "name": "stderr",
          "output_type": "stream",
          "text": [
            "100%|██████████| 296/296 [00:02<00:00, 136.09it/s, loss=1.1563234e-05]\n",
            "100%|██████████| 93/93 [00:00<00:00, 230.77it/s, loss=1.2297423]    \n"
          ]
        },
        {
          "name": "stdout",
          "output_type": "stream",
          "text": [
            "Epoch 23 has training loss: 0.29679010680999707\n",
            "Epoch 23 has validation loss: 0.4764194995099857\n"
          ]
        },
        {
          "name": "stderr",
          "output_type": "stream",
          "text": [
            "100%|██████████| 296/296 [00:02<00:00, 134.91it/s, loss=0.0004941196] \n",
            "100%|██████████| 93/93 [00:00<00:00, 215.78it/s, loss=1.2324989]    \n"
          ]
        },
        {
          "name": "stdout",
          "output_type": "stream",
          "text": [
            "Epoch 24 has training loss: 0.3012119821207909\n",
            "Epoch 24 has validation loss: 0.45816520915214304\n"
          ]
        },
        {
          "name": "stderr",
          "output_type": "stream",
          "text": [
            "100%|██████████| 296/296 [00:02<00:00, 133.09it/s, loss=0.09645731]   \n",
            "100%|██████████| 93/93 [00:00<00:00, 213.30it/s, loss=1.0267153]   \n"
          ]
        },
        {
          "name": "stdout",
          "output_type": "stream",
          "text": [
            "Epoch 25 has training loss: 0.28762759690007933\n",
            "Epoch 25 has validation loss: 0.44858246411154484\n"
          ]
        },
        {
          "name": "stderr",
          "output_type": "stream",
          "text": [
            "100%|██████████| 296/296 [00:02<00:00, 134.79it/s, loss=0.0030007595] \n",
            "100%|██████████| 93/93 [00:00<00:00, 190.96it/s, loss=1.1038923]   \n"
          ]
        },
        {
          "name": "stdout",
          "output_type": "stream",
          "text": [
            "Epoch 26 has training loss: 0.25623213384061255\n",
            "Epoch 26 has validation loss: 0.46920373492338835\n"
          ]
        },
        {
          "name": "stderr",
          "output_type": "stream",
          "text": [
            "100%|██████████| 296/296 [00:02<00:00, 130.68it/s, loss=0.0043491777]  \n",
            "100%|██████████| 93/93 [00:00<00:00, 224.64it/s, loss=0.95531]     \n"
          ]
        },
        {
          "name": "stdout",
          "output_type": "stream",
          "text": [
            "Epoch 27 has training loss: 0.2445888121167356\n",
            "Epoch 27 has validation loss: 0.4619044805411797\n"
          ]
        },
        {
          "name": "stderr",
          "output_type": "stream",
          "text": [
            "100%|██████████| 296/296 [00:02<00:00, 132.91it/s, loss=0.016340723]  \n",
            "100%|██████████| 93/93 [00:00<00:00, 218.31it/s, loss=0.8138371]  \n"
          ]
        },
        {
          "name": "stdout",
          "output_type": "stream",
          "text": [
            "Epoch 28 has training loss: 0.21997133468744476\n",
            "Epoch 28 has validation loss: 0.45706513883680444\n"
          ]
        },
        {
          "name": "stderr",
          "output_type": "stream",
          "text": [
            "100%|██████████| 296/296 [00:02<00:00, 134.61it/s, loss=8.809179e-05]  \n",
            "100%|██████████| 93/93 [00:00<00:00, 227.94it/s, loss=0.8265178]  \n"
          ]
        },
        {
          "name": "stdout",
          "output_type": "stream",
          "text": [
            "Epoch 29 has training loss: 0.2140977935591413\n",
            "Epoch 29 has validation loss: 0.455658542071423\n"
          ]
        },
        {
          "name": "stderr",
          "output_type": "stream",
          "text": [
            "100%|██████████| 296/296 [00:02<00:00, 136.09it/s, loss=0.47401702]    \n",
            "100%|██████████| 93/93 [00:00<00:00, 221.95it/s, loss=0.8255365]    \n"
          ]
        },
        {
          "name": "stdout",
          "output_type": "stream",
          "text": [
            "Epoch 30 has training loss: 0.2159616010334557\n",
            "Epoch 30 has validation loss: 0.46159596441454975\n"
          ]
        },
        {
          "name": "stderr",
          "output_type": "stream",
          "text": [
            "100%|██████████| 296/296 [00:02<00:00, 135.59it/s, loss=0.8665631]     \n",
            "100%|██████████| 93/93 [00:00<00:00, 212.35it/s, loss=0.8162829]    \n"
          ]
        },
        {
          "name": "stdout",
          "output_type": "stream",
          "text": [
            "Epoch 31 has training loss: 0.17952448997102477\n",
            "Epoch 31 has validation loss: 0.4728930008498058\n"
          ]
        },
        {
          "name": "stderr",
          "output_type": "stream",
          "text": [
            "100%|██████████| 296/296 [00:02<00:00, 135.16it/s, loss=0.23738559]    \n",
            "100%|██████████| 93/93 [00:00<00:00, 225.72it/s, loss=1.0476571]   \n"
          ]
        },
        {
          "name": "stdout",
          "output_type": "stream",
          "text": [
            "Epoch 32 has training loss: 0.1824734639841502\n",
            "Epoch 32 has validation loss: 0.48531033683437724\n"
          ]
        },
        {
          "name": "stderr",
          "output_type": "stream",
          "text": [
            "100%|██████████| 296/296 [00:02<00:00, 134.42it/s, loss=1.038149]     \n",
            "100%|██████████| 93/93 [00:00<00:00, 213.31it/s, loss=0.97917026]   \n"
          ]
        },
        {
          "name": "stdout",
          "output_type": "stream",
          "text": [
            "Epoch 33 has training loss: 0.17101708038346392\n",
            "Epoch 33 has validation loss: 0.48268587588158735\n"
          ]
        },
        {
          "name": "stderr",
          "output_type": "stream",
          "text": [
            "100%|██████████| 296/296 [00:02<00:00, 135.22it/s, loss=0.069160275]  \n",
            "100%|██████████| 93/93 [00:00<00:00, 211.85it/s, loss=0.9502484]   \n"
          ]
        },
        {
          "name": "stdout",
          "output_type": "stream",
          "text": [
            "Epoch 34 has training loss: 0.19153528725921723\n",
            "Epoch 34 has validation loss: 0.4808638060762102\n"
          ]
        },
        {
          "name": "stderr",
          "output_type": "stream",
          "text": [
            "100%|██████████| 296/296 [00:02<00:00, 134.18it/s, loss=0.2811583]    \n",
            "100%|██████████| 93/93 [00:00<00:00, 221.95it/s, loss=0.95210624]   \n"
          ]
        },
        {
          "name": "stdout",
          "output_type": "stream",
          "text": [
            "Epoch 35 has training loss: 0.18024017518086852\n",
            "Epoch 35 has validation loss: 0.48120878076887524\n"
          ]
        },
        {
          "name": "stderr",
          "output_type": "stream",
          "text": [
            "100%|██████████| 296/296 [00:02<00:00, 136.11it/s, loss=0.9789887]    \n",
            "100%|██████████| 93/93 [00:00<00:00, 206.21it/s, loss=1.4475191]    \n"
          ]
        },
        {
          "name": "stdout",
          "output_type": "stream",
          "text": [
            "Epoch 36 has training loss: 0.33915862330480356\n",
            "Epoch 36 has validation loss: 0.4970768946128784\n"
          ]
        },
        {
          "name": "stderr",
          "output_type": "stream",
          "text": [
            "100%|██████████| 296/296 [00:02<00:00, 136.09it/s, loss=0.26697248]   \n",
            "100%|██████████| 93/93 [00:00<00:00, 219.86it/s, loss=0.5024923]    \n"
          ]
        },
        {
          "name": "stdout",
          "output_type": "stream",
          "text": [
            "Epoch 37 has training loss: 0.336234472818954\n",
            "Epoch 37 has validation loss: 0.5019222390769119\n"
          ]
        },
        {
          "name": "stderr",
          "output_type": "stream",
          "text": [
            "100%|██████████| 296/296 [00:02<00:00, 134.73it/s, loss=1.279267]     \n",
            "100%|██████████| 93/93 [00:00<00:00, 214.29it/s, loss=2.1817026]    \n"
          ]
        },
        {
          "name": "stdout",
          "output_type": "stream",
          "text": [
            "Epoch 38 has training loss: 0.3471085429700522\n",
            "Epoch 38 has validation loss: 0.4890347595957831\n"
          ]
        },
        {
          "name": "stderr",
          "output_type": "stream",
          "text": [
            "100%|██████████| 296/296 [00:02<00:00, 134.85it/s, loss=0.39274648]   \n",
            "100%|██████████| 93/93 [00:00<00:00, 220.38it/s, loss=1.4114014]  \n"
          ]
        },
        {
          "name": "stdout",
          "output_type": "stream",
          "text": [
            "Epoch 39 has training loss: 0.307967625306921\n",
            "Epoch 39 has validation loss: 0.4497084987879614\n"
          ]
        },
        {
          "name": "stderr",
          "output_type": "stream",
          "text": [
            "100%|██████████| 296/296 [00:02<00:00, 135.59it/s, loss=0.6959801]    \n",
            "100%|██████████| 93/93 [00:00<00:00, 218.82it/s, loss=2.0238974]    \n"
          ]
        },
        {
          "name": "stdout",
          "output_type": "stream",
          "text": [
            "Epoch 40 has training loss: 0.2970575341214686\n",
            "Epoch 40 has validation loss: 0.5005592690442381\n"
          ]
        },
        {
          "name": "stderr",
          "output_type": "stream",
          "text": [
            "100%|██████████| 296/296 [00:02<00:00, 135.41it/s, loss=0.13224763]   \n",
            "100%|██████████| 93/93 [00:00<00:00, 206.67it/s, loss=0.45657834]   \n"
          ]
        },
        {
          "name": "stdout",
          "output_type": "stream",
          "text": [
            "Epoch 41 has training loss: 0.27236436244224477\n",
            "Epoch 41 has validation loss: 0.47869432433146086\n"
          ]
        },
        {
          "name": "stderr",
          "output_type": "stream",
          "text": [
            "100%|██████████| 296/296 [00:02<00:00, 134.55it/s, loss=0.0001957225]  \n",
            "100%|██████████| 93/93 [00:00<00:00, 225.18it/s, loss=0.71214706]   \n"
          ]
        },
        {
          "name": "stdout",
          "output_type": "stream",
          "text": [
            "Epoch 42 has training loss: 0.27291921951595627\n",
            "Epoch 42 has validation loss: 0.44125011317407686\n"
          ]
        },
        {
          "name": "stderr",
          "output_type": "stream",
          "text": [
            "100%|██████████| 296/296 [00:02<00:00, 134.18it/s, loss=0.0]          \n",
            "100%|██████████| 93/93 [00:00<00:00, 214.29it/s, loss=1.1040086]    \n"
          ]
        },
        {
          "name": "stdout",
          "output_type": "stream",
          "text": [
            "Epoch 43 has training loss: 0.24570409041193597\n",
            "Epoch 43 has validation loss: 0.4265745557837998\n"
          ]
        },
        {
          "name": "stderr",
          "output_type": "stream",
          "text": [
            "100%|██████████| 296/296 [00:02<00:00, 135.10it/s, loss=2.3504598]    \n",
            "100%|██████████| 93/93 [00:00<00:00, 216.78it/s, loss=0.51365423]   \n"
          ]
        },
        {
          "name": "stdout",
          "output_type": "stream",
          "text": [
            "Epoch 44 has training loss: 0.26499785684877925\n",
            "Epoch 44 has validation loss: 0.4836307883735415\n"
          ]
        },
        {
          "name": "stderr",
          "output_type": "stream",
          "text": [
            "100%|██████████| 296/296 [00:02<00:00, 134.73it/s, loss=0.0034246151] \n",
            "100%|██████████| 93/93 [00:00<00:00, 215.78it/s, loss=2.4540753]   \n"
          ]
        },
        {
          "name": "stdout",
          "output_type": "stream",
          "text": [
            "Epoch 45 has training loss: 0.24264479963404034\n",
            "Epoch 45 has validation loss: 0.5641896722548763\n"
          ]
        },
        {
          "name": "stderr",
          "output_type": "stream",
          "text": [
            "100%|██████████| 296/296 [00:02<00:00, 134.91it/s, loss=4.7683704e-07]\n",
            "100%|██████████| 93/93 [00:00<00:00, 206.67it/s, loss=0.4630138]    \n"
          ]
        },
        {
          "name": "stdout",
          "output_type": "stream",
          "text": [
            "Epoch 46 has training loss: 0.22411615028981927\n",
            "Epoch 46 has validation loss: 0.4947646522608314\n"
          ]
        },
        {
          "name": "stderr",
          "output_type": "stream",
          "text": [
            "100%|██████████| 296/296 [00:02<00:00, 136.09it/s, loss=0.2471167]    \n",
            "100%|██████████| 93/93 [00:00<00:00, 217.29it/s, loss=1.4381542]    \n"
          ]
        },
        {
          "name": "stdout",
          "output_type": "stream",
          "text": [
            "Epoch 47 has training loss: 0.21400822914989395\n",
            "Epoch 47 has validation loss: 0.5552939429803871\n"
          ]
        },
        {
          "name": "stderr",
          "output_type": "stream",
          "text": [
            "100%|██████████| 296/296 [00:02<00:00, 134.73it/s, loss=0.007826497]  \n",
            "100%|██████████| 93/93 [00:00<00:00, 214.77it/s, loss=4.0832825]    \n"
          ]
        },
        {
          "name": "stdout",
          "output_type": "stream",
          "text": [
            "Epoch 48 has training loss: 0.1677648401355216\n",
            "Epoch 48 has validation loss: 0.7114862343091626\n"
          ]
        },
        {
          "name": "stderr",
          "output_type": "stream",
          "text": [
            "100%|██████████| 296/296 [00:02<00:00, 135.47it/s, loss=1.3123815]    \n",
            "100%|██████████| 93/93 [00:00<00:00, 212.33it/s, loss=1.638799]     \n"
          ]
        },
        {
          "name": "stdout",
          "output_type": "stream",
          "text": [
            "Epoch 49 has training loss: 0.2109476586175678\n",
            "Epoch 49 has validation loss: 0.6155458502124788\n"
          ]
        },
        {
          "name": "stderr",
          "output_type": "stream",
          "text": [
            "100%|██████████| 296/296 [00:02<00:00, 134.42it/s, loss=0.037248455]  \n",
            "100%|██████████| 93/93 [00:00<00:00, 212.81it/s, loss=1.6348779]     "
          ]
        },
        {
          "name": "stdout",
          "output_type": "stream",
          "text": [
            "Epoch 50 has training loss: 0.21188051048852513\n",
            "Epoch 50 has validation loss: 0.5848791094591353\n"
          ]
        },
        {
          "name": "stderr",
          "output_type": "stream",
          "text": [
            "\n"
          ]
        }
      ],
      "source": [
        "from tqdm import tqdm\n",
        "import math\n",
        "class CommentClassificationModel(torch.nn.Module):\n",
        "    def __init__(self, nrLabels):\n",
        "        super(CommentClassificationModel, self).__init__()\n",
        "        self.k = torch.nn.Linear(768, 128)\n",
        "        self.q = torch.nn.Linear(768, 128)\n",
        "        self.v = torch.nn.Linear(768, 128) \n",
        "\n",
        "        self.comment_proj = torch.nn.Linear(768, 128) \n",
        "        self.relu = torch.nn.ReLU()\n",
        "        self.output = torch.nn.Linear(128, nrLabels) \n",
        "        self.hidden1 = torch.nn.Linear(128 * 2, 128)  \n",
        "        self.dropout = torch.nn.Dropout(0.7)  \n",
        "\n",
        "    def forward(self, x, fathers_x, mask):\n",
        "        key = self.k(x)\n",
        "        queries = self.q(fathers_x)\n",
        "        values = self.v(fathers_x)\n",
        "\n",
        "        key = torch.unsqueeze(key, -1)\n",
        "\n",
        "        e_t = torch.bmm(queries, key)  / math.sqrt(128)\n",
        "        e_t = torch.squeeze(e_t, -1)\n",
        "\n",
        "        e_t = e_t + mask * -2e9\n",
        "        a_t = torch.nn.Softmax()(e_t)\n",
        "\n",
        "        a_t = torch.unsqueeze(a_t, -1)\n",
        "        average_att = torch.bmm(a_t.permute(0, 2, 1), values)\n",
        "        average_att = average_att.squeeze(1)\n",
        "        average_att = average_att\n",
        "\n",
        "        com_proj = self.comment_proj(x)\n",
        "\n",
        "        h1 = self.dropout(self.relu(torch.cat([average_att, com_proj], -1)))\n",
        "        h2 = self.dropout(self.relu(self.hidden1(h1)))\n",
        "\n",
        "        return self.output(h2)\n",
        "\n",
        "comment_classification_Model = CommentClassificationModel(len(labelEncoder.classes_))\n",
        "comment_classification_Model.to(DEVICE)\n",
        "\n",
        "criterion = torch.nn.CrossEntropyLoss()\n",
        "optimizer = torch.optim.AdamW(comment_classification_Model.parameters())\n",
        "scheduler = torch.optim.lr_scheduler.CosineAnnealingWarmRestarts(optimizer,len(train_torch_dataloader) * 5, 2)\n",
        "nr_epochs = 50\n",
        "current_step = 0\n",
        "best_model_loss = 1e9\n",
        "for epoch in range(nr_epochs):\n",
        "  pbar_training = tqdm(train_torch_dataloader)\n",
        "  training_average_loss = 0\n",
        "  training_nr_batches = 0\n",
        "  comment_classification_Model.train()\n",
        "  iters = len(pbar_training)\n",
        "  \n",
        "  for embeddings_batch, embedding_fathers, mask_batch, labels_batch in pbar_training:\n",
        "    optimizer.zero_grad()\n",
        "    yhat = comment_classification_Model(embeddings_batch, embedding_fathers, mask_batch)\n",
        "    loss = criterion(yhat, labels_batch)\n",
        "    loss.backward()\n",
        "    optimizer.step()\n",
        "    pbar_training.set_postfix({'loss': loss.cpu().detach().numpy()})\n",
        "\n",
        "    training_average_loss += loss.cpu().detach().numpy()\n",
        "    training_nr_batches+=1\n",
        "    current_step+=1\n",
        "    scheduler.step()\n",
        "\n",
        "  pbar_validation = tqdm(val_torch_dataloader)\n",
        "\n",
        "  validation_average_loss = 0\n",
        "  validation_nr_batches = 0\n",
        "  comment_classification_Model.eval()\n",
        "  for embeddings_batch, embedding_fathers, mask_batch, labels_batch in pbar_validation:\n",
        "    with torch.no_grad():\n",
        "      yhat = comment_classification_Model(embeddings_batch, embedding_fathers, mask_batch)\n",
        "      loss = criterion(yhat, labels_batch)\n",
        "\n",
        "      validation_average_loss += loss.cpu().detach().numpy()\n",
        "      validation_nr_batches+=1\n",
        "\n",
        "      pbar_validation.set_postfix({'loss': loss.cpu().detach().numpy()})\n",
        "      \n",
        "  print(f'Epoch {epoch + 1} has training loss: {training_average_loss / training_nr_batches}')\n",
        "  print(f'Epoch {epoch + 1} has validation loss: {validation_average_loss / validation_nr_batches}')\n",
        "\n",
        "  if(validation_average_loss / validation_nr_batches < best_model_loss):\n",
        "     best_model_loss = validation_average_loss / validation_nr_batches\n",
        "     print(f'Best loss at epoch {epoch}')\n",
        "     torch.save(comment_classification_Model, f'best_models/{huggingface_model_name_alias}.pkl')\n"
      ]
    },
    {
      "cell_type": "code",
      "execution_count": 10,
      "metadata": {
        "id": "GwAhp7BAwjfG"
      },
      "outputs": [
        {
          "name": "stderr",
          "output_type": "stream",
          "text": [
            "  0%|          | 0/93 [00:00<?, ?it/s]"
          ]
        },
        {
          "name": "stderr",
          "output_type": "stream",
          "text": [
            "100%|██████████| 93/93 [00:00<00:00, 336.95it/s]\n"
          ]
        }
      ],
      "source": [
        "comment_classification_Model= torch.load(f'best_models/{huggingface_model_name_alias}.pkl')\n",
        "comment_classification_Model.to(DEVICE)\n",
        "comment_classification_Model.eval()\n",
        "\n",
        "predictions = []\n",
        "pbar_validation = tqdm(val_torch_dataloader)\n",
        "for embeddings_batch, embedding_fathers, mask_batch, labels_batch in pbar_validation:\n",
        "  predictions.append(comment_classification_Model(embeddings_batch, embedding_fathers, mask_batch))\n",
        "\n",
        "predictions = np.stack([e for b in predictions for e in b.cpu().detach().numpy()])"
      ]
    },
    {
      "cell_type": "code",
      "execution_count": 11,
      "metadata": {
        "id": "PgbM5DfFxWfd"
      },
      "outputs": [
        {
          "name": "stdout",
          "output_type": "stream",
          "text": [
            "              precision    recall  f1-score   support\n",
            "\n",
            "  Irrelevant       0.81      0.73      0.77        74\n",
            "    Relevant       0.83      0.88      0.86       112\n",
            "\n",
            "    accuracy                           0.82       186\n",
            "   macro avg       0.82      0.81      0.81       186\n",
            "weighted avg       0.82      0.82      0.82       186\n",
            "\n"
          ]
        }
      ],
      "source": [
        "predictions_softmax = torch.nn.Softmax(dim=1)(torch.from_numpy(predictions)).detach().numpy()\n",
        "\n",
        "predictions_indices = np.argmax(predictions_softmax, axis = 1)\n",
        "predicted_normal_labels = labelEncoder.inverse_transform(predictions_indices.ravel())\n",
        "\n",
        "from sklearn.metrics import classification_report\n",
        "\n",
        "print(classification_report(val_educ_dataset[\"label\"], predicted_normal_labels))"
      ]
    },
    {
      "cell_type": "code",
      "execution_count": 12,
      "metadata": {},
      "outputs": [
        {
          "name": "stderr",
          "output_type": "stream",
          "text": [
            "100%|██████████| 80/80 [00:00<00:00, 361.95it/s]\n"
          ]
        }
      ],
      "source": [
        "predictions = []\n",
        "pbar_test = tqdm(test_torch_dataloader)\n",
        "for embeddings_batch, embedding_fathers, mask_batch, labels_batch in pbar_test:\n",
        "  predictions.append(comment_classification_Model(embeddings_batch, embedding_fathers, mask_batch))\n",
        "\n",
        "predictions = np.stack([e for b in predictions for e in b.cpu().detach().numpy()])"
      ]
    },
    {
      "cell_type": "code",
      "execution_count": 13,
      "metadata": {
        "id": "N7Hjy5FAkioO",
        "scrolled": true
      },
      "outputs": [
        {
          "name": "stdout",
          "output_type": "stream",
          "text": [
            "              precision    recall  f1-score   support\n",
            "\n",
            "  Irrelevant       0.88      0.78      0.83        74\n",
            "    Relevant       0.83      0.91      0.87        86\n",
            "\n",
            "    accuracy                           0.85       160\n",
            "   macro avg       0.85      0.85      0.85       160\n",
            "weighted avg       0.85      0.85      0.85       160\n",
            "\n"
          ]
        }
      ],
      "source": [
        "predictions_softmax = torch.nn.Softmax(dim=1)(torch.from_numpy(predictions)).detach().numpy()\n",
        "\n",
        "predictions_indices = np.argmax(predictions_softmax, axis = 1)\n",
        "predicted_normal_labels = labelEncoder.inverse_transform(predictions_indices.ravel())\n",
        "\n",
        "from sklearn.metrics import classification_report\n",
        "\n",
        "print(classification_report(test_educ_dataset[\"label\"], predicted_normal_labels))"
      ]
    },
    {
      "cell_type": "code",
      "execution_count": 14,
      "metadata": {},
      "outputs": [
        {
          "name": "stderr",
          "output_type": "stream",
          "text": [
            "100%|██████████| 252/252 [00:00<00:00, 359.48it/s]\n"
          ]
        }
      ],
      "source": [
        "predictions = []\n",
        "pbar_div = tqdm(div_dataloader_torch)\n",
        "for embeddings_batch, embedding_fathers, mask_batch, labels_batch in pbar_div:\n",
        "  predictions.append(comment_classification_Model(embeddings_batch, embedding_fathers, mask_batch))\n",
        "\n",
        "predictions = np.stack([e for b in predictions for e in b.cpu().detach().numpy()])"
      ]
    },
    {
      "cell_type": "code",
      "execution_count": 15,
      "metadata": {},
      "outputs": [
        {
          "name": "stdout",
          "output_type": "stream",
          "text": [
            "              precision    recall  f1-score   support\n",
            "\n",
            "  Irrelevant       0.95      0.65      0.77       393\n",
            "    Relevant       0.41      0.87      0.56       111\n",
            "\n",
            "    accuracy                           0.70       504\n",
            "   macro avg       0.68      0.76      0.67       504\n",
            "weighted avg       0.83      0.70      0.72       504\n",
            "\n"
          ]
        }
      ],
      "source": [
        "predictions_softmax = torch.nn.Softmax(dim=1)(torch.from_numpy(predictions)).detach().numpy()\n",
        "\n",
        "predictions_indices = np.argmax(predictions_softmax, axis = 1)\n",
        "predicted_normal_labels = labelEncoder.inverse_transform(predictions_indices.ravel())\n",
        "\n",
        "from sklearn.metrics import classification_report\n",
        "\n",
        "print(classification_report(dataset_div[\"label\"], predicted_normal_labels))"
      ]
    }
  ],
  "metadata": {
    "colab": {
      "provenance": []
    },
    "gpuClass": "standard",
    "kernelspec": {
      "display_name": "Python 3 (ipykernel)",
      "language": "python",
      "name": "python3"
    },
    "language_info": {
      "codemirror_mode": {
        "name": "ipython",
        "version": 3
      },
      "file_extension": ".py",
      "mimetype": "text/x-python",
      "name": "python",
      "nbconvert_exporter": "python",
      "pygments_lexer": "ipython3",
      "version": "3.9.7"
    },
    "vscode": {
      "interpreter": {
        "hash": "259697ca15dba3bdee1251769ee50403cdc14449d4679f1ae234c213280e302b"
      }
    },
    "widgets": {
      "application/vnd.jupyter.widget-state+json": {
        "0ac9dfc2fce94fb182224705902fa400": {
          "model_module": "@jupyter-widgets/base",
          "model_module_version": "1.2.0",
          "model_name": "LayoutModel",
          "state": {
            "_model_module": "@jupyter-widgets/base",
            "_model_module_version": "1.2.0",
            "_model_name": "LayoutModel",
            "_view_count": null,
            "_view_module": "@jupyter-widgets/base",
            "_view_module_version": "1.2.0",
            "_view_name": "LayoutView",
            "align_content": null,
            "align_items": null,
            "align_self": null,
            "border": null,
            "bottom": null,
            "display": null,
            "flex": null,
            "flex_flow": null,
            "grid_area": null,
            "grid_auto_columns": null,
            "grid_auto_flow": null,
            "grid_auto_rows": null,
            "grid_column": null,
            "grid_gap": null,
            "grid_row": null,
            "grid_template_areas": null,
            "grid_template_columns": null,
            "grid_template_rows": null,
            "height": null,
            "justify_content": null,
            "justify_items": null,
            "left": null,
            "margin": null,
            "max_height": null,
            "max_width": null,
            "min_height": null,
            "min_width": null,
            "object_fit": null,
            "object_position": null,
            "order": null,
            "overflow": null,
            "overflow_x": null,
            "overflow_y": null,
            "padding": null,
            "right": null,
            "top": null,
            "visibility": null,
            "width": null
          }
        },
        "0be5192c031743e2a1c6a088a524d24d": {
          "model_module": "@jupyter-widgets/base",
          "model_module_version": "1.2.0",
          "model_name": "LayoutModel",
          "state": {
            "_model_module": "@jupyter-widgets/base",
            "_model_module_version": "1.2.0",
            "_model_name": "LayoutModel",
            "_view_count": null,
            "_view_module": "@jupyter-widgets/base",
            "_view_module_version": "1.2.0",
            "_view_name": "LayoutView",
            "align_content": null,
            "align_items": null,
            "align_self": null,
            "border": null,
            "bottom": null,
            "display": null,
            "flex": null,
            "flex_flow": null,
            "grid_area": null,
            "grid_auto_columns": null,
            "grid_auto_flow": null,
            "grid_auto_rows": null,
            "grid_column": null,
            "grid_gap": null,
            "grid_row": null,
            "grid_template_areas": null,
            "grid_template_columns": null,
            "grid_template_rows": null,
            "height": null,
            "justify_content": null,
            "justify_items": null,
            "left": null,
            "margin": null,
            "max_height": null,
            "max_width": null,
            "min_height": null,
            "min_width": null,
            "object_fit": null,
            "object_position": null,
            "order": null,
            "overflow": null,
            "overflow_x": null,
            "overflow_y": null,
            "padding": null,
            "right": null,
            "top": null,
            "visibility": null,
            "width": null
          }
        },
        "107567711d404390b24f24e116c01fe7": {
          "model_module": "@jupyter-widgets/controls",
          "model_module_version": "1.5.0",
          "model_name": "HTMLModel",
          "state": {
            "_dom_classes": [],
            "_model_module": "@jupyter-widgets/controls",
            "_model_module_version": "1.5.0",
            "_model_name": "HTMLModel",
            "_view_count": null,
            "_view_module": "@jupyter-widgets/controls",
            "_view_module_version": "1.5.0",
            "_view_name": "HTMLView",
            "description": "",
            "description_tooltip": null,
            "layout": "IPY_MODEL_0be5192c031743e2a1c6a088a524d24d",
            "placeholder": "​",
            "style": "IPY_MODEL_1d496bb6883e43e3932d4c94f9c2cc34",
            "value": " 570/570 [00:00&lt;00:00, 9.75kB/s]"
          }
        },
        "17a9bae4ba6b4ea1a32f33e45cec64f8": {
          "model_module": "@jupyter-widgets/controls",
          "model_module_version": "1.5.0",
          "model_name": "HTMLModel",
          "state": {
            "_dom_classes": [],
            "_model_module": "@jupyter-widgets/controls",
            "_model_module_version": "1.5.0",
            "_model_name": "HTMLModel",
            "_view_count": null,
            "_view_module": "@jupyter-widgets/controls",
            "_view_module_version": "1.5.0",
            "_view_name": "HTMLView",
            "description": "",
            "description_tooltip": null,
            "layout": "IPY_MODEL_a19cb9558381428ab77151b832aa1ef0",
            "placeholder": "​",
            "style": "IPY_MODEL_e393026919174e6e9e51fa36d678c57f",
            "value": "Downloading (…)okenizer_config.json: 100%"
          }
        },
        "1d496bb6883e43e3932d4c94f9c2cc34": {
          "model_module": "@jupyter-widgets/controls",
          "model_module_version": "1.5.0",
          "model_name": "DescriptionStyleModel",
          "state": {
            "_model_module": "@jupyter-widgets/controls",
            "_model_module_version": "1.5.0",
            "_model_name": "DescriptionStyleModel",
            "_view_count": null,
            "_view_module": "@jupyter-widgets/base",
            "_view_module_version": "1.2.0",
            "_view_name": "StyleView",
            "description_width": ""
          }
        },
        "2163460e8cdf4b8c8b459e4251d96d0f": {
          "model_module": "@jupyter-widgets/controls",
          "model_module_version": "1.5.0",
          "model_name": "HTMLModel",
          "state": {
            "_dom_classes": [],
            "_model_module": "@jupyter-widgets/controls",
            "_model_module_version": "1.5.0",
            "_model_name": "HTMLModel",
            "_view_count": null,
            "_view_module": "@jupyter-widgets/controls",
            "_view_module_version": "1.5.0",
            "_view_name": "HTMLView",
            "description": "",
            "description_tooltip": null,
            "layout": "IPY_MODEL_2f150fb4c04048d692400452226a012d",
            "placeholder": "​",
            "style": "IPY_MODEL_65d660c8b6b3446893bb89fcdd42ba6b",
            "value": "Downloading (…)lve/main/config.json: 100%"
          }
        },
        "22b4a12a22934259b5ab6e2733ee49a3": {
          "model_module": "@jupyter-widgets/base",
          "model_module_version": "1.2.0",
          "model_name": "LayoutModel",
          "state": {
            "_model_module": "@jupyter-widgets/base",
            "_model_module_version": "1.2.0",
            "_model_name": "LayoutModel",
            "_view_count": null,
            "_view_module": "@jupyter-widgets/base",
            "_view_module_version": "1.2.0",
            "_view_name": "LayoutView",
            "align_content": null,
            "align_items": null,
            "align_self": null,
            "border": null,
            "bottom": null,
            "display": null,
            "flex": null,
            "flex_flow": null,
            "grid_area": null,
            "grid_auto_columns": null,
            "grid_auto_flow": null,
            "grid_auto_rows": null,
            "grid_column": null,
            "grid_gap": null,
            "grid_row": null,
            "grid_template_areas": null,
            "grid_template_columns": null,
            "grid_template_rows": null,
            "height": null,
            "justify_content": null,
            "justify_items": null,
            "left": null,
            "margin": null,
            "max_height": null,
            "max_width": null,
            "min_height": null,
            "min_width": null,
            "object_fit": null,
            "object_position": null,
            "order": null,
            "overflow": null,
            "overflow_x": null,
            "overflow_y": null,
            "padding": null,
            "right": null,
            "top": null,
            "visibility": null,
            "width": null
          }
        },
        "2f150fb4c04048d692400452226a012d": {
          "model_module": "@jupyter-widgets/base",
          "model_module_version": "1.2.0",
          "model_name": "LayoutModel",
          "state": {
            "_model_module": "@jupyter-widgets/base",
            "_model_module_version": "1.2.0",
            "_model_name": "LayoutModel",
            "_view_count": null,
            "_view_module": "@jupyter-widgets/base",
            "_view_module_version": "1.2.0",
            "_view_name": "LayoutView",
            "align_content": null,
            "align_items": null,
            "align_self": null,
            "border": null,
            "bottom": null,
            "display": null,
            "flex": null,
            "flex_flow": null,
            "grid_area": null,
            "grid_auto_columns": null,
            "grid_auto_flow": null,
            "grid_auto_rows": null,
            "grid_column": null,
            "grid_gap": null,
            "grid_row": null,
            "grid_template_areas": null,
            "grid_template_columns": null,
            "grid_template_rows": null,
            "height": null,
            "justify_content": null,
            "justify_items": null,
            "left": null,
            "margin": null,
            "max_height": null,
            "max_width": null,
            "min_height": null,
            "min_width": null,
            "object_fit": null,
            "object_position": null,
            "order": null,
            "overflow": null,
            "overflow_x": null,
            "overflow_y": null,
            "padding": null,
            "right": null,
            "top": null,
            "visibility": null,
            "width": null
          }
        },
        "323a69c84555449094ec2012a3d52d63": {
          "model_module": "@jupyter-widgets/controls",
          "model_module_version": "1.5.0",
          "model_name": "DescriptionStyleModel",
          "state": {
            "_model_module": "@jupyter-widgets/controls",
            "_model_module_version": "1.5.0",
            "_model_name": "DescriptionStyleModel",
            "_view_count": null,
            "_view_module": "@jupyter-widgets/base",
            "_view_module_version": "1.2.0",
            "_view_name": "StyleView",
            "description_width": ""
          }
        },
        "34e75810a17842fab1b34176261a9f84": {
          "model_module": "@jupyter-widgets/controls",
          "model_module_version": "1.5.0",
          "model_name": "HTMLModel",
          "state": {
            "_dom_classes": [],
            "_model_module": "@jupyter-widgets/controls",
            "_model_module_version": "1.5.0",
            "_model_name": "HTMLModel",
            "_view_count": null,
            "_view_module": "@jupyter-widgets/controls",
            "_view_module_version": "1.5.0",
            "_view_name": "HTMLView",
            "description": "",
            "description_tooltip": null,
            "layout": "IPY_MODEL_9b575196f8994a938793ca404fcf07b8",
            "placeholder": "​",
            "style": "IPY_MODEL_d7b5e92dffd840feb9aca6ed35cecdc1",
            "value": " 436M/436M [00:04&lt;00:00, 90.0MB/s]"
          }
        },
        "37991897796f4bbcb5b3ee78a1710b60": {
          "model_module": "@jupyter-widgets/controls",
          "model_module_version": "1.5.0",
          "model_name": "HTMLModel",
          "state": {
            "_dom_classes": [],
            "_model_module": "@jupyter-widgets/controls",
            "_model_module_version": "1.5.0",
            "_model_name": "HTMLModel",
            "_view_count": null,
            "_view_module": "@jupyter-widgets/controls",
            "_view_module_version": "1.5.0",
            "_view_name": "HTMLView",
            "description": "",
            "description_tooltip": null,
            "layout": "IPY_MODEL_aff5731eafd04d61ba5cb2344bb84060",
            "placeholder": "​",
            "style": "IPY_MODEL_323a69c84555449094ec2012a3d52d63",
            "value": " 29.0/29.0 [00:00&lt;00:00, 471B/s]"
          }
        },
        "3aab9c9a3679469792587f9381c87c1e": {
          "model_module": "@jupyter-widgets/controls",
          "model_module_version": "1.5.0",
          "model_name": "DescriptionStyleModel",
          "state": {
            "_model_module": "@jupyter-widgets/controls",
            "_model_module_version": "1.5.0",
            "_model_name": "DescriptionStyleModel",
            "_view_count": null,
            "_view_module": "@jupyter-widgets/base",
            "_view_module_version": "1.2.0",
            "_view_name": "StyleView",
            "description_width": ""
          }
        },
        "3ec6a16d1323497ca62269c5a1221b41": {
          "model_module": "@jupyter-widgets/base",
          "model_module_version": "1.2.0",
          "model_name": "LayoutModel",
          "state": {
            "_model_module": "@jupyter-widgets/base",
            "_model_module_version": "1.2.0",
            "_model_name": "LayoutModel",
            "_view_count": null,
            "_view_module": "@jupyter-widgets/base",
            "_view_module_version": "1.2.0",
            "_view_name": "LayoutView",
            "align_content": null,
            "align_items": null,
            "align_self": null,
            "border": null,
            "bottom": null,
            "display": null,
            "flex": null,
            "flex_flow": null,
            "grid_area": null,
            "grid_auto_columns": null,
            "grid_auto_flow": null,
            "grid_auto_rows": null,
            "grid_column": null,
            "grid_gap": null,
            "grid_row": null,
            "grid_template_areas": null,
            "grid_template_columns": null,
            "grid_template_rows": null,
            "height": null,
            "justify_content": null,
            "justify_items": null,
            "left": null,
            "margin": null,
            "max_height": null,
            "max_width": null,
            "min_height": null,
            "min_width": null,
            "object_fit": null,
            "object_position": null,
            "order": null,
            "overflow": null,
            "overflow_x": null,
            "overflow_y": null,
            "padding": null,
            "right": null,
            "top": null,
            "visibility": null,
            "width": null
          }
        },
        "49003665fa584055bdbaceec416f031c": {
          "model_module": "@jupyter-widgets/base",
          "model_module_version": "1.2.0",
          "model_name": "LayoutModel",
          "state": {
            "_model_module": "@jupyter-widgets/base",
            "_model_module_version": "1.2.0",
            "_model_name": "LayoutModel",
            "_view_count": null,
            "_view_module": "@jupyter-widgets/base",
            "_view_module_version": "1.2.0",
            "_view_name": "LayoutView",
            "align_content": null,
            "align_items": null,
            "align_self": null,
            "border": null,
            "bottom": null,
            "display": null,
            "flex": null,
            "flex_flow": null,
            "grid_area": null,
            "grid_auto_columns": null,
            "grid_auto_flow": null,
            "grid_auto_rows": null,
            "grid_column": null,
            "grid_gap": null,
            "grid_row": null,
            "grid_template_areas": null,
            "grid_template_columns": null,
            "grid_template_rows": null,
            "height": null,
            "justify_content": null,
            "justify_items": null,
            "left": null,
            "margin": null,
            "max_height": null,
            "max_width": null,
            "min_height": null,
            "min_width": null,
            "object_fit": null,
            "object_position": null,
            "order": null,
            "overflow": null,
            "overflow_x": null,
            "overflow_y": null,
            "padding": null,
            "right": null,
            "top": null,
            "visibility": null,
            "width": null
          }
        },
        "4c7880bcb55d4bc2acaa425e968df901": {
          "model_module": "@jupyter-widgets/controls",
          "model_module_version": "1.5.0",
          "model_name": "HTMLModel",
          "state": {
            "_dom_classes": [],
            "_model_module": "@jupyter-widgets/controls",
            "_model_module_version": "1.5.0",
            "_model_name": "HTMLModel",
            "_view_count": null,
            "_view_module": "@jupyter-widgets/controls",
            "_view_module_version": "1.5.0",
            "_view_name": "HTMLView",
            "description": "",
            "description_tooltip": null,
            "layout": "IPY_MODEL_efc88785df8848efa4242f5af022b0aa",
            "placeholder": "​",
            "style": "IPY_MODEL_fb17fffda3574592b5396833307ef351",
            "value": "Downloading pytorch_model.bin: 100%"
          }
        },
        "55421be427a14ba4894650db34167b4b": {
          "model_module": "@jupyter-widgets/controls",
          "model_module_version": "1.5.0",
          "model_name": "DescriptionStyleModel",
          "state": {
            "_model_module": "@jupyter-widgets/controls",
            "_model_module_version": "1.5.0",
            "_model_name": "DescriptionStyleModel",
            "_view_count": null,
            "_view_module": "@jupyter-widgets/base",
            "_view_module_version": "1.2.0",
            "_view_name": "StyleView",
            "description_width": ""
          }
        },
        "5cd90fd90e7b4cf5a2bd4383602b3327": {
          "model_module": "@jupyter-widgets/controls",
          "model_module_version": "1.5.0",
          "model_name": "HTMLModel",
          "state": {
            "_dom_classes": [],
            "_model_module": "@jupyter-widgets/controls",
            "_model_module_version": "1.5.0",
            "_model_name": "HTMLModel",
            "_view_count": null,
            "_view_module": "@jupyter-widgets/controls",
            "_view_module_version": "1.5.0",
            "_view_name": "HTMLView",
            "description": "",
            "description_tooltip": null,
            "layout": "IPY_MODEL_856752bf27e346c3890fa3eb114f4312",
            "placeholder": "​",
            "style": "IPY_MODEL_55421be427a14ba4894650db34167b4b",
            "value": " 213k/213k [00:00&lt;00:00, 1.31MB/s]"
          }
        },
        "5fb3b43304fb42b589d4a74c57f227e2": {
          "model_module": "@jupyter-widgets/controls",
          "model_module_version": "1.5.0",
          "model_name": "ProgressStyleModel",
          "state": {
            "_model_module": "@jupyter-widgets/controls",
            "_model_module_version": "1.5.0",
            "_model_name": "ProgressStyleModel",
            "_view_count": null,
            "_view_module": "@jupyter-widgets/base",
            "_view_module_version": "1.2.0",
            "_view_name": "StyleView",
            "bar_color": null,
            "description_width": ""
          }
        },
        "5ff8f3861ef24ce4bfae0cb8128a85c7": {
          "model_module": "@jupyter-widgets/base",
          "model_module_version": "1.2.0",
          "model_name": "LayoutModel",
          "state": {
            "_model_module": "@jupyter-widgets/base",
            "_model_module_version": "1.2.0",
            "_model_name": "LayoutModel",
            "_view_count": null,
            "_view_module": "@jupyter-widgets/base",
            "_view_module_version": "1.2.0",
            "_view_name": "LayoutView",
            "align_content": null,
            "align_items": null,
            "align_self": null,
            "border": null,
            "bottom": null,
            "display": null,
            "flex": null,
            "flex_flow": null,
            "grid_area": null,
            "grid_auto_columns": null,
            "grid_auto_flow": null,
            "grid_auto_rows": null,
            "grid_column": null,
            "grid_gap": null,
            "grid_row": null,
            "grid_template_areas": null,
            "grid_template_columns": null,
            "grid_template_rows": null,
            "height": null,
            "justify_content": null,
            "justify_items": null,
            "left": null,
            "margin": null,
            "max_height": null,
            "max_width": null,
            "min_height": null,
            "min_width": null,
            "object_fit": null,
            "object_position": null,
            "order": null,
            "overflow": null,
            "overflow_x": null,
            "overflow_y": null,
            "padding": null,
            "right": null,
            "top": null,
            "visibility": null,
            "width": null
          }
        },
        "65b7261f506547fd89bb31f2d5f03855": {
          "model_module": "@jupyter-widgets/controls",
          "model_module_version": "1.5.0",
          "model_name": "FloatProgressModel",
          "state": {
            "_dom_classes": [],
            "_model_module": "@jupyter-widgets/controls",
            "_model_module_version": "1.5.0",
            "_model_name": "FloatProgressModel",
            "_view_count": null,
            "_view_module": "@jupyter-widgets/controls",
            "_view_module_version": "1.5.0",
            "_view_name": "ProgressView",
            "bar_style": "success",
            "description": "",
            "description_tooltip": null,
            "layout": "IPY_MODEL_5ff8f3861ef24ce4bfae0cb8128a85c7",
            "max": 435779157,
            "min": 0,
            "orientation": "horizontal",
            "style": "IPY_MODEL_ae1a237cb330431985a918d31dae1a11",
            "value": 435779157
          }
        },
        "65d660c8b6b3446893bb89fcdd42ba6b": {
          "model_module": "@jupyter-widgets/controls",
          "model_module_version": "1.5.0",
          "model_name": "DescriptionStyleModel",
          "state": {
            "_model_module": "@jupyter-widgets/controls",
            "_model_module_version": "1.5.0",
            "_model_name": "DescriptionStyleModel",
            "_view_count": null,
            "_view_module": "@jupyter-widgets/base",
            "_view_module_version": "1.2.0",
            "_view_name": "StyleView",
            "description_width": ""
          }
        },
        "6f5cc31dbb37423e81143e43a8970ca3": {
          "model_module": "@jupyter-widgets/controls",
          "model_module_version": "1.5.0",
          "model_name": "HBoxModel",
          "state": {
            "_dom_classes": [],
            "_model_module": "@jupyter-widgets/controls",
            "_model_module_version": "1.5.0",
            "_model_name": "HBoxModel",
            "_view_count": null,
            "_view_module": "@jupyter-widgets/controls",
            "_view_module_version": "1.5.0",
            "_view_name": "HBoxView",
            "box_style": "",
            "children": [
              "IPY_MODEL_2163460e8cdf4b8c8b459e4251d96d0f",
              "IPY_MODEL_8cbe10aa28dc4b81a8a9163b276c9486",
              "IPY_MODEL_107567711d404390b24f24e116c01fe7"
            ],
            "layout": "IPY_MODEL_3ec6a16d1323497ca62269c5a1221b41"
          }
        },
        "6fed445dbd044671a875d99e7b4118cb": {
          "model_module": "@jupyter-widgets/controls",
          "model_module_version": "1.5.0",
          "model_name": "HBoxModel",
          "state": {
            "_dom_classes": [],
            "_model_module": "@jupyter-widgets/controls",
            "_model_module_version": "1.5.0",
            "_model_name": "HBoxModel",
            "_view_count": null,
            "_view_module": "@jupyter-widgets/controls",
            "_view_module_version": "1.5.0",
            "_view_name": "HBoxView",
            "box_style": "",
            "children": [
              "IPY_MODEL_4c7880bcb55d4bc2acaa425e968df901",
              "IPY_MODEL_65b7261f506547fd89bb31f2d5f03855",
              "IPY_MODEL_34e75810a17842fab1b34176261a9f84"
            ],
            "layout": "IPY_MODEL_bfe8fe1e263d470c89f86a566ff5c60d"
          }
        },
        "7176c179c2544c1f90d8595ae64b6911": {
          "model_module": "@jupyter-widgets/controls",
          "model_module_version": "1.5.0",
          "model_name": "HBoxModel",
          "state": {
            "_dom_classes": [],
            "_model_module": "@jupyter-widgets/controls",
            "_model_module_version": "1.5.0",
            "_model_name": "HBoxModel",
            "_view_count": null,
            "_view_module": "@jupyter-widgets/controls",
            "_view_module_version": "1.5.0",
            "_view_name": "HBoxView",
            "box_style": "",
            "children": [
              "IPY_MODEL_eb9d3199cc44403fadca825ce54ba9c7",
              "IPY_MODEL_d82f5cedda4442d2abdecf78fb6b89dc",
              "IPY_MODEL_5cd90fd90e7b4cf5a2bd4383602b3327"
            ],
            "layout": "IPY_MODEL_22b4a12a22934259b5ab6e2733ee49a3"
          }
        },
        "7b2a4c05237f432b9a16a1299d192a6d": {
          "model_module": "@jupyter-widgets/controls",
          "model_module_version": "1.5.0",
          "model_name": "FloatProgressModel",
          "state": {
            "_dom_classes": [],
            "_model_module": "@jupyter-widgets/controls",
            "_model_module_version": "1.5.0",
            "_model_name": "FloatProgressModel",
            "_view_count": null,
            "_view_module": "@jupyter-widgets/controls",
            "_view_module_version": "1.5.0",
            "_view_name": "ProgressView",
            "bar_style": "success",
            "description": "",
            "description_tooltip": null,
            "layout": "IPY_MODEL_c9368c86f1b34a42b8cfb71a7fb21090",
            "max": 29,
            "min": 0,
            "orientation": "horizontal",
            "style": "IPY_MODEL_f71b710adbba40f3ae650a0158f94217",
            "value": 29
          }
        },
        "856752bf27e346c3890fa3eb114f4312": {
          "model_module": "@jupyter-widgets/base",
          "model_module_version": "1.2.0",
          "model_name": "LayoutModel",
          "state": {
            "_model_module": "@jupyter-widgets/base",
            "_model_module_version": "1.2.0",
            "_model_name": "LayoutModel",
            "_view_count": null,
            "_view_module": "@jupyter-widgets/base",
            "_view_module_version": "1.2.0",
            "_view_name": "LayoutView",
            "align_content": null,
            "align_items": null,
            "align_self": null,
            "border": null,
            "bottom": null,
            "display": null,
            "flex": null,
            "flex_flow": null,
            "grid_area": null,
            "grid_auto_columns": null,
            "grid_auto_flow": null,
            "grid_auto_rows": null,
            "grid_column": null,
            "grid_gap": null,
            "grid_row": null,
            "grid_template_areas": null,
            "grid_template_columns": null,
            "grid_template_rows": null,
            "height": null,
            "justify_content": null,
            "justify_items": null,
            "left": null,
            "margin": null,
            "max_height": null,
            "max_width": null,
            "min_height": null,
            "min_width": null,
            "object_fit": null,
            "object_position": null,
            "order": null,
            "overflow": null,
            "overflow_x": null,
            "overflow_y": null,
            "padding": null,
            "right": null,
            "top": null,
            "visibility": null,
            "width": null
          }
        },
        "8baa47029fc2437c9f02f388ac51d931": {
          "model_module": "@jupyter-widgets/controls",
          "model_module_version": "1.5.0",
          "model_name": "ProgressStyleModel",
          "state": {
            "_model_module": "@jupyter-widgets/controls",
            "_model_module_version": "1.5.0",
            "_model_name": "ProgressStyleModel",
            "_view_count": null,
            "_view_module": "@jupyter-widgets/base",
            "_view_module_version": "1.2.0",
            "_view_name": "StyleView",
            "bar_color": null,
            "description_width": ""
          }
        },
        "8cbe10aa28dc4b81a8a9163b276c9486": {
          "model_module": "@jupyter-widgets/controls",
          "model_module_version": "1.5.0",
          "model_name": "FloatProgressModel",
          "state": {
            "_dom_classes": [],
            "_model_module": "@jupyter-widgets/controls",
            "_model_module_version": "1.5.0",
            "_model_name": "FloatProgressModel",
            "_view_count": null,
            "_view_module": "@jupyter-widgets/controls",
            "_view_module_version": "1.5.0",
            "_view_name": "ProgressView",
            "bar_style": "success",
            "description": "",
            "description_tooltip": null,
            "layout": "IPY_MODEL_e0e9a0f4bb5a444e9c5299656e932fc1",
            "max": 570,
            "min": 0,
            "orientation": "horizontal",
            "style": "IPY_MODEL_5fb3b43304fb42b589d4a74c57f227e2",
            "value": 570
          }
        },
        "9b575196f8994a938793ca404fcf07b8": {
          "model_module": "@jupyter-widgets/base",
          "model_module_version": "1.2.0",
          "model_name": "LayoutModel",
          "state": {
            "_model_module": "@jupyter-widgets/base",
            "_model_module_version": "1.2.0",
            "_model_name": "LayoutModel",
            "_view_count": null,
            "_view_module": "@jupyter-widgets/base",
            "_view_module_version": "1.2.0",
            "_view_name": "LayoutView",
            "align_content": null,
            "align_items": null,
            "align_self": null,
            "border": null,
            "bottom": null,
            "display": null,
            "flex": null,
            "flex_flow": null,
            "grid_area": null,
            "grid_auto_columns": null,
            "grid_auto_flow": null,
            "grid_auto_rows": null,
            "grid_column": null,
            "grid_gap": null,
            "grid_row": null,
            "grid_template_areas": null,
            "grid_template_columns": null,
            "grid_template_rows": null,
            "height": null,
            "justify_content": null,
            "justify_items": null,
            "left": null,
            "margin": null,
            "max_height": null,
            "max_width": null,
            "min_height": null,
            "min_width": null,
            "object_fit": null,
            "object_position": null,
            "order": null,
            "overflow": null,
            "overflow_x": null,
            "overflow_y": null,
            "padding": null,
            "right": null,
            "top": null,
            "visibility": null,
            "width": null
          }
        },
        "a19cb9558381428ab77151b832aa1ef0": {
          "model_module": "@jupyter-widgets/base",
          "model_module_version": "1.2.0",
          "model_name": "LayoutModel",
          "state": {
            "_model_module": "@jupyter-widgets/base",
            "_model_module_version": "1.2.0",
            "_model_name": "LayoutModel",
            "_view_count": null,
            "_view_module": "@jupyter-widgets/base",
            "_view_module_version": "1.2.0",
            "_view_name": "LayoutView",
            "align_content": null,
            "align_items": null,
            "align_self": null,
            "border": null,
            "bottom": null,
            "display": null,
            "flex": null,
            "flex_flow": null,
            "grid_area": null,
            "grid_auto_columns": null,
            "grid_auto_flow": null,
            "grid_auto_rows": null,
            "grid_column": null,
            "grid_gap": null,
            "grid_row": null,
            "grid_template_areas": null,
            "grid_template_columns": null,
            "grid_template_rows": null,
            "height": null,
            "justify_content": null,
            "justify_items": null,
            "left": null,
            "margin": null,
            "max_height": null,
            "max_width": null,
            "min_height": null,
            "min_width": null,
            "object_fit": null,
            "object_position": null,
            "order": null,
            "overflow": null,
            "overflow_x": null,
            "overflow_y": null,
            "padding": null,
            "right": null,
            "top": null,
            "visibility": null,
            "width": null
          }
        },
        "ae1a237cb330431985a918d31dae1a11": {
          "model_module": "@jupyter-widgets/controls",
          "model_module_version": "1.5.0",
          "model_name": "ProgressStyleModel",
          "state": {
            "_model_module": "@jupyter-widgets/controls",
            "_model_module_version": "1.5.0",
            "_model_name": "ProgressStyleModel",
            "_view_count": null,
            "_view_module": "@jupyter-widgets/base",
            "_view_module_version": "1.2.0",
            "_view_name": "StyleView",
            "bar_color": null,
            "description_width": ""
          }
        },
        "aff5731eafd04d61ba5cb2344bb84060": {
          "model_module": "@jupyter-widgets/base",
          "model_module_version": "1.2.0",
          "model_name": "LayoutModel",
          "state": {
            "_model_module": "@jupyter-widgets/base",
            "_model_module_version": "1.2.0",
            "_model_name": "LayoutModel",
            "_view_count": null,
            "_view_module": "@jupyter-widgets/base",
            "_view_module_version": "1.2.0",
            "_view_name": "LayoutView",
            "align_content": null,
            "align_items": null,
            "align_self": null,
            "border": null,
            "bottom": null,
            "display": null,
            "flex": null,
            "flex_flow": null,
            "grid_area": null,
            "grid_auto_columns": null,
            "grid_auto_flow": null,
            "grid_auto_rows": null,
            "grid_column": null,
            "grid_gap": null,
            "grid_row": null,
            "grid_template_areas": null,
            "grid_template_columns": null,
            "grid_template_rows": null,
            "height": null,
            "justify_content": null,
            "justify_items": null,
            "left": null,
            "margin": null,
            "max_height": null,
            "max_width": null,
            "min_height": null,
            "min_width": null,
            "object_fit": null,
            "object_position": null,
            "order": null,
            "overflow": null,
            "overflow_x": null,
            "overflow_y": null,
            "padding": null,
            "right": null,
            "top": null,
            "visibility": null,
            "width": null
          }
        },
        "bfe8fe1e263d470c89f86a566ff5c60d": {
          "model_module": "@jupyter-widgets/base",
          "model_module_version": "1.2.0",
          "model_name": "LayoutModel",
          "state": {
            "_model_module": "@jupyter-widgets/base",
            "_model_module_version": "1.2.0",
            "_model_name": "LayoutModel",
            "_view_count": null,
            "_view_module": "@jupyter-widgets/base",
            "_view_module_version": "1.2.0",
            "_view_name": "LayoutView",
            "align_content": null,
            "align_items": null,
            "align_self": null,
            "border": null,
            "bottom": null,
            "display": null,
            "flex": null,
            "flex_flow": null,
            "grid_area": null,
            "grid_auto_columns": null,
            "grid_auto_flow": null,
            "grid_auto_rows": null,
            "grid_column": null,
            "grid_gap": null,
            "grid_row": null,
            "grid_template_areas": null,
            "grid_template_columns": null,
            "grid_template_rows": null,
            "height": null,
            "justify_content": null,
            "justify_items": null,
            "left": null,
            "margin": null,
            "max_height": null,
            "max_width": null,
            "min_height": null,
            "min_width": null,
            "object_fit": null,
            "object_position": null,
            "order": null,
            "overflow": null,
            "overflow_x": null,
            "overflow_y": null,
            "padding": null,
            "right": null,
            "top": null,
            "visibility": null,
            "width": null
          }
        },
        "c9368c86f1b34a42b8cfb71a7fb21090": {
          "model_module": "@jupyter-widgets/base",
          "model_module_version": "1.2.0",
          "model_name": "LayoutModel",
          "state": {
            "_model_module": "@jupyter-widgets/base",
            "_model_module_version": "1.2.0",
            "_model_name": "LayoutModel",
            "_view_count": null,
            "_view_module": "@jupyter-widgets/base",
            "_view_module_version": "1.2.0",
            "_view_name": "LayoutView",
            "align_content": null,
            "align_items": null,
            "align_self": null,
            "border": null,
            "bottom": null,
            "display": null,
            "flex": null,
            "flex_flow": null,
            "grid_area": null,
            "grid_auto_columns": null,
            "grid_auto_flow": null,
            "grid_auto_rows": null,
            "grid_column": null,
            "grid_gap": null,
            "grid_row": null,
            "grid_template_areas": null,
            "grid_template_columns": null,
            "grid_template_rows": null,
            "height": null,
            "justify_content": null,
            "justify_items": null,
            "left": null,
            "margin": null,
            "max_height": null,
            "max_width": null,
            "min_height": null,
            "min_width": null,
            "object_fit": null,
            "object_position": null,
            "order": null,
            "overflow": null,
            "overflow_x": null,
            "overflow_y": null,
            "padding": null,
            "right": null,
            "top": null,
            "visibility": null,
            "width": null
          }
        },
        "cbfaf8f83224463ebe375071f391d840": {
          "model_module": "@jupyter-widgets/controls",
          "model_module_version": "1.5.0",
          "model_name": "HBoxModel",
          "state": {
            "_dom_classes": [],
            "_model_module": "@jupyter-widgets/controls",
            "_model_module_version": "1.5.0",
            "_model_name": "HBoxModel",
            "_view_count": null,
            "_view_module": "@jupyter-widgets/controls",
            "_view_module_version": "1.5.0",
            "_view_name": "HBoxView",
            "box_style": "",
            "children": [
              "IPY_MODEL_17a9bae4ba6b4ea1a32f33e45cec64f8",
              "IPY_MODEL_7b2a4c05237f432b9a16a1299d192a6d",
              "IPY_MODEL_37991897796f4bbcb5b3ee78a1710b60"
            ],
            "layout": "IPY_MODEL_0ac9dfc2fce94fb182224705902fa400"
          }
        },
        "d00951f2c39141b5b41ebe666d7ed672": {
          "model_module": "@jupyter-widgets/base",
          "model_module_version": "1.2.0",
          "model_name": "LayoutModel",
          "state": {
            "_model_module": "@jupyter-widgets/base",
            "_model_module_version": "1.2.0",
            "_model_name": "LayoutModel",
            "_view_count": null,
            "_view_module": "@jupyter-widgets/base",
            "_view_module_version": "1.2.0",
            "_view_name": "LayoutView",
            "align_content": null,
            "align_items": null,
            "align_self": null,
            "border": null,
            "bottom": null,
            "display": null,
            "flex": null,
            "flex_flow": null,
            "grid_area": null,
            "grid_auto_columns": null,
            "grid_auto_flow": null,
            "grid_auto_rows": null,
            "grid_column": null,
            "grid_gap": null,
            "grid_row": null,
            "grid_template_areas": null,
            "grid_template_columns": null,
            "grid_template_rows": null,
            "height": null,
            "justify_content": null,
            "justify_items": null,
            "left": null,
            "margin": null,
            "max_height": null,
            "max_width": null,
            "min_height": null,
            "min_width": null,
            "object_fit": null,
            "object_position": null,
            "order": null,
            "overflow": null,
            "overflow_x": null,
            "overflow_y": null,
            "padding": null,
            "right": null,
            "top": null,
            "visibility": null,
            "width": null
          }
        },
        "d7b5e92dffd840feb9aca6ed35cecdc1": {
          "model_module": "@jupyter-widgets/controls",
          "model_module_version": "1.5.0",
          "model_name": "DescriptionStyleModel",
          "state": {
            "_model_module": "@jupyter-widgets/controls",
            "_model_module_version": "1.5.0",
            "_model_name": "DescriptionStyleModel",
            "_view_count": null,
            "_view_module": "@jupyter-widgets/base",
            "_view_module_version": "1.2.0",
            "_view_name": "StyleView",
            "description_width": ""
          }
        },
        "d82f5cedda4442d2abdecf78fb6b89dc": {
          "model_module": "@jupyter-widgets/controls",
          "model_module_version": "1.5.0",
          "model_name": "FloatProgressModel",
          "state": {
            "_dom_classes": [],
            "_model_module": "@jupyter-widgets/controls",
            "_model_module_version": "1.5.0",
            "_model_name": "FloatProgressModel",
            "_view_count": null,
            "_view_module": "@jupyter-widgets/controls",
            "_view_module_version": "1.5.0",
            "_view_name": "ProgressView",
            "bar_style": "success",
            "description": "",
            "description_tooltip": null,
            "layout": "IPY_MODEL_d00951f2c39141b5b41ebe666d7ed672",
            "max": 213450,
            "min": 0,
            "orientation": "horizontal",
            "style": "IPY_MODEL_8baa47029fc2437c9f02f388ac51d931",
            "value": 213450
          }
        },
        "e0e9a0f4bb5a444e9c5299656e932fc1": {
          "model_module": "@jupyter-widgets/base",
          "model_module_version": "1.2.0",
          "model_name": "LayoutModel",
          "state": {
            "_model_module": "@jupyter-widgets/base",
            "_model_module_version": "1.2.0",
            "_model_name": "LayoutModel",
            "_view_count": null,
            "_view_module": "@jupyter-widgets/base",
            "_view_module_version": "1.2.0",
            "_view_name": "LayoutView",
            "align_content": null,
            "align_items": null,
            "align_self": null,
            "border": null,
            "bottom": null,
            "display": null,
            "flex": null,
            "flex_flow": null,
            "grid_area": null,
            "grid_auto_columns": null,
            "grid_auto_flow": null,
            "grid_auto_rows": null,
            "grid_column": null,
            "grid_gap": null,
            "grid_row": null,
            "grid_template_areas": null,
            "grid_template_columns": null,
            "grid_template_rows": null,
            "height": null,
            "justify_content": null,
            "justify_items": null,
            "left": null,
            "margin": null,
            "max_height": null,
            "max_width": null,
            "min_height": null,
            "min_width": null,
            "object_fit": null,
            "object_position": null,
            "order": null,
            "overflow": null,
            "overflow_x": null,
            "overflow_y": null,
            "padding": null,
            "right": null,
            "top": null,
            "visibility": null,
            "width": null
          }
        },
        "e393026919174e6e9e51fa36d678c57f": {
          "model_module": "@jupyter-widgets/controls",
          "model_module_version": "1.5.0",
          "model_name": "DescriptionStyleModel",
          "state": {
            "_model_module": "@jupyter-widgets/controls",
            "_model_module_version": "1.5.0",
            "_model_name": "DescriptionStyleModel",
            "_view_count": null,
            "_view_module": "@jupyter-widgets/base",
            "_view_module_version": "1.2.0",
            "_view_name": "StyleView",
            "description_width": ""
          }
        },
        "eb9d3199cc44403fadca825ce54ba9c7": {
          "model_module": "@jupyter-widgets/controls",
          "model_module_version": "1.5.0",
          "model_name": "HTMLModel",
          "state": {
            "_dom_classes": [],
            "_model_module": "@jupyter-widgets/controls",
            "_model_module_version": "1.5.0",
            "_model_name": "HTMLModel",
            "_view_count": null,
            "_view_module": "@jupyter-widgets/controls",
            "_view_module_version": "1.5.0",
            "_view_name": "HTMLView",
            "description": "",
            "description_tooltip": null,
            "layout": "IPY_MODEL_49003665fa584055bdbaceec416f031c",
            "placeholder": "​",
            "style": "IPY_MODEL_3aab9c9a3679469792587f9381c87c1e",
            "value": "Downloading (…)solve/main/vocab.txt: 100%"
          }
        },
        "efc88785df8848efa4242f5af022b0aa": {
          "model_module": "@jupyter-widgets/base",
          "model_module_version": "1.2.0",
          "model_name": "LayoutModel",
          "state": {
            "_model_module": "@jupyter-widgets/base",
            "_model_module_version": "1.2.0",
            "_model_name": "LayoutModel",
            "_view_count": null,
            "_view_module": "@jupyter-widgets/base",
            "_view_module_version": "1.2.0",
            "_view_name": "LayoutView",
            "align_content": null,
            "align_items": null,
            "align_self": null,
            "border": null,
            "bottom": null,
            "display": null,
            "flex": null,
            "flex_flow": null,
            "grid_area": null,
            "grid_auto_columns": null,
            "grid_auto_flow": null,
            "grid_auto_rows": null,
            "grid_column": null,
            "grid_gap": null,
            "grid_row": null,
            "grid_template_areas": null,
            "grid_template_columns": null,
            "grid_template_rows": null,
            "height": null,
            "justify_content": null,
            "justify_items": null,
            "left": null,
            "margin": null,
            "max_height": null,
            "max_width": null,
            "min_height": null,
            "min_width": null,
            "object_fit": null,
            "object_position": null,
            "order": null,
            "overflow": null,
            "overflow_x": null,
            "overflow_y": null,
            "padding": null,
            "right": null,
            "top": null,
            "visibility": null,
            "width": null
          }
        },
        "f71b710adbba40f3ae650a0158f94217": {
          "model_module": "@jupyter-widgets/controls",
          "model_module_version": "1.5.0",
          "model_name": "ProgressStyleModel",
          "state": {
            "_model_module": "@jupyter-widgets/controls",
            "_model_module_version": "1.5.0",
            "_model_name": "ProgressStyleModel",
            "_view_count": null,
            "_view_module": "@jupyter-widgets/base",
            "_view_module_version": "1.2.0",
            "_view_name": "StyleView",
            "bar_color": null,
            "description_width": ""
          }
        },
        "fb17fffda3574592b5396833307ef351": {
          "model_module": "@jupyter-widgets/controls",
          "model_module_version": "1.5.0",
          "model_name": "DescriptionStyleModel",
          "state": {
            "_model_module": "@jupyter-widgets/controls",
            "_model_module_version": "1.5.0",
            "_model_name": "DescriptionStyleModel",
            "_view_count": null,
            "_view_module": "@jupyter-widgets/base",
            "_view_module_version": "1.2.0",
            "_view_name": "StyleView",
            "description_width": ""
          }
        }
      }
    }
  },
  "nbformat": 4,
  "nbformat_minor": 0
}
