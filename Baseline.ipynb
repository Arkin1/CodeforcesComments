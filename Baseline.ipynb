{
 "cells": [
  {
   "cell_type": "markdown",
   "metadata": {
    "id": "nEE-yM_jA0WB"
   },
   "source": [
    "## Importing libraries"
   ]
  },
  {
   "cell_type": "code",
   "execution_count": 1,
   "metadata": {
    "id": "nLMC4Ma1A0WB"
   },
   "outputs": [],
   "source": [
    "import pandas as pd\n",
    "import seaborn as sns\n",
    "import matplotlib.pyplot as plt\n",
    "import re\n",
    "from sklearn.metrics import classification_report\n",
    "import bs4\n",
    "from collections import defaultdict\n",
    "\n",
    "WORKING_DIR = '.'"
   ]
  },
  {
   "cell_type": "markdown",
   "metadata": {
    "id": "3eCex45dA0WC"
   },
   "source": [
    "# Dataset_educ (EDA)\n",
    "\n",
    "We will determine the type of each column as well as if there are any NaN elements(in case there are, then the dataset is not correctly created)"
   ]
  },
  {
   "cell_type": "code",
   "execution_count": 2,
   "metadata": {
    "colab": {
     "base_uri": "https://localhost:8080/"
    },
    "id": "6_qOeq6mA0WD",
    "outputId": "2a7a136b-c339-4903-e2d1-2be508adfb90"
   },
   "outputs": [
    {
     "name": "stdout",
     "output_type": "stream",
     "text": [
      "<class 'pandas.core.frame.DataFrame'>\n",
      "Index: 937 entries, https://codeforces.com/blog/entry/101161?#comment-898006 to https://codeforces.com/blog/entry/105164?#comment-953522\n",
      "Data columns (total 10 columns):\n",
      " #   Column          Non-Null Count  Dtype         \n",
      "---  ------          --------------  -----         \n",
      " 0   id              937 non-null    int64         \n",
      " 1   father_id       937 non-null    int64         \n",
      " 2   username        937 non-null    object        \n",
      " 3   text            937 non-null    object        \n",
      " 4   comment_rating  937 non-null    int64         \n",
      " 5   timestamp       937 non-null    datetime64[ns]\n",
      " 6   problem         937 non-null    object        \n",
      " 7   label           937 non-null    object        \n",
      " 8   round_id        937 non-null    object        \n",
      " 9   round_name      937 non-null    object        \n",
      "dtypes: datetime64[ns](1), int64(3), object(6)\n",
      "memory usage: 80.5+ KB\n",
      "None\n"
     ]
    }
   ],
   "source": [
    "dataset_educ = pd.read_json(f'{WORKING_DIR}/Dataset_educ_1.1.json', orient = 'index')\n",
    "dataset_div = pd.read_json(f'{WORKING_DIR}/Dataset_div2_final.json', orient = 'index')\n",
    "\n",
    "print(dataset_educ.info())"
   ]
  },
  {
   "cell_type": "code",
   "execution_count": 3,
   "metadata": {},
   "outputs": [],
   "source": [
    "regex_link_ful = re.compile('<a href.*\\/contest/.*/submission/.*<\\/a>')\n",
    "code_regex = re.compile('<code>(\\s|.)*?<\\/code>')\n",
    "def preprocess_for_transfomers(texts, problems):\n",
    "  preprocessed_texts = []\n",
    "  for t, p in zip(texts, problems):\n",
    "    t_codes = code_regex.sub(' (code) ', t)\n",
    "    t_link = regex_link_ful.sub(f' (link to problem {p}) ', t_codes)\n",
    "    bs = bs4.BeautifulSoup(t_link)\n",
    "    preprocessed_texts.append(bs.text)\n",
    "  \n",
    "  return preprocessed_texts\n",
    "\n",
    "dataset_educ.loc[~(dataset_educ['label'] == 'Irrelevant'), 'label'] = 'Relevant'\n",
    "preprocessed_text = preprocess_for_transfomers(dataset_educ['text'], dataset_educ['problem'])\n",
    "dataset_educ[\"preprocessed_text\"] = preprocessed_text\n",
    "\n",
    "dataset_div.loc[~(dataset_div['label'] == 'Irrelevant'), 'label'] = 'Relevant'\n",
    "preprocessed_text = preprocess_for_transfomers(dataset_div['text'], dataset_div['problem'])\n",
    "dataset_div[\"preprocessed_text\"] = preprocessed_text"
   ]
  },
  {
   "cell_type": "code",
   "execution_count": 4,
   "metadata": {
    "id": "jbjC3NuSA0WH"
   },
   "outputs": [],
   "source": [
    "import torch\n",
    "from torch.utils.data.dataset import Dataset\n",
    "from torch.utils.data.dataloader import DataLoader\n",
    "import numpy as np\n",
    "import random\n",
    "RANDOM_SEED = 443\n",
    "DEVICE = \"cuda\"\n",
    "\n",
    "torch.manual_seed(RANDOM_SEED)\n",
    "np.random.seed(RANDOM_SEED)\n",
    "random.seed(RANDOM_SEED)\n",
    "\n",
    "groups = list(dataset_educ.groupby(lambda k : k.split(\"?\")[0]))\n",
    "random.shuffle(groups)\n",
    "\n",
    "train_groups = groups[:10]\n",
    "validation_groups = groups[10:13]\n",
    "test_groups = groups[13:]\n",
    "\n",
    "train_educ_dataset = dataset_educ.loc[[idx for _, g in train_groups for idx in g.index.tolist()]]\n",
    "val_educ_dataset = dataset_educ.loc[[idx for _, g in validation_groups for idx in g.index.tolist()]]\n",
    "test_educ_dataset = dataset_educ.loc[[idx for _, g in test_groups for idx in g.index.tolist()]]\n",
    "\n",
    "from sklearn.preprocessing import LabelEncoder\n",
    "labelEncoder = LabelEncoder()\n",
    "train_encoded_labels = labelEncoder.fit_transform(train_educ_dataset[\"label\"])\n",
    "val_encoded_labels = labelEncoder.transform(val_educ_dataset[\"label\"])\n",
    "test_encoded_labels = labelEncoder.transform(test_educ_dataset[\"label\"])\n",
    "\n",
    "div_encoded_labels = labelEncoder.transform(dataset_div[\"label\"])\n"
   ]
  },
  {
   "cell_type": "code",
   "execution_count": 5,
   "metadata": {
    "colab": {
     "base_uri": "https://localhost:8080/"
    },
    "id": "gopIWK8AA0WI",
    "outputId": "11055b20-29bb-43fd-a313-b27d5c54f22b"
   },
   "outputs": [
    {
     "name": "stdout",
     "output_type": "stream",
     "text": [
      "Number comments with problem:356\n",
      "Number comments with problem:122\n",
      "Number comments with problem:96\n"
     ]
    }
   ],
   "source": [
    "print(f\"Number comments with problem:{len(train_educ_dataset[train_educ_dataset['problem'] != 'Irrelevant'])}\")\n",
    "print(f\"Number comments with problem:{len(val_educ_dataset[val_educ_dataset['problem'] != 'Irrelevant'])}\")\n",
    "print(f\"Number comments with problem:{len(test_educ_dataset[test_educ_dataset['problem'] != 'Irrelevant'])}\")\n"
   ]
  },
  {
   "cell_type": "code",
   "execution_count": 6,
   "metadata": {
    "id": "N1TPt29IFNnS"
   },
   "outputs": [
    {
     "data": {
      "text/html": [
       "<style>#sk-container-id-1 {color: black;}#sk-container-id-1 pre{padding: 0;}#sk-container-id-1 div.sk-toggleable {background-color: white;}#sk-container-id-1 label.sk-toggleable__label {cursor: pointer;display: block;width: 100%;margin-bottom: 0;padding: 0.3em;box-sizing: border-box;text-align: center;}#sk-container-id-1 label.sk-toggleable__label-arrow:before {content: \"▸\";float: left;margin-right: 0.25em;color: #696969;}#sk-container-id-1 label.sk-toggleable__label-arrow:hover:before {color: black;}#sk-container-id-1 div.sk-estimator:hover label.sk-toggleable__label-arrow:before {color: black;}#sk-container-id-1 div.sk-toggleable__content {max-height: 0;max-width: 0;overflow: hidden;text-align: left;background-color: #f0f8ff;}#sk-container-id-1 div.sk-toggleable__content pre {margin: 0.2em;color: black;border-radius: 0.25em;background-color: #f0f8ff;}#sk-container-id-1 input.sk-toggleable__control:checked~div.sk-toggleable__content {max-height: 200px;max-width: 100%;overflow: auto;}#sk-container-id-1 input.sk-toggleable__control:checked~label.sk-toggleable__label-arrow:before {content: \"▾\";}#sk-container-id-1 div.sk-estimator input.sk-toggleable__control:checked~label.sk-toggleable__label {background-color: #d4ebff;}#sk-container-id-1 div.sk-label input.sk-toggleable__control:checked~label.sk-toggleable__label {background-color: #d4ebff;}#sk-container-id-1 input.sk-hidden--visually {border: 0;clip: rect(1px 1px 1px 1px);clip: rect(1px, 1px, 1px, 1px);height: 1px;margin: -1px;overflow: hidden;padding: 0;position: absolute;width: 1px;}#sk-container-id-1 div.sk-estimator {font-family: monospace;background-color: #f0f8ff;border: 1px dotted black;border-radius: 0.25em;box-sizing: border-box;margin-bottom: 0.5em;}#sk-container-id-1 div.sk-estimator:hover {background-color: #d4ebff;}#sk-container-id-1 div.sk-parallel-item::after {content: \"\";width: 100%;border-bottom: 1px solid gray;flex-grow: 1;}#sk-container-id-1 div.sk-label:hover label.sk-toggleable__label {background-color: #d4ebff;}#sk-container-id-1 div.sk-serial::before {content: \"\";position: absolute;border-left: 1px solid gray;box-sizing: border-box;top: 0;bottom: 0;left: 50%;z-index: 0;}#sk-container-id-1 div.sk-serial {display: flex;flex-direction: column;align-items: center;background-color: white;padding-right: 0.2em;padding-left: 0.2em;position: relative;}#sk-container-id-1 div.sk-item {position: relative;z-index: 1;}#sk-container-id-1 div.sk-parallel {display: flex;align-items: stretch;justify-content: center;background-color: white;position: relative;}#sk-container-id-1 div.sk-item::before, #sk-container-id-1 div.sk-parallel-item::before {content: \"\";position: absolute;border-left: 1px solid gray;box-sizing: border-box;top: 0;bottom: 0;left: 50%;z-index: -1;}#sk-container-id-1 div.sk-parallel-item {display: flex;flex-direction: column;z-index: 1;position: relative;background-color: white;}#sk-container-id-1 div.sk-parallel-item:first-child::after {align-self: flex-end;width: 50%;}#sk-container-id-1 div.sk-parallel-item:last-child::after {align-self: flex-start;width: 50%;}#sk-container-id-1 div.sk-parallel-item:only-child::after {width: 0;}#sk-container-id-1 div.sk-dashed-wrapped {border: 1px dashed gray;margin: 0 0.4em 0.5em 0.4em;box-sizing: border-box;padding-bottom: 0.4em;background-color: white;}#sk-container-id-1 div.sk-label label {font-family: monospace;font-weight: bold;display: inline-block;line-height: 1.2em;}#sk-container-id-1 div.sk-label-container {text-align: center;}#sk-container-id-1 div.sk-container {/* jupyter's `normalize.less` sets `[hidden] { display: none; }` but bootstrap.min.css set `[hidden] { display: none !important; }` so we also need the `!important` here to be able to override the default hidden behavior on the sphinx rendered scikit-learn.org. See: https://github.com/scikit-learn/scikit-learn/issues/21755 */display: inline-block !important;position: relative;}#sk-container-id-1 div.sk-text-repr-fallback {display: none;}</style><div id=\"sk-container-id-1\" class=\"sk-top-container\"><div class=\"sk-text-repr-fallback\"><pre>TfidfVectorizer(stop_words=&#x27;english&#x27;)</pre><b>In a Jupyter environment, please rerun this cell to show the HTML representation or trust the notebook. <br />On GitHub, the HTML representation is unable to render, please try loading this page with nbviewer.org.</b></div><div class=\"sk-container\" hidden><div class=\"sk-item\"><div class=\"sk-estimator sk-toggleable\"><input class=\"sk-toggleable__control sk-hidden--visually\" id=\"sk-estimator-id-1\" type=\"checkbox\" checked><label for=\"sk-estimator-id-1\" class=\"sk-toggleable__label sk-toggleable__label-arrow\">TfidfVectorizer</label><div class=\"sk-toggleable__content\"><pre>TfidfVectorizer(stop_words=&#x27;english&#x27;)</pre></div></div></div></div></div>"
      ],
      "text/plain": [
       "TfidfVectorizer(stop_words='english')"
      ]
     },
     "execution_count": 6,
     "metadata": {},
     "output_type": "execute_result"
    }
   ],
   "source": [
    "from sklearn.feature_extraction.text import TfidfVectorizer\n",
    "from sklearn.preprocessing import LabelEncoder\n",
    "import numpy as np\n",
    "\n",
    "vectorizer = TfidfVectorizer(stop_words = 'english')\n",
    "vectorizer.fit(train_educ_dataset['preprocessed_text'])"
   ]
  },
  {
   "cell_type": "code",
   "execution_count": 7,
   "metadata": {},
   "outputs": [],
   "source": [
    "import numpy as np\n",
    "train_X = np.asarray(vectorizer.transform(train_educ_dataset['preprocessed_text']).todense())\n",
    "validate_X = np.asarray(vectorizer.transform(val_educ_dataset['preprocessed_text']).todense())\n",
    "test_X = np.asarray(vectorizer.transform(test_educ_dataset['preprocessed_text']).todense())\n",
    "\n",
    "div_X = np.asarray(vectorizer.transform(dataset_div['preprocessed_text']).todense())"
   ]
  },
  {
   "cell_type": "code",
   "execution_count": 8,
   "metadata": {
    "colab": {
     "base_uri": "https://localhost:8080/"
    },
    "id": "Sql2Jl86Gwpf",
    "outputId": "e72e17fa-16bc-4feb-97e9-8018588771ab"
   },
   "outputs": [
    {
     "name": "stdout",
     "output_type": "stream",
     "text": [
      "              precision    recall  f1-score   support\n",
      "\n",
      "           0       0.67      0.81      0.73        74\n",
      "           1       0.85      0.73      0.79       112\n",
      "\n",
      "    accuracy                           0.76       186\n",
      "   macro avg       0.76      0.77      0.76       186\n",
      "weighted avg       0.78      0.76      0.77       186\n",
      "\n"
     ]
    }
   ],
   "source": [
    "from sklearn.ensemble import RandomForestClassifier\n",
    "\n",
    "rf = RandomForestClassifier(min_samples_leaf = 4, class_weight='balanced_subsample', random_state=24, max_features = 60)\n",
    "rf.fit(train_X, train_encoded_labels)\n",
    "\n",
    "predicted_Y = rf.predict(validate_X)\n",
    "\n",
    "print(classification_report(val_encoded_labels, predicted_Y))\n",
    "\n",
    "forest_importances = pd.Series(rf.feature_importances_, index=vectorizer.get_feature_names_out())"
   ]
  },
  {
   "cell_type": "code",
   "execution_count": 9,
   "metadata": {},
   "outputs": [
    {
     "name": "stdout",
     "output_type": "stream",
     "text": [
      "              precision    recall  f1-score   support\n",
      "\n",
      "           0       0.70      0.82      0.76        74\n",
      "           1       0.82      0.70      0.75        86\n",
      "\n",
      "    accuracy                           0.76       160\n",
      "   macro avg       0.76      0.76      0.76       160\n",
      "weighted avg       0.77      0.76      0.76       160\n",
      "\n"
     ]
    }
   ],
   "source": [
    "predicted_Y = rf.predict(test_X)\n",
    "print(classification_report(test_encoded_labels, predicted_Y))"
   ]
  },
  {
   "cell_type": "code",
   "execution_count": 10,
   "metadata": {},
   "outputs": [
    {
     "name": "stdout",
     "output_type": "stream",
     "text": [
      "              precision    recall  f1-score   support\n",
      "\n",
      "           0       0.88      0.73      0.80       393\n",
      "           1       0.41      0.66      0.50       111\n",
      "\n",
      "    accuracy                           0.71       504\n",
      "   macro avg       0.65      0.69      0.65       504\n",
      "weighted avg       0.78      0.71      0.73       504\n",
      "\n"
     ]
    }
   ],
   "source": [
    "predicted_Y = rf.predict(div_X)\n",
    "print(classification_report(div_encoded_labels, predicted_Y))"
   ]
  }
 ],
 "metadata": {
  "colab": {
   "provenance": []
  },
  "gpuClass": "standard",
  "kernelspec": {
   "display_name": "Python 3 (ipykernel)",
   "language": "python",
   "name": "python3"
  },
  "language_info": {
   "codemirror_mode": {
    "name": "ipython",
    "version": 3
   },
   "file_extension": ".py",
   "mimetype": "text/x-python",
   "name": "python",
   "nbconvert_exporter": "python",
   "pygments_lexer": "ipython3",
   "version": "3.9.7"
  },
  "vscode": {
   "interpreter": {
    "hash": "259697ca15dba3bdee1251769ee50403cdc14449d4679f1ae234c213280e302b"
   }
  }
 },
 "nbformat": 4,
 "nbformat_minor": 4
}
